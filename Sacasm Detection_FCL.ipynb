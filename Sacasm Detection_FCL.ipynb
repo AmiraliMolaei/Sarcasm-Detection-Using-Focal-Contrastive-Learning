{
  "cells": [
    {
      "cell_type": "code",
      "execution_count": 1,
      "metadata": {
        "id": "cbZ8TWkwnJnU"
      },
      "outputs": [],
      "source": [
        "%%capture\n",
        "!pip install transformers\n",
        "!pip install emoji\n",
        "# import libraries\n",
        "import random\n",
        "import time\n",
        "import numpy as np\n",
        "from sklearn.metrics.pairwise import cosine_similarity\n",
        "import pandas as pd\n",
        "import re\n",
        "import torch\n",
        "import emoji\n",
        "\n",
        "from torch.utils.data import TensorDataset, DataLoader, RandomSampler, SequentialSampler\n",
        "from torch import nn, optim, tensor\n",
        "from transformers import BertModel , RobertaModel , XLNetModel , ElectraModel , DebertaModel , AlbertModel\n",
        "from transformers import AdamW, get_linear_schedule_with_warmup\n",
        "import torch.nn.functional as F\n",
        "import matplotlib.pyplot as plt\n",
        "from sklearn.metrics import confusion_matrix\n",
        "import seaborn as sn\n",
        "from sklearn.metrics import accuracy_score, recall_score, precision_score, f1_score"
      ]
    },
    {
      "cell_type": "markdown",
      "metadata": {
        "id": "V9JvHrhffNg0"
      },
      "source": [
        "We use the publicly available [iSarcasmEval](https://github.com/iabufarha/iSarcasmEval) dataset.\n"
      ]
    },
    {
      "cell_type": "code",
      "execution_count": 2,
      "metadata": {
        "id": "dM3tvE838vFY"
      },
      "outputs": [],
      "source": [
        "data_train = pd.read_csv('/content/drive/MyDrive/Datasets/ISarcasmEval-main/train.En.csv')\n",
        "data_test = pd.read_csv('/content/drive/MyDrive/Datasets/ISarcasmEval-main/task_A_En_test.csv')\n"
      ]
    },
    {
      "cell_type": "code",
      "execution_count": 3,
      "metadata": {
        "colab": {
          "base_uri": "https://localhost:8080/",
          "height": 642
        },
        "id": "mKSHM7Vifw4_",
        "outputId": "2d340531-1bda-49bb-c51d-86cfd0e2e2a4"
      },
      "outputs": [
        {
          "output_type": "execute_result",
          "data": {
            "text/plain": [
              "   Unnamed: 0                                              tweet  sarcastic  \\\n",
              "0           0  The only thing I got from college is a caffein...          1   \n",
              "1           1  I love it when professors draw a big question ...          1   \n",
              "2           2  Remember the hundred emails from companies whe...          1   \n",
              "3           3  Today my pop-pop told me I was not “forced” to...          1   \n",
              "4           4  @VolphanCarol @littlewhitty @mysticalmanatee I...          1   \n",
              "\n",
              "                                            rephrase  sarcasm  irony  satire  \\\n",
              "0  College is really difficult, expensive, tiring...      0.0    1.0     0.0   \n",
              "1  I do not like when professors don’t write out ...      1.0    0.0     0.0   \n",
              "2  I, at the bare minimum, wish companies actuall...      0.0    1.0     0.0   \n",
              "3  Today my pop-pop told me I was not \"forced\" to...      1.0    0.0     0.0   \n",
              "4  I would say Ted Cruz is an asshole and doesn’t...      1.0    0.0     0.0   \n",
              "\n",
              "   understatement  overstatement  rhetorical_question  \n",
              "0             0.0            0.0                  0.0  \n",
              "1             0.0            0.0                  0.0  \n",
              "2             0.0            0.0                  0.0  \n",
              "3             0.0            0.0                  0.0  \n",
              "4             0.0            0.0                  0.0  "
            ],
            "text/html": [
              "\n",
              "  <div id=\"df-bc504e3e-e5b4-4c9a-aec4-352fc274b593\" class=\"colab-df-container\">\n",
              "    <div>\n",
              "<style scoped>\n",
              "    .dataframe tbody tr th:only-of-type {\n",
              "        vertical-align: middle;\n",
              "    }\n",
              "\n",
              "    .dataframe tbody tr th {\n",
              "        vertical-align: top;\n",
              "    }\n",
              "\n",
              "    .dataframe thead th {\n",
              "        text-align: right;\n",
              "    }\n",
              "</style>\n",
              "<table border=\"1\" class=\"dataframe\">\n",
              "  <thead>\n",
              "    <tr style=\"text-align: right;\">\n",
              "      <th></th>\n",
              "      <th>Unnamed: 0</th>\n",
              "      <th>tweet</th>\n",
              "      <th>sarcastic</th>\n",
              "      <th>rephrase</th>\n",
              "      <th>sarcasm</th>\n",
              "      <th>irony</th>\n",
              "      <th>satire</th>\n",
              "      <th>understatement</th>\n",
              "      <th>overstatement</th>\n",
              "      <th>rhetorical_question</th>\n",
              "    </tr>\n",
              "  </thead>\n",
              "  <tbody>\n",
              "    <tr>\n",
              "      <th>0</th>\n",
              "      <td>0</td>\n",
              "      <td>The only thing I got from college is a caffein...</td>\n",
              "      <td>1</td>\n",
              "      <td>College is really difficult, expensive, tiring...</td>\n",
              "      <td>0.0</td>\n",
              "      <td>1.0</td>\n",
              "      <td>0.0</td>\n",
              "      <td>0.0</td>\n",
              "      <td>0.0</td>\n",
              "      <td>0.0</td>\n",
              "    </tr>\n",
              "    <tr>\n",
              "      <th>1</th>\n",
              "      <td>1</td>\n",
              "      <td>I love it when professors draw a big question ...</td>\n",
              "      <td>1</td>\n",
              "      <td>I do not like when professors don’t write out ...</td>\n",
              "      <td>1.0</td>\n",
              "      <td>0.0</td>\n",
              "      <td>0.0</td>\n",
              "      <td>0.0</td>\n",
              "      <td>0.0</td>\n",
              "      <td>0.0</td>\n",
              "    </tr>\n",
              "    <tr>\n",
              "      <th>2</th>\n",
              "      <td>2</td>\n",
              "      <td>Remember the hundred emails from companies whe...</td>\n",
              "      <td>1</td>\n",
              "      <td>I, at the bare minimum, wish companies actuall...</td>\n",
              "      <td>0.0</td>\n",
              "      <td>1.0</td>\n",
              "      <td>0.0</td>\n",
              "      <td>0.0</td>\n",
              "      <td>0.0</td>\n",
              "      <td>0.0</td>\n",
              "    </tr>\n",
              "    <tr>\n",
              "      <th>3</th>\n",
              "      <td>3</td>\n",
              "      <td>Today my pop-pop told me I was not “forced” to...</td>\n",
              "      <td>1</td>\n",
              "      <td>Today my pop-pop told me I was not \"forced\" to...</td>\n",
              "      <td>1.0</td>\n",
              "      <td>0.0</td>\n",
              "      <td>0.0</td>\n",
              "      <td>0.0</td>\n",
              "      <td>0.0</td>\n",
              "      <td>0.0</td>\n",
              "    </tr>\n",
              "    <tr>\n",
              "      <th>4</th>\n",
              "      <td>4</td>\n",
              "      <td>@VolphanCarol @littlewhitty @mysticalmanatee I...</td>\n",
              "      <td>1</td>\n",
              "      <td>I would say Ted Cruz is an asshole and doesn’t...</td>\n",
              "      <td>1.0</td>\n",
              "      <td>0.0</td>\n",
              "      <td>0.0</td>\n",
              "      <td>0.0</td>\n",
              "      <td>0.0</td>\n",
              "      <td>0.0</td>\n",
              "    </tr>\n",
              "  </tbody>\n",
              "</table>\n",
              "</div>\n",
              "    <div class=\"colab-df-buttons\">\n",
              "\n",
              "  <div class=\"colab-df-container\">\n",
              "    <button class=\"colab-df-convert\" onclick=\"convertToInteractive('df-bc504e3e-e5b4-4c9a-aec4-352fc274b593')\"\n",
              "            title=\"Convert this dataframe to an interactive table.\"\n",
              "            style=\"display:none;\">\n",
              "\n",
              "  <svg xmlns=\"http://www.w3.org/2000/svg\" height=\"24px\" viewBox=\"0 -960 960 960\">\n",
              "    <path d=\"M120-120v-720h720v720H120Zm60-500h600v-160H180v160Zm220 220h160v-160H400v160Zm0 220h160v-160H400v160ZM180-400h160v-160H180v160Zm440 0h160v-160H620v160ZM180-180h160v-160H180v160Zm440 0h160v-160H620v160Z\"/>\n",
              "  </svg>\n",
              "    </button>\n",
              "\n",
              "  <style>\n",
              "    .colab-df-container {\n",
              "      display:flex;\n",
              "      gap: 12px;\n",
              "    }\n",
              "\n",
              "    .colab-df-convert {\n",
              "      background-color: #E8F0FE;\n",
              "      border: none;\n",
              "      border-radius: 50%;\n",
              "      cursor: pointer;\n",
              "      display: none;\n",
              "      fill: #1967D2;\n",
              "      height: 32px;\n",
              "      padding: 0 0 0 0;\n",
              "      width: 32px;\n",
              "    }\n",
              "\n",
              "    .colab-df-convert:hover {\n",
              "      background-color: #E2EBFA;\n",
              "      box-shadow: 0px 1px 2px rgba(60, 64, 67, 0.3), 0px 1px 3px 1px rgba(60, 64, 67, 0.15);\n",
              "      fill: #174EA6;\n",
              "    }\n",
              "\n",
              "    .colab-df-buttons div {\n",
              "      margin-bottom: 4px;\n",
              "    }\n",
              "\n",
              "    [theme=dark] .colab-df-convert {\n",
              "      background-color: #3B4455;\n",
              "      fill: #D2E3FC;\n",
              "    }\n",
              "\n",
              "    [theme=dark] .colab-df-convert:hover {\n",
              "      background-color: #434B5C;\n",
              "      box-shadow: 0px 1px 3px 1px rgba(0, 0, 0, 0.15);\n",
              "      filter: drop-shadow(0px 1px 2px rgba(0, 0, 0, 0.3));\n",
              "      fill: #FFFFFF;\n",
              "    }\n",
              "  </style>\n",
              "\n",
              "    <script>\n",
              "      const buttonEl =\n",
              "        document.querySelector('#df-bc504e3e-e5b4-4c9a-aec4-352fc274b593 button.colab-df-convert');\n",
              "      buttonEl.style.display =\n",
              "        google.colab.kernel.accessAllowed ? 'block' : 'none';\n",
              "\n",
              "      async function convertToInteractive(key) {\n",
              "        const element = document.querySelector('#df-bc504e3e-e5b4-4c9a-aec4-352fc274b593');\n",
              "        const dataTable =\n",
              "          await google.colab.kernel.invokeFunction('convertToInteractive',\n",
              "                                                    [key], {});\n",
              "        if (!dataTable) return;\n",
              "\n",
              "        const docLinkHtml = 'Like what you see? Visit the ' +\n",
              "          '<a target=\"_blank\" href=https://colab.research.google.com/notebooks/data_table.ipynb>data table notebook</a>'\n",
              "          + ' to learn more about interactive tables.';\n",
              "        element.innerHTML = '';\n",
              "        dataTable['output_type'] = 'display_data';\n",
              "        await google.colab.output.renderOutput(dataTable, element);\n",
              "        const docLink = document.createElement('div');\n",
              "        docLink.innerHTML = docLinkHtml;\n",
              "        element.appendChild(docLink);\n",
              "      }\n",
              "    </script>\n",
              "  </div>\n",
              "\n",
              "\n",
              "<div id=\"df-cab67027-4fac-488c-9656-9dd5d1f5fa69\">\n",
              "  <button class=\"colab-df-quickchart\" onclick=\"quickchart('df-cab67027-4fac-488c-9656-9dd5d1f5fa69')\"\n",
              "            title=\"Suggest charts\"\n",
              "            style=\"display:none;\">\n",
              "\n",
              "<svg xmlns=\"http://www.w3.org/2000/svg\" height=\"24px\"viewBox=\"0 0 24 24\"\n",
              "     width=\"24px\">\n",
              "    <g>\n",
              "        <path d=\"M19 3H5c-1.1 0-2 .9-2 2v14c0 1.1.9 2 2 2h14c1.1 0 2-.9 2-2V5c0-1.1-.9-2-2-2zM9 17H7v-7h2v7zm4 0h-2V7h2v10zm4 0h-2v-4h2v4z\"/>\n",
              "    </g>\n",
              "</svg>\n",
              "  </button>\n",
              "\n",
              "<style>\n",
              "  .colab-df-quickchart {\n",
              "      --bg-color: #E8F0FE;\n",
              "      --fill-color: #1967D2;\n",
              "      --hover-bg-color: #E2EBFA;\n",
              "      --hover-fill-color: #174EA6;\n",
              "      --disabled-fill-color: #AAA;\n",
              "      --disabled-bg-color: #DDD;\n",
              "  }\n",
              "\n",
              "  [theme=dark] .colab-df-quickchart {\n",
              "      --bg-color: #3B4455;\n",
              "      --fill-color: #D2E3FC;\n",
              "      --hover-bg-color: #434B5C;\n",
              "      --hover-fill-color: #FFFFFF;\n",
              "      --disabled-bg-color: #3B4455;\n",
              "      --disabled-fill-color: #666;\n",
              "  }\n",
              "\n",
              "  .colab-df-quickchart {\n",
              "    background-color: var(--bg-color);\n",
              "    border: none;\n",
              "    border-radius: 50%;\n",
              "    cursor: pointer;\n",
              "    display: none;\n",
              "    fill: var(--fill-color);\n",
              "    height: 32px;\n",
              "    padding: 0;\n",
              "    width: 32px;\n",
              "  }\n",
              "\n",
              "  .colab-df-quickchart:hover {\n",
              "    background-color: var(--hover-bg-color);\n",
              "    box-shadow: 0 1px 2px rgba(60, 64, 67, 0.3), 0 1px 3px 1px rgba(60, 64, 67, 0.15);\n",
              "    fill: var(--button-hover-fill-color);\n",
              "  }\n",
              "\n",
              "  .colab-df-quickchart-complete:disabled,\n",
              "  .colab-df-quickchart-complete:disabled:hover {\n",
              "    background-color: var(--disabled-bg-color);\n",
              "    fill: var(--disabled-fill-color);\n",
              "    box-shadow: none;\n",
              "  }\n",
              "\n",
              "  .colab-df-spinner {\n",
              "    border: 2px solid var(--fill-color);\n",
              "    border-color: transparent;\n",
              "    border-bottom-color: var(--fill-color);\n",
              "    animation:\n",
              "      spin 1s steps(1) infinite;\n",
              "  }\n",
              "\n",
              "  @keyframes spin {\n",
              "    0% {\n",
              "      border-color: transparent;\n",
              "      border-bottom-color: var(--fill-color);\n",
              "      border-left-color: var(--fill-color);\n",
              "    }\n",
              "    20% {\n",
              "      border-color: transparent;\n",
              "      border-left-color: var(--fill-color);\n",
              "      border-top-color: var(--fill-color);\n",
              "    }\n",
              "    30% {\n",
              "      border-color: transparent;\n",
              "      border-left-color: var(--fill-color);\n",
              "      border-top-color: var(--fill-color);\n",
              "      border-right-color: var(--fill-color);\n",
              "    }\n",
              "    40% {\n",
              "      border-color: transparent;\n",
              "      border-right-color: var(--fill-color);\n",
              "      border-top-color: var(--fill-color);\n",
              "    }\n",
              "    60% {\n",
              "      border-color: transparent;\n",
              "      border-right-color: var(--fill-color);\n",
              "    }\n",
              "    80% {\n",
              "      border-color: transparent;\n",
              "      border-right-color: var(--fill-color);\n",
              "      border-bottom-color: var(--fill-color);\n",
              "    }\n",
              "    90% {\n",
              "      border-color: transparent;\n",
              "      border-bottom-color: var(--fill-color);\n",
              "    }\n",
              "  }\n",
              "</style>\n",
              "\n",
              "  <script>\n",
              "    async function quickchart(key) {\n",
              "      const quickchartButtonEl =\n",
              "        document.querySelector('#' + key + ' button');\n",
              "      quickchartButtonEl.disabled = true;  // To prevent multiple clicks.\n",
              "      quickchartButtonEl.classList.add('colab-df-spinner');\n",
              "      try {\n",
              "        const charts = await google.colab.kernel.invokeFunction(\n",
              "            'suggestCharts', [key], {});\n",
              "      } catch (error) {\n",
              "        console.error('Error during call to suggestCharts:', error);\n",
              "      }\n",
              "      quickchartButtonEl.classList.remove('colab-df-spinner');\n",
              "      quickchartButtonEl.classList.add('colab-df-quickchart-complete');\n",
              "    }\n",
              "    (() => {\n",
              "      let quickchartButtonEl =\n",
              "        document.querySelector('#df-cab67027-4fac-488c-9656-9dd5d1f5fa69 button');\n",
              "      quickchartButtonEl.style.display =\n",
              "        google.colab.kernel.accessAllowed ? 'block' : 'none';\n",
              "    })();\n",
              "  </script>\n",
              "</div>\n",
              "    </div>\n",
              "  </div>\n"
            ],
            "application/vnd.google.colaboratory.intrinsic+json": {
              "type": "dataframe",
              "variable_name": "data_train",
              "summary": "{\n  \"name\": \"data_train\",\n  \"rows\": 3468,\n  \"fields\": [\n    {\n      \"column\": \"Unnamed: 0\",\n      \"properties\": {\n        \"dtype\": \"number\",\n        \"std\": 1001,\n        \"min\": 0,\n        \"max\": 3467,\n        \"samples\": [\n          1602,\n          805,\n          864\n        ],\n        \"num_unique_values\": 3468,\n        \"semantic_type\": \"\",\n        \"description\": \"\"\n      }\n    },\n    {\n      \"column\": \"tweet\",\n      \"properties\": {\n        \"dtype\": \"string\",\n        \"samples\": [\n          \"@dave26318632 I don\\u2019t get anywhere near \\u00a3500 a month on UC though. I basically get told \\u201cyou get what you get, and if you don\\u2019t like it you can fuck off and die.\\u201d\\n\\nOne thing\\u2019s for certain, I wouldn\\u2019t cross a puddle for the benefits I\\u2019m on, let alone the Channel.\",\n          \"July 1st. Half way point of the year. Well I think we can all agree that 2020 has gone swimmingly so far. \\nCan\\u2019t wait for part 2. \\n#murderhornets\",\n          \"Wow it\\u2019s almost like we don\\u2019t nap every single day at the exact same time wow how dare I try to do the thing we do every single day!\"\n        ],\n        \"num_unique_values\": 3456,\n        \"semantic_type\": \"\",\n        \"description\": \"\"\n      }\n    },\n    {\n      \"column\": \"sarcastic\",\n      \"properties\": {\n        \"dtype\": \"number\",\n        \"std\": 0,\n        \"min\": 0,\n        \"max\": 1,\n        \"samples\": [\n          0,\n          1\n        ],\n        \"num_unique_values\": 2,\n        \"semantic_type\": \"\",\n        \"description\": \"\"\n      }\n    },\n    {\n      \"column\": \"rephrase\",\n      \"properties\": {\n        \"dtype\": \"category\",\n        \"samples\": [\n          \"How will the UK government be changing the Coronavirus restrictions in tonight's briefing?\",\n          \"It is quite obvious that cats do not actually wear nail polish.\"\n        ],\n        \"num_unique_values\": 865,\n        \"semantic_type\": \"\",\n        \"description\": \"\"\n      }\n    },\n    {\n      \"column\": \"sarcasm\",\n      \"properties\": {\n        \"dtype\": \"number\",\n        \"std\": 0.3824165072439901,\n        \"min\": 0.0,\n        \"max\": 1.0,\n        \"samples\": [\n          1.0,\n          0.0\n        ],\n        \"num_unique_values\": 2,\n        \"semantic_type\": \"\",\n        \"description\": \"\"\n      }\n    },\n    {\n      \"column\": \"irony\",\n      \"properties\": {\n        \"dtype\": \"number\",\n        \"std\": 0.38338697223747575,\n        \"min\": 0.0,\n        \"max\": 1.0,\n        \"samples\": [\n          0.0,\n          1.0\n        ],\n        \"num_unique_values\": 2,\n        \"semantic_type\": \"\",\n        \"description\": \"\"\n      }\n    },\n    {\n      \"column\": \"satire\",\n      \"properties\": {\n        \"dtype\": \"number\",\n        \"std\": 0.1674393600000276,\n        \"min\": 0.0,\n        \"max\": 1.0,\n        \"samples\": [\n          1.0,\n          0.0\n        ],\n        \"num_unique_values\": 2,\n        \"semantic_type\": \"\",\n        \"description\": \"\"\n      }\n    },\n    {\n      \"column\": \"understatement\",\n      \"properties\": {\n        \"dtype\": \"number\",\n        \"std\": 0.10683705701144951,\n        \"min\": 0.0,\n        \"max\": 1.0,\n        \"samples\": [\n          1.0,\n          0.0\n        ],\n        \"num_unique_values\": 2,\n        \"semantic_type\": \"\",\n        \"description\": \"\"\n      }\n    },\n    {\n      \"column\": \"overstatement\",\n      \"properties\": {\n        \"dtype\": \"number\",\n        \"std\": 0.20990087823453582,\n        \"min\": 0.0,\n        \"max\": 1.0,\n        \"samples\": [\n          1.0,\n          0.0\n        ],\n        \"num_unique_values\": 2,\n        \"semantic_type\": \"\",\n        \"description\": \"\"\n      }\n    },\n    {\n      \"column\": \"rhetorical_question\",\n      \"properties\": {\n        \"dtype\": \"number\",\n        \"std\": 0.32100114162940024,\n        \"min\": 0.0,\n        \"max\": 1.0,\n        \"samples\": [\n          1.0,\n          0.0\n        ],\n        \"num_unique_values\": 2,\n        \"semantic_type\": \"\",\n        \"description\": \"\"\n      }\n    }\n  ]\n}"
            }
          },
          "metadata": {},
          "execution_count": 3
        }
      ],
      "source": [
        "data_train.head()"
      ]
    },
    {
      "cell_type": "code",
      "execution_count": 4,
      "metadata": {
        "id": "UShUDImpczb0"
      },
      "outputs": [],
      "source": [
        "\n",
        "\n",
        "def text_preprocessing(text):\n",
        "    # Convert emojis to text\n",
        "    text = emoji.demojize(text)\n",
        "\n",
        "    # Replace URLs with \"HTTPURL\"\n",
        "    url_pattern = re.compile(r'https?://\\S+|www\\.\\S+')\n",
        "    text = url_pattern.sub('HTTPURL', text)\n",
        "\n",
        "    # Replace mentions with \"@USER\"\n",
        "    mention_pattern = re.compile(r'@\\w+')\n",
        "    text = mention_pattern.sub('@USER', text)\n",
        "\n",
        "    return text"
      ]
    },
    {
      "cell_type": "code",
      "execution_count": 5,
      "metadata": {
        "id": "I0c05ZaS84NC"
      },
      "outputs": [],
      "source": [
        "import pandas as pd\n",
        "\n",
        "# Assuming data_train is your DataFrame and 'sarcastic' is the label column\n",
        "\n",
        "# Separate the data by class\n",
        "class_1 = data_train[data_train['sarcastic'] == 1]\n",
        "class_0 = data_train[data_train['sarcastic'] == 0]\n",
        "\n",
        "# Define the number of splits\n",
        "n_splits = 8\n",
        "\n",
        "# Calculate the number of samples per fold for each class\n",
        "samples_per_fold_class_1 = len(class_1) // n_splits\n",
        "samples_per_fold_class_0 = len(class_0) // n_splits\n",
        "\n",
        "# Initialize a list to hold the fold data\n",
        "folds = []\n",
        "\n",
        "# Create each fold\n",
        "for i in range(n_splits):\n",
        "    start_class_1 = i * samples_per_fold_class_1\n",
        "    end_class_1 = (i + 1) * samples_per_fold_class_1 if i < n_splits - 1 else len(class_1)\n",
        "\n",
        "    start_class_0 = i * samples_per_fold_class_0\n",
        "    end_class_0 = (i + 1) * samples_per_fold_class_0 if i < n_splits - 1 else len(class_0)\n",
        "\n",
        "    fold = pd.concat([class_1.iloc[start_class_1:end_class_1], class_0.iloc[start_class_0:end_class_0]])\n",
        "    folds.append(fold)\n",
        "\n",
        "# Now folds[0] to folds[7] contain your 8 folds\n"
      ]
    },
    {
      "cell_type": "code",
      "execution_count": 6,
      "metadata": {
        "id": "IvxtszwE8-Yo"
      },
      "outputs": [],
      "source": [
        "# Assuming 'folds' is the list of 8 folds we previously created\n",
        "\n",
        "# Initialize lists to hold the training and validation sets\n",
        "training_sets = []\n",
        "validation_sets = []\n",
        "\n",
        "# Create training and validation sets\n",
        "for i in range(n_splits):\n",
        "    # The current fold is the validation set\n",
        "    validation_set = folds[i]\n",
        "    validation_sets.append(validation_set)\n",
        "\n",
        "    # All other folds are combined to form the training set\n",
        "    training_set = pd.concat([folds[j] for j in range(n_splits) if j != i])\n",
        "    training_sets.append(training_set)\n",
        "\n",
        "# Now training_sets and validation_sets each contain 8 DataFrames for cross-validation\n"
      ]
    },
    {
      "cell_type": "code",
      "execution_count": 7,
      "metadata": {
        "id": "OmYTIFcx-U3k"
      },
      "outputs": [],
      "source": [
        "# Extract and store each training and validation set in separate variables\n",
        "train_set_1, val_set_1 = training_sets[0], validation_sets[0]\n",
        "train_set_2, val_set_2 = training_sets[1], validation_sets[1]\n",
        "train_set_3, val_set_3 = training_sets[2], validation_sets[2]\n",
        "train_set_4, val_set_4 = training_sets[3], validation_sets[3]\n",
        "train_set_5, val_set_5 = training_sets[4], validation_sets[4]\n",
        "train_set_6, val_set_6 = training_sets[5], validation_sets[5]\n",
        "train_set_7, val_set_7 = training_sets[6], validation_sets[6]\n",
        "train_set_8, val_set_8 = training_sets[7], validation_sets[7]\n"
      ]
    },
    {
      "cell_type": "markdown",
      "metadata": {
        "id": "GLDdr0e1-Bdb"
      },
      "source": [
        "# <h1><font color='orchid'>Preprocessing"
      ]
    },
    {
      "cell_type": "markdown",
      "metadata": {
        "id": "i95X9iqj-k6M"
      },
      "source": [
        "## <h2><font color='orchid'>1.1 Dataframe Preparation"
      ]
    },
    {
      "cell_type": "code",
      "execution_count": 8,
      "metadata": {
        "id": "UzeVXilgF-5S"
      },
      "outputs": [],
      "source": [
        "train = train_set_1.copy()\n",
        "validate = val_set_1.copy()"
      ]
    },
    {
      "cell_type": "code",
      "execution_count": 9,
      "metadata": {
        "id": "MxdrFpUoRYl5"
      },
      "outputs": [],
      "source": [
        "train.rename(columns={'tweet': 'sentence', 'sarcastic': 'label'}, inplace=True)\n",
        "validate.rename(columns={'tweet': 'sentence', 'sarcastic': 'label'}, inplace=True)\n",
        "data_test.rename(columns={'text': 'sentence', 'sarcastic': 'label'}, inplace=True)"
      ]
    },
    {
      "cell_type": "code",
      "execution_count": 10,
      "metadata": {
        "id": "zaVPGQ8l1F9g"
      },
      "outputs": [],
      "source": [
        "train = train[train['sentence'].notna()]\n",
        "train = train.sample(frac=1) # Shuffle the dataframe\n",
        "\n",
        "validate = validate[validate['sentence'].notna()]\n",
        "validate = validate.sample(frac=1) # Shuffle the dataframe"
      ]
    },
    {
      "cell_type": "code",
      "execution_count": 11,
      "metadata": {
        "id": "mJGHXVbAdFMW"
      },
      "outputs": [],
      "source": [
        "# Apply the text_preprocessing function to each element in the 'sentence' column\n",
        "train['sentence'] = train['sentence'].apply(text_preprocessing)\n",
        "validate['sentence'] = validate['sentence'].apply(text_preprocessing)"
      ]
    },
    {
      "cell_type": "code",
      "execution_count": 12,
      "metadata": {
        "id": "RxRg1Ng80diT"
      },
      "outputs": [],
      "source": [
        "# Apply the text_preprocessing function to each element in the 'sentence' column\n",
        "data_test['sentence'] = data_test['sentence'].apply(text_preprocessing)"
      ]
    },
    {
      "cell_type": "code",
      "execution_count": 13,
      "metadata": {
        "colab": {
          "base_uri": "https://localhost:8080/"
        },
        "id": "czN4LdIHBdM-",
        "outputId": "380a849f-a482-4712-8723-5766ac8ed7f0"
      },
      "outputs": [
        {
          "output_type": "stream",
          "name": "stdout",
          "text": [
            "Percentage of label '1' in the dataset BEFORE spliting: 25.008237232289947%\n"
          ]
        }
      ],
      "source": [
        "# Assuming 'label' is the column name containing the labels\n",
        "label_count = train['label'].value_counts()\n",
        "\n",
        "# Calculate the percentage of label '1'\n",
        "if 1 in label_count:\n",
        "    percentage = (label_count[1] / len(train)) * 100\n",
        "else:\n",
        "    percentage = 0\n",
        "\n",
        "print(f\"Percentage of label '1' in the dataset BEFORE spliting: {percentage}%\")"
      ]
    },
    {
      "cell_type": "markdown",
      "metadata": {
        "id": "syzGNkf6_Nlm"
      },
      "source": [
        "## <h2><font color='orchid'>1.3 Data Visualization"
      ]
    },
    {
      "cell_type": "code",
      "execution_count": 14,
      "metadata": {
        "colab": {
          "base_uri": "https://localhost:8080/",
          "height": 472
        },
        "id": "X4ijOL9EiLNr",
        "outputId": "b6f8bb2e-8770-46bf-99a0-fc160269b889"
      },
      "outputs": [
        {
          "output_type": "display_data",
          "data": {
            "text/plain": [
              "<Figure size 640x480 with 1 Axes>"
            ],
            "image/png": "[encoded data removed]"
          },
          "metadata": {}
        }
      ],
      "source": [
        "# Count the number of occurrences of each class\n",
        "label_counts = train['label'].value_counts()\n",
        "\n",
        "# Create a bar plot\n",
        "label_counts.plot(kind='bar')\n",
        "\n",
        "# Create a bar plot with specified colors\n",
        "colors = ['darkblue', 'orange']  # Class 0 in blue, Class 1 in orange\n",
        "label_counts.plot(kind='bar', color=colors)\n",
        "\n",
        "plt.xlabel('Class Label')\n",
        "plt.ylabel('Number of Samples')\n",
        "plt.title('Distribution of Class Labels')\n",
        "plt.xticks([0, 1], ['Non-Sarcastic', 'Sarcastic'], rotation=0)  # Set the x-ticks to be class labels\n",
        "plt.show()"
      ]
    },
    {
      "cell_type": "code",
      "execution_count": 15,
      "metadata": {
        "colab": {
          "base_uri": "https://localhost:8080/",
          "height": 472
        },
        "id": "tuTaynZWxDYX",
        "outputId": "ac5f69b9-80fc-4e32-c852-f6ad7552c061"
      },
      "outputs": [
        {
          "output_type": "display_data",
          "data": {
            "text/plain": [
              "<Figure size 640x480 with 1 Axes>"
            ],
            "image/png": "[encoded data removed]"
          },
          "metadata": {}
        }
      ],
      "source": [
        "# Count the number of occurrences of each class\n",
        "label_counts = data_test['label'].value_counts()\n",
        "\n",
        "# Create a bar plot\n",
        "label_counts.plot(kind='bar')\n",
        "\n",
        "# Create a bar plot with specified colors\n",
        "colors = ['darkblue', 'orange']  # Class 0 in blue, Class 1 in orange\n",
        "label_counts.plot(kind='bar', color=colors)\n",
        "\n",
        "plt.xlabel('Class Label')\n",
        "plt.ylabel('Number of Samples')\n",
        "plt.title('Distribution of Class Labels')\n",
        "plt.xticks([0, 1], ['Non-Sarcastic', 'Sarcastic'], rotation=0)  # Set the x-ticks to be class labels\n",
        "plt.show()"
      ]
    },
    {
      "cell_type": "code",
      "execution_count": 16,
      "metadata": {
        "colab": {
          "base_uri": "https://localhost:8080/",
          "height": 507
        },
        "id": "oqDkZVYrnlKg",
        "outputId": "0edd4ba0-ba0d-434f-9775-d84596d7efc1"
      },
      "outputs": [
        {
          "output_type": "stream",
          "name": "stdout",
          "text": [
            "33\n"
          ]
        },
        {
          "output_type": "execute_result",
          "data": {
            "text/plain": [
              "(0.0, 300.0)"
            ]
          },
          "metadata": {},
          "execution_count": 16
        },
        {
          "output_type": "display_data",
          "data": {
            "text/plain": [
              "<Figure size 640x480 with 1 Axes>"
            ],
            "image/png": "[encoded data removed]"
          },
          "metadata": {}
        }
      ],
      "source": [
        "# get length of all the messages in the train set\n",
        "seq_len = [len(i.split()) for i in train['sentence']]\n",
        "\n",
        "n, bins, patches = plt.hist(seq_len, bins='auto', color='steelblue',\n",
        "                            alpha=1, rwidth=0.95)\n",
        "print(len(bins))\n",
        "plt.grid(axis='y', alpha=0.2)\n",
        "plt.xlabel('sequence lenght')\n",
        "plt.ylabel('counts')\n",
        "plt.title('Histogram')\n",
        "\n",
        "maxfreq = n.max()\n",
        "# Set a clean upper y-axis limit.\n",
        "plt.ylim(ymax=np.ceil(maxfreq / 9) * 10 if maxfreq % 10 else maxfreq + 10)"
      ]
    },
    {
      "cell_type": "markdown",
      "metadata": {
        "id": "slAh2LQm_lPX"
      },
      "source": [
        "## <h2><font color='orchid'>1.4 Split the dataset"
      ]
    },
    {
      "cell_type": "code",
      "execution_count": 17,
      "metadata": {
        "id": "QX-SqI4tGQhZ"
      },
      "outputs": [],
      "source": [
        "train = train.sample(frac=1)"
      ]
    },
    {
      "cell_type": "code",
      "execution_count": 18,
      "metadata": {
        "colab": {
          "base_uri": "https://localhost:8080/"
        },
        "id": "NLD5ieCjBp2Q",
        "outputId": "0357e99e-a6a5-4c28-dad0-b52e109de26a"
      },
      "outputs": [
        {
          "output_type": "stream",
          "name": "stdout",
          "text": [
            "Percentage of label '1' in the dataset: 21.885813148788927%\n"
          ]
        }
      ],
      "source": [
        "# Assuming 'label' is the column name containing the labels\n",
        "label_count = train['label'].value_counts()\n",
        "\n",
        "# Calculate the percentage of label '1'\n",
        "if 1 in label_count:\n",
        "    percentage = (label_count[1] / len(data_train)) * 100\n",
        "else:\n",
        "    percentage = 0\n",
        "\n",
        "print(f\"Percentage of label '1' in the dataset: {percentage}%\")"
      ]
    },
    {
      "cell_type": "code",
      "execution_count": 19,
      "metadata": {
        "colab": {
          "base_uri": "https://localhost:8080/"
        },
        "id": "ANBaa1T-Buxt",
        "outputId": "2311752d-9704-4f4b-d8e9-c87ea0d55be7"
      },
      "outputs": [
        {
          "output_type": "stream",
          "name": "stdout",
          "text": [
            "Percentage of label '1' in the dataset: 25.0%\n"
          ]
        }
      ],
      "source": [
        "# Assuming 'label' is the column name containing the labels\n",
        "label_count = validate['label'].value_counts()\n",
        "\n",
        "# Calculate the percentage of label '1'\n",
        "if 1 in label_count:\n",
        "    percentage = (label_count[1] / len(validate)) * 100\n",
        "else:\n",
        "    percentage = 0\n",
        "\n",
        "print(f\"Percentage of label '1' in the dataset: {percentage}%\")"
      ]
    },
    {
      "cell_type": "markdown",
      "metadata": {
        "id": "fJ6MvP66DFBV"
      },
      "source": [
        "## <h2><font color='orchid'>1.5 Encoding data"
      ]
    },
    {
      "cell_type": "code",
      "execution_count": 20,
      "metadata": {
        "colab": {
          "base_uri": "https://localhost:8080/"
        },
        "id": "-XMEQPvNnoD1",
        "outputId": "6ee9661e-4376-4a25-ce0b-c4c792ccaa37"
      },
      "outputs": [
        {
          "output_type": "stream",
          "name": "stderr",
          "text": [
            "/usr/local/lib/python3.10/dist-packages/huggingface_hub/utils/_token.py:88: UserWarning: \n",
            "The secret `HF_TOKEN` does not exist in your Colab secrets.\n",
            "To authenticate with the Hugging Face Hub, create a token in your settings tab (https://huggingface.co/settings/tokens), set it as secret in your Google Colab and restart your session.\n",
            "You will be able to reuse this secret in all of your notebooks.\n",
            "Please note that authentication is recommended but still optional to access public models or datasets.\n",
            "  warnings.warn(\n"
          ]
        }
      ],
      "source": [
        "# train dataset\n",
        "# train dataset\n",
        "from transformers import BertTokenizer , DistilBertTokenizer, RobertaTokenizer , ElectraTokenizer , AlbertTokenizer,  AutoTokenizer\n",
        "\"\"\"google/electra-base-discriminator\"\"\"\n",
        "\"\"\"google/electra-large-discriminator\"\"\"\n",
        "\n",
        "\"\"\"\n",
        "Tokenizers:\n",
        "BERT: BertTokenizer.from_pretrained('bert-base-uncased', do_lower_case=True)\n",
        "Electra: ElectraTokenizer.from_pretrained('google/electra-large-discriminator', do_lower_case=True)\n",
        "\n",
        "vinai/bertweet-large\n",
        "microsoft/deberta-v3-large\n",
        "\"\"\"\n",
        "\n",
        "\n",
        "# For transformers v4.x+:\n",
        "tokenizer = AutoTokenizer.from_pretrained(\"microsoft/deberta-v3-large\", use_fast=False)\n",
        "\n",
        "# tokenizer = BertTokenizer.from_pretrained('bert-base-uncased', do_lower_case=True)\n",
        "# tokenizer = RobertaTokenizer.from_pretrained('roberta-base', do_lower_case=True)\n",
        "# tokenizer = RobertaTokenizer.from_pretrained('roberta-large', do_lower_case=True)\n",
        "# tokenizer = ElectraTokenizer.from_pretrained('google/electra-large-discriminator', do_lower_case=True)\n",
        "\n",
        "# tokenizer = DistilBertTokenizer.from_pretrained(\"distilbert-base-uncased\" , do_lower_case=True)\n",
        "\n",
        "max_sequence_length = 40\n",
        "\n",
        "# train_data_encoded = DataLoader(encode_examples(train_dataset, max_sequence_length) , batch_size = batch_size)\n",
        "# validation_data_encoded = DataLoader(encode_examples(validation_dataset , max_sequence_length) , batch_size= batch_size)\n"
      ]
    },
    {
      "cell_type": "code",
      "execution_count": 21,
      "metadata": {
        "id": "QdlaRHXvjCxY"
      },
      "outputs": [],
      "source": [
        "import transformers\n",
        "transformers.logging.set_verbosity_error() # prevent from warning message\n",
        "\n",
        "train_encode = tokenizer(train['sentence'].tolist(),\n",
        "                         max_length = max_sequence_length,\n",
        "                         padding=\"max_length\",truncation=True)\n",
        "validation_encode = tokenizer(validate['sentence'].tolist(),\n",
        "                               max_length = max_sequence_length,\n",
        "                               padding=\"max_length\",truncation=True)\n",
        "test_encode = tokenizer(data_test['sentence'].tolist(),\n",
        "                        max_length = max_sequence_length,\n",
        "                        padding=\"max_length\",truncation=True)\n"
      ]
    },
    {
      "cell_type": "code",
      "execution_count": 22,
      "metadata": {
        "id": "8p_xZRjrkKKt"
      },
      "outputs": [],
      "source": [
        "train_seq = torch.tensor(train_encode['input_ids'])\n",
        "train_mask = torch.tensor(train_encode['attention_mask'])\n",
        "train_y = torch.tensor(train['label'].tolist())\n",
        "\n",
        "valid_seq = torch.tensor(validation_encode['input_ids'])\n",
        "valid_mask = torch.tensor(validation_encode['attention_mask'])\n",
        "valid_y = torch.tensor(validate['label'].tolist())"
      ]
    },
    {
      "cell_type": "code",
      "execution_count": 23,
      "metadata": {
        "id": "OVXrwar3kmhB"
      },
      "outputs": [],
      "source": [
        "train_tensors = TensorDataset(train_seq, train_mask, train_y)\n",
        "validation_tensors = TensorDataset(valid_seq, valid_mask, valid_y)"
      ]
    },
    {
      "cell_type": "markdown",
      "metadata": {
        "id": "dbeSMz_H-Mqb"
      },
      "source": [
        "## <h2><font color='orchid'>1.6 Batch Size and Max Lenght"
      ]
    },
    {
      "cell_type": "code",
      "execution_count": 24,
      "metadata": {
        "id": "4oL4M2qAo-y5"
      },
      "outputs": [],
      "source": [
        "batch_size = 16\n",
        "max_sequence_length = 40\n",
        "\n",
        "train_data_encoded = DataLoader(train_tensors , batch_size = batch_size)\n",
        "validation_data_encoded = DataLoader(validation_tensors , batch_size= batch_size)"
      ]
    },
    {
      "cell_type": "markdown",
      "metadata": {
        "id": "OXW4KBpwPbQD"
      },
      "source": [
        "# <h1><font color=darkcyan>Model"
      ]
    },
    {
      "cell_type": "markdown",
      "metadata": {
        "id": "bVN8aYYwDQ2J"
      },
      "source": [
        "## <h2><font color='darkcyan'>2.1 Defining Model"
      ]
    },
    {
      "cell_type": "code",
      "execution_count": 25,
      "metadata": {
        "id": "g9gX3-Etutvd"
      },
      "outputs": [],
      "source": [
        "from transformers import AutoModel, BertModel , DistilBertModel, RobertaModel , XLNetModel , ElectraModel , DebertaModel , AlbertModel\n",
        "\n",
        "from torch import nn\n",
        "\"\"\"\n",
        "DistilBertModel\n",
        "BertModel\n",
        "google/electra-base-discriminator\n",
        "google/electra-large-discriminator\n",
        "\n",
        "deberta-base\n",
        "albert-xxlarge-v1\n",
        "microsoft/deberta-v3-large\n",
        "FacebookAI/roberta-large\n",
        "\"\"\"\n",
        "\n",
        "Bert = AutoModel.from_pretrained(\"microsoft/deberta-v3-large\")\n",
        "\n",
        "model_name = \"bert-large-uncased\"\n",
        "\n",
        "# model_name = \"roberta-large\"\n",
        "# Bert = BertModel.from_pretrained(model_name)\n",
        "\n",
        "# Bert = RobertaModel.from_pretrained('roberta-large')"
      ]
    },
    {
      "cell_type": "code",
      "execution_count": 26,
      "metadata": {
        "id": "YDiPbldhNSGK"
      },
      "outputs": [],
      "source": [
        "class Representation_Model(nn.Module):\n",
        "    def __init__(self, dropout_rate=0.2):\n",
        "          super(Representation_Model, self).__init__()\n",
        "          self.bert = Bert\n",
        "          if model_name == \"bert-base-uncased\":\n",
        "             input_size = 768\n",
        "          elif model_name == \"bert-large-uncased\":\n",
        "             input_size = 1024\n",
        "          else:\n",
        "             input_size = 1024\n",
        "\n",
        "          self.sigmoid = nn.Sigmoid()\n",
        "          self.fc1 = nn.Linear(input_size, 512)\n",
        "          self.relu = nn.ReLU()  # ReLU activation layer\n",
        "          self.fc2 = nn.Linear(512, 1)\n",
        "          self.dropout = nn.Dropout(dropout_rate)  # Dropout layer\n",
        "\n",
        "    def forward(self, ids, mask , return_embeddings=False, return_all_hidden = False):\n",
        "\n",
        "          discriminator_hidden_states = self.bert(\n",
        "               input_ids = ids,\n",
        "               attention_mask = mask)\n",
        "\n",
        "          CLS_embedding = discriminator_hidden_states[0][:,0,:]\n",
        "\n",
        "          # output_rep = self.fc1(CLS_embedding)\n",
        "          # output_rep = self.relu(output_rep)  # Apply ReLU after fc1\n",
        "          # output_rep = self.fc2(output_rep)\n",
        "          # output_rep = self.dropout(output_rep)\n",
        "          output = self.fc1(CLS_embedding)\n",
        "          output = self.dropout(output)\n",
        "          # output = self.relu(output)\n",
        "          output = self.fc2(output)\n",
        "          match_score = self.sigmoid(output)\n",
        "\n",
        "          # if return_embeddings == True:\n",
        "\n",
        "\n",
        "          if return_all_hidden == True:\n",
        "             toke_embeddings = discriminator_hidden_states.last_hidden_state\n",
        "             return toke_embeddings\n",
        "\n",
        "          return match_score , CLS_embedding"
      ]
    },
    {
      "cell_type": "code",
      "execution_count": 27,
      "metadata": {
        "id": "oehQs2KWNrEF"
      },
      "outputs": [],
      "source": [
        "embedding_model = Representation_Model()"
      ]
    },
    {
      "cell_type": "markdown",
      "metadata": {
        "id": "T9s89YpigfoR"
      },
      "source": [
        "## <h2><font color='darkcyan'>2.2 Names and Dimensions of layers\n",
        "The embedding layer,The first of the twelve transformers & The output layer."
      ]
    },
    {
      "cell_type": "code",
      "execution_count": 28,
      "metadata": {
        "colab": {
          "base_uri": "https://localhost:8080/"
        },
        "id": "n8umCnargQeE",
        "outputId": "96d7bbe4-7810-42aa-debc-f49738d695ad"
      },
      "outputs": [
        {
          "output_type": "stream",
          "name": "stdout",
          "text": [
            "The  model has 394 different named parameters.\n",
            "\n",
            "==== Embedding Layer ====\n",
            "\n",
            "bert.embeddings.word_embeddings.weight                  (128100, 1024)\n",
            "bert.embeddings.LayerNorm.weight                             (1024,)\n",
            "bert.embeddings.LayerNorm.bias                               (1024,)\n",
            "bert.encoder.layer.0.attention.self.query_proj.weight   (1024, 1024)\n",
            "bert.encoder.layer.0.attention.self.query_proj.bias          (1024,)\n",
            "\n",
            "==== First Transformer ====\n",
            "\n",
            "bert.encoder.layer.0.attention.self.key_proj.weight     (1024, 1024)\n",
            "bert.encoder.layer.0.attention.self.key_proj.bias            (1024,)\n",
            "bert.encoder.layer.0.attention.self.value_proj.weight   (1024, 1024)\n",
            "bert.encoder.layer.0.attention.self.value_proj.bias          (1024,)\n",
            "bert.encoder.layer.0.attention.output.dense.weight      (1024, 1024)\n",
            "bert.encoder.layer.0.attention.output.dense.bias             (1024,)\n",
            "bert.encoder.layer.0.attention.output.LayerNorm.weight       (1024,)\n",
            "bert.encoder.layer.0.attention.output.LayerNorm.bias         (1024,)\n",
            "bert.encoder.layer.0.intermediate.dense.weight          (4096, 1024)\n",
            "bert.encoder.layer.0.intermediate.dense.bias                 (4096,)\n",
            "bert.encoder.layer.0.output.dense.weight                (1024, 4096)\n",
            "bert.encoder.layer.0.output.dense.bias                       (1024,)\n",
            "bert.encoder.layer.0.output.LayerNorm.weight                 (1024,)\n",
            "bert.encoder.layer.0.output.LayerNorm.bias                   (1024,)\n",
            "bert.encoder.layer.1.attention.self.query_proj.weight   (1024, 1024)\n",
            "bert.encoder.layer.1.attention.self.query_proj.bias          (1024,)\n",
            "\n",
            "==== Output Layer ====\n",
            "\n",
            "fc1.weight                                               (512, 1024)\n",
            "fc1.bias                                                      (512,)\n",
            "fc2.weight                                                  (1, 512)\n",
            "fc2.bias                                                        (1,)\n"
          ]
        }
      ],
      "source": [
        "# Get all of the model's parameters as a list of tuples.\n",
        "params = list(embedding_model.named_parameters())\n",
        "print('The  model has {:} different named parameters.\\n'.format(len(params)))\n",
        "print('==== Embedding Layer ====\\n')\n",
        "for p in params[0:5]:\n",
        "    print(\"{:<55} {:>12}\".format(p[0], str(tuple(p[1].size()))))\n",
        "print('\\n==== First Transformer ====\\n')\n",
        "for p in params[5:21]:\n",
        "    print(\"{:<55} {:>12}\".format(p[0], str(tuple(p[1].size()))))\n",
        "print('\\n==== Output Layer ====\\n')\n",
        "for p in params[-4:]:\n",
        "    print(\"{:<55} {:>12}\".format(p[0], str(tuple(p[1].size()))))"
      ]
    },
    {
      "cell_type": "code",
      "execution_count": 29,
      "metadata": {
        "colab": {
          "base_uri": "https://localhost:8080/"
        },
        "id": "xYlcR-JTuPFE",
        "outputId": "ae902b90-9aef-473a-d303-7d7ff19b0871"
      },
      "outputs": [
        {
          "output_type": "execute_result",
          "data": {
            "text/plain": [
              "Representation_Model(\n",
              "  (bert): DebertaV2Model(\n",
              "    (embeddings): DebertaV2Embeddings(\n",
              "      (word_embeddings): Embedding(128100, 1024, padding_idx=0)\n",
              "      (LayerNorm): LayerNorm((1024,), eps=1e-07, elementwise_affine=True)\n",
              "      (dropout): StableDropout()\n",
              "    )\n",
              "    (encoder): DebertaV2Encoder(\n",
              "      (layer): ModuleList(\n",
              "        (0-23): 24 x DebertaV2Layer(\n",
              "          (attention): DebertaV2Attention(\n",
              "            (self): DisentangledSelfAttention(\n",
              "              (query_proj): Linear(in_features=1024, out_features=1024, bias=True)\n",
              "              (key_proj): Linear(in_features=1024, out_features=1024, bias=True)\n",
              "              (value_proj): Linear(in_features=1024, out_features=1024, bias=True)\n",
              "              (pos_dropout): StableDropout()\n",
              "              (dropout): StableDropout()\n",
              "            )\n",
              "            (output): DebertaV2SelfOutput(\n",
              "              (dense): Linear(in_features=1024, out_features=1024, bias=True)\n",
              "              (LayerNorm): LayerNorm((1024,), eps=1e-07, elementwise_affine=True)\n",
              "              (dropout): StableDropout()\n",
              "            )\n",
              "          )\n",
              "          (intermediate): DebertaV2Intermediate(\n",
              "            (dense): Linear(in_features=1024, out_features=4096, bias=True)\n",
              "            (intermediate_act_fn): GELUActivation()\n",
              "          )\n",
              "          (output): DebertaV2Output(\n",
              "            (dense): Linear(in_features=4096, out_features=1024, bias=True)\n",
              "            (LayerNorm): LayerNorm((1024,), eps=1e-07, elementwise_affine=True)\n",
              "            (dropout): StableDropout()\n",
              "          )\n",
              "        )\n",
              "      )\n",
              "      (rel_embeddings): Embedding(512, 1024)\n",
              "      (LayerNorm): LayerNorm((1024,), eps=1e-07, elementwise_affine=True)\n",
              "    )\n",
              "  )\n",
              "  (sigmoid): Sigmoid()\n",
              "  (fc1): Linear(in_features=1024, out_features=512, bias=True)\n",
              "  (relu): ReLU()\n",
              "  (fc2): Linear(in_features=512, out_features=1, bias=True)\n",
              "  (dropout): Dropout(p=0.2, inplace=False)\n",
              ")"
            ]
          },
          "metadata": {},
          "execution_count": 29
        }
      ],
      "source": [
        "# Tell pytorch to run this model on the GPU.\n",
        "device = 'cuda'\n",
        "embedding_model.to(device)"
      ]
    },
    {
      "cell_type": "markdown",
      "metadata": {
        "id": "dP5jQsJoBhnm"
      },
      "source": [
        "# <h1><font color='darkgreen'>Training"
      ]
    },
    {
      "cell_type": "markdown",
      "metadata": {
        "id": "J_HXgQA3hle6"
      },
      "source": [
        "### <h2><font color='darkgreen'>3.1 Function to calculate the accuracy"
      ]
    },
    {
      "cell_type": "code",
      "execution_count": 30,
      "metadata": {
        "id": "n-DzdrPNhbjG"
      },
      "outputs": [],
      "source": [
        "# Function to calculate the accuracy of our predictions vs labels\n",
        "def flat_accuracy(preds, labels):\n",
        "\n",
        "    pred_flat = []\n",
        "    for n in preds:\n",
        "        if n > 0.5:\n",
        "          pred_flat.append(1)\n",
        "        else:\n",
        "          pred_flat.append(0)\n",
        "\n",
        "    labels_flat = labels.flatten()\n",
        "    return np.sum(pred_flat == labels_flat) / len(labels_flat)"
      ]
    },
    {
      "cell_type": "markdown",
      "metadata": {
        "id": "L2Eyp_VjyQ0u"
      },
      "source": [
        "### <h2><font color='darkgreen'>3.2 Helper function for formatting elapsed times.\n"
      ]
    },
    {
      "cell_type": "code",
      "execution_count": 31,
      "metadata": {
        "id": "bj877kSFyPOB"
      },
      "outputs": [],
      "source": [
        "import time\n",
        "import datetime\n",
        "def format_time(elapsed):\n",
        "    '''\n",
        "    Takes a time in seconds and returns a string hh:mm:ss\n",
        "    '''\n",
        "    # Round to the nearest second.\n",
        "    elapsed_rounded = int(round((elapsed)))\n",
        "\n",
        "    # Format as hh:mm:ss\n",
        "    return str(datetime.timedelta(seconds=elapsed_rounded))"
      ]
    },
    {
      "cell_type": "markdown",
      "metadata": {
        "id": "55011udirUHo"
      },
      "source": [
        "## <h2><font color='darkgreen'>3.3 HyperParameters"
      ]
    },
    {
      "cell_type": "code",
      "execution_count": 32,
      "metadata": {
        "id": "o3A02exAJHaj"
      },
      "outputs": [],
      "source": [
        "import torch\n",
        "import torch.nn.functional as F\n",
        "\n",
        "def binary_focal_SupConLoss(features, labels, gamma=2, temp=0.07):\n",
        "    \"\"\"\n",
        "    Adaptation of asy_focal_SupConLoss for binary classification with sigmoid outputs.\n",
        "\n",
        "    Args:\n",
        "    - features: Tensor of shape (batch_size, feature_dim), model embeddings.\n",
        "    - labels: Tensor of shape (batch_size,), binary class labels.\n",
        "    - gamma: Focusing parameter for Focal Loss.\n",
        "    - temp: Temperature scaling applied to contrastive loss component.\n",
        "\n",
        "    Returns:\n",
        "    - loss: Computed loss as a scalar tensor.\n",
        "    \"\"\"\n",
        "    device = features.device\n",
        "    batch_size = features.shape[0]\n",
        "\n",
        "    # Ensure labels are in the correct shape\n",
        "    labels = labels.view(-1, 1)\n",
        "\n",
        "    # Create mask based on binary labels\n",
        "    mask = torch.eq(labels, labels.T).float().to(device)\n",
        "\n",
        "    # Normalize features to unit length\n",
        "    normalized_features = F.normalize(features, p=2, dim=1)\n",
        "\n",
        "    # Compute similarity matrix\n",
        "    similarity_matrix = torch.matmul(normalized_features, normalized_features.T) / temp\n",
        "\n",
        "    # Apply mask to select positive similarities\n",
        "    positives = similarity_matrix * mask\n",
        "\n",
        "    # Apply log sum exp trick for numerical stability\n",
        "    max_val = torch.max(positives, dim=1, keepdim=True)[0]\n",
        "    positives = positives - max_val.detach()\n",
        "\n",
        "    # Calculate log-probabilities\n",
        "    log_probs = positives - torch.log(torch.exp(positives).sum(dim=1, keepdim=True))\n",
        "\n",
        "    # Calculate focal loss component\n",
        "    probs = torch.exp(log_probs)\n",
        "    focal_weight = (1 - probs) ** gamma\n",
        "    focal_loss = -focal_weight * log_probs\n",
        "\n",
        "    # Compute final loss as mean of focal loss\n",
        "    loss = focal_loss.mean()\n",
        "\n",
        "    return loss\n"
      ]
    },
    {
      "cell_type": "code",
      "execution_count": 33,
      "metadata": {
        "id": "vJfA6xGD6qI9"
      },
      "outputs": [],
      "source": [
        "# test dataset\n",
        "batch_size = 200\n",
        "max_sequence_length = 40\n",
        "\n",
        "test_seq = torch.tensor(test_encode['input_ids'])\n",
        "test_mask = torch.tensor(test_encode['attention_mask'])\n",
        "test_y = torch.tensor(data_test['label'].tolist())\n",
        "test_tensors = TensorDataset(test_seq, test_mask, test_y)\n",
        "\n",
        "test_data_encoded = DataLoader(test_tensors , batch_size = batch_size)\n",
        "# combined_data_encoded = DataLoader(encode_examples(compined_dataset, max_sequence_length) , batch_size = batch_size)"
      ]
    },
    {
      "cell_type": "code",
      "execution_count": 34,
      "metadata": {
        "colab": {
          "base_uri": "https://localhost:8080/"
        },
        "id": "zra00dygu6sH",
        "outputId": "d297d8fa-68d1-440c-a8b8-cee3e4a6b710"
      },
      "outputs": [
        {
          "output_type": "stream",
          "name": "stderr",
          "text": [
            "/usr/local/lib/python3.10/dist-packages/transformers/optimization.py:411: FutureWarning: This implementation of AdamW is deprecated and will be removed in a future version. Use the PyTorch implementation torch.optim.AdamW instead, or set `no_deprecation_warning=True` to disable this warning\n",
            "  warnings.warn(\n"
          ]
        }
      ],
      "source": [
        "loss_fn = torch.nn.BCELoss()\n",
        "# loss_fn = FocalLoss()\n",
        "# criterion = asy_focal_SupConLoss()\n",
        "\n",
        "epochs = 5\n",
        "lam = 0.9\n",
        "\n",
        "from transformers import AdamW, get_linear_schedule_with_warmup\n",
        "\n",
        "optimizer = AdamW(embedding_model.parameters(),\n",
        "                  lr = 1e-5, # default is 5e-5\n",
        "                  eps = 1e-8, #  default is 1e-8.\n",
        "                )\n",
        "\n",
        "# Total number of training steps is number of batches * number of epochs.\n",
        "total_steps = len(train_data_encoded) * epochs\n",
        "# Create the learning rate scheduler.\n",
        "scheduler = get_linear_schedule_with_warmup(optimizer,\n",
        "                                            num_warmup_steps = 20,\n",
        "                                            num_training_steps = total_steps)"
      ]
    },
    {
      "cell_type": "code",
      "execution_count": 35,
      "metadata": {
        "id": "Ojy0f02V-c0n"
      },
      "outputs": [],
      "source": [
        "max_f1_positive = 0"
      ]
    },
    {
      "cell_type": "markdown",
      "metadata": {
        "id": "8f4htZNbRIuR"
      },
      "source": [
        "## <h2><font color='darkgreen'>3.4 Start Training"
      ]
    },
    {
      "cell_type": "markdown",
      "metadata": {
        "id": "8-OmvnP5rBzH"
      },
      "source": [
        "### <h3><font color='darkgreen'> Stage 1"
      ]
    },
    {
      "cell_type": "code",
      "execution_count": 36,
      "metadata": {
        "colab": {
          "base_uri": "https://localhost:8080/"
        },
        "id": "VOsEvAuBlf-q",
        "outputId": "17257fe0-b41b-4a8b-f473-de856c5f1745"
      },
      "outputs": [
        {
          "output_type": "stream",
          "name": "stdout",
          "text": [
            "\n",
            "======== Epoch 1 / 5 ========\n",
            " Epoch   |  Batch   |  Train Loss  |  Val Loss  | Val F1 Positive |  Elapsed \n",
            "--------------------------------------------------------------------------------------------\n",
            "   1     |   189    |   6.146417   |     -      |     -     |     -     |     -     --------------------------------------------------------------------------------------------\n",
            "  end    |    -     |   6.146417   | 24.603043  |   0.00    |   61.98  \n",
            "--------------------------------------------------------------------------------------------\n",
            "\n",
            "\n",
            "\n",
            "======== Epoch 2 / 5 ========\n",
            " Epoch   |  Batch   |  Train Loss  |  Val Loss  | Val F1 Positive |  Elapsed \n",
            "--------------------------------------------------------------------------------------------\n",
            "   2     |   189    |   6.133933   |     -      |     -     |     -     |     -     --------------------------------------------------------------------------------------------\n",
            "  end    |    -     |   6.133933   | 24.576376  |   0.00    |   45.38  \n",
            "--------------------------------------------------------------------------------------------\n",
            "\n",
            "\n",
            "\n",
            "======== Epoch 3 / 5 ========\n",
            " Epoch   |  Batch   |  Train Loss  |  Val Loss  | Val F1 Positive |  Elapsed \n",
            "--------------------------------------------------------------------------------------------\n",
            "   3     |   189    |   6.129383   |     -      |     -     |     -     |     -     --------------------------------------------------------------------------------------------\n",
            "  end    |    -     |   6.129383   | 24.465820  |   0.32    |   46.79  \n",
            "--------------------------------------------------------------------------------------------\n",
            "\n",
            "\n",
            "\n",
            "======== Epoch 4 / 5 ========\n",
            " Epoch   |  Batch   |  Train Loss  |  Val Loss  | Val F1 Positive |  Elapsed \n",
            "--------------------------------------------------------------------------------------------\n",
            "   4     |   189    |   6.115204   |     -      |     -     |     -     |     -     --------------------------------------------------------------------------------------------\n",
            "  end    |    -     |   6.115204   | 24.403771  |   0.40    |   45.29  \n",
            "--------------------------------------------------------------------------------------------\n",
            "\n",
            "\n",
            "\n",
            "======== Epoch 5 / 5 ========\n",
            " Epoch   |  Batch   |  Train Loss  |  Val Loss  | Val F1 Positive |  Elapsed \n",
            "--------------------------------------------------------------------------------------------\n",
            "   5     |   189    |   6.100829   |     -      |     -     |     -     |     -     --------------------------------------------------------------------------------------------\n",
            "  end    |    -     |   6.100829   | 24.330898  |   0.55    |   44.83  \n",
            "--------------------------------------------------------------------------------------------\n",
            "\n",
            "\n",
            "\n",
            "Training complete!\n"
          ]
        }
      ],
      "source": [
        "import sys\n",
        "# Store the average loss after each epoch so we can plot them.\n",
        "loss_values  = []\n",
        "\n",
        "total_loss = 0\n",
        "train_list = []\n",
        "\n",
        "for i in range(epochs):\n",
        "    print(\"\")\n",
        "    print('======== Epoch {:} / {:} ========'.format(i + 1, epochs))\n",
        "\n",
        "\n",
        "    n_epoch = i + 1\n",
        "    print(\n",
        "        f\"{'Epoch':^8} | {'Batch':^8} | {'Train Loss':^12} | {'Val Loss':^10} | {'Val F1 Positive':^10} | {'Elapsed':^9}\")\n",
        "    print(\"-\" * 92)\n",
        "\n",
        "    # Measure the elapsed time of each epoch\n",
        "    t0_epoch, t0_batch = time.time(), time.time()\n",
        "\n",
        "    # Reset tracking variables at the beginning of each epoch\n",
        "    total_loss, batch_loss, batch_counts = 0, 0, 0\n",
        "\n",
        "    embedding_model.train()\n",
        "\n",
        "    train_accuracy = []\n",
        "\n",
        "    for i_batch, batch in enumerate(train_data_encoded):\n",
        "\n",
        "        embedding_model.zero_grad()  # Zero gradients at the start of batch processing\n",
        "        batch_counts += 1\n",
        "\n",
        "\n",
        "        input_ids, attention_mask, labels = batch\n",
        "        input_ids = input_ids.to(device)\n",
        "        attention_mask = attention_mask.to(device)\n",
        "        labels = labels.to(device)\n",
        "\n",
        "        logits , hidden_state = embedding_model.forward(ids=input_ids, mask=attention_mask)\n",
        "\n",
        "\n",
        "        # loss value out of the tuple.\n",
        "\n",
        "        # loss = None\n",
        "        # loss_fct = criterion\n",
        "        # labels = labels.float()\n",
        "        # loss = loss_fct(logits, labels)\n",
        "        logits = torch.flatten(logits)\n",
        "        labels = labels.float()\n",
        "        cross_loss = loss_fn(logits, labels)\n",
        "        contrastive_l = binary_focal_SupConLoss(hidden_state, labels)\n",
        "\n",
        "        loss = (lam * contrastive_l) + (1 - lam) * (cross_loss)\n",
        "\n",
        "\n",
        "        # from the tensor.\n",
        "        batch_loss += loss.item()\n",
        "        total_loss += loss.item()\n",
        "        print(\n",
        "            f\"\\r{n_epoch:^8} | {i_batch:^8} | {batch_loss / batch_counts:^12.6f} | {'-':^10} | {'-':^9} | {'-':^9.2} | {'-':^9.2} \" , end='')\n",
        "\n",
        "        # Perform a backward pass to calculate the gradients.\n",
        "        loss.backward()\n",
        "\n",
        "        # Clip the norm of the gradients to 1.0.\n",
        "        # This is to help prevent the \"exploding gradients\" problem.\n",
        "        torch.nn.utils.clip_grad_norm_(embedding_model.parameters(), 1.0)\n",
        "\n",
        "        # Update parameters and take a step using the computed gradient.\n",
        "        # The optimizer dictates the \"update rule\"--how the parameters are\n",
        "        # modified based on their gradients, the learning rate, etc.\n",
        "        optimizer.step()\n",
        "\n",
        "        scheduler.step()\n",
        "\n",
        "        # Update the learning rate.\n",
        "\n",
        "        embedding_model.zero_grad()\n",
        "\n",
        "\n",
        "    # Calculate the average loss over the entire training data\n",
        "    avg_train_loss = total_loss / len(train_data_encoded)\n",
        "\n",
        "    # Store the loss value for plotting the learning curve.\n",
        "    loss_values.append(avg_train_loss)\n",
        "\n",
        "        # ========================================\n",
        "    #               Validation\n",
        "    # ========================================\n",
        "    # After the completion of each training epoch, measure our performance on\n",
        "    # our validation set.\n",
        "    t0 = time.time()\n",
        "    # Put the model in evaluation mode--the dropout layers behave differently\n",
        "    # during evaluation.\n",
        "    embedding_model.eval()\n",
        "\n",
        "    # Tracking variables\n",
        "    val_accuracy = []\n",
        "    val_loss = 0\n",
        "    # Tracking variables\n",
        "    eval_loss, eval_accuracy = 0, 0\n",
        "    nb_eval_steps, nb_eval_examples = 0, 0\n",
        "\n",
        "    batch_counts_eval = 0\n",
        "\n",
        "    total_preds = []\n",
        "    # Evaluate data for one epoch\n",
        "    for batch in validation_data_encoded:\n",
        "\n",
        "        batch_counts_eval += 1\n",
        "\n",
        "        # Add batch to GPU\n",
        "        batch = tuple(t.to(device) for t in batch)\n",
        "\n",
        "        # Unpack the inputs from our dataloader\n",
        "        b_input_ids, b_input_mask , b_labels = batch\n",
        "\n",
        "        # Telling the model not to compute or store gradients, saving memory and\n",
        "        # speeding up validation\n",
        "        with torch.no_grad():\n",
        "\n",
        "            logits , hidden_state = embedding_model.forward(ids=b_input_ids,\n",
        "                            mask=b_input_mask)\n",
        "\n",
        "        b_labels = b_labels.float()\n",
        "        logits = torch.flatten(logits)\n",
        "        cross_loss = loss_fn(logits, b_labels)\n",
        "        contrastive_l = binary_focal_SupConLoss(hidden_state, b_labels)\n",
        "        loss = (lam * contrastive_l) + (1 - lam) * (cross_loss)\n",
        "\n",
        "\n",
        "        # Move logits and labels to CPU\n",
        "        logits = logits.detach().cpu().numpy()\n",
        "        label_ids = b_labels.to('cpu').numpy()\n",
        "\n",
        "        # Get the predictions\n",
        "        preds = []\n",
        "        for n in logits:\n",
        "            preds.append(1.0 if n > 0.5 else 0.0)\n",
        "\n",
        "        total_preds.extend(preds)\n",
        "\n",
        "\n",
        "\n",
        "        val_loss += loss.item()\n",
        "\n",
        "        # Print performance over the entire training data\n",
        "        time_elapsed = time.time() - t0_epoch\n",
        "\n",
        "        nb_eval_steps += 1\n",
        "\n",
        "        # Calculate F1 score using sklearn\n",
        "\n",
        "    # Compute the average accuracy and loss over the validation set.\n",
        "    # print('val loss before mean:', val_loss)\n",
        "    # val_loss = np.mean(val_loss)\n",
        "\n",
        "    val_loss = val_loss / len(test_data_encoded)\n",
        "\n",
        "    total_labels = validate['label'].tolist()\n",
        "\n",
        "    f1_scores = f1_score(total_labels, total_preds, average=None)\n",
        "\n",
        "    f1_positive_class = f1_scores[1]\n",
        "\n",
        "\n",
        "    # val_accuracy = np.mean(val_accuracy)\n",
        "    # print('val loss before mean:', val_loss)\n",
        "\n",
        "    # Update scheduler with validation loss\n",
        "\n",
        "    if f1_positive_class > max_f1_positive:\n",
        "        max_f1_positive = f1_positive_class\n",
        "        # Save the model\n",
        "        torch.save({\n",
        "            'epoch': n_epoch,\n",
        "            'model_state_dict': embedding_model.state_dict(),\n",
        "            'optimizer_state_dict': optimizer.state_dict(),\n",
        "            'loss': loss,\n",
        "            'f1_positive_class': f1_positive_class,\n",
        "            }, 'model_checkpoint.pth')\n",
        "\n",
        "\n",
        "\n",
        "    # f1 = f1_score(b_labels.cpu().numpy(), preds.cpu().numpy(), average='macro')\n",
        "    print(\"-\" * 92)\n",
        "    print(\n",
        "        f\"{'end':^8} | {'-':^8} | {avg_train_loss:^12.6f} | {val_loss:^10.6f} | {f1_positive_class:^9.2f} | {time_elapsed:^9.2f}\")\n",
        "    print(\"-\" * 92)\n",
        "    print(\"\\n\")\n",
        "print(\"\")\n",
        "print(\"Training complete!\")"
      ]
    },
    {
      "cell_type": "code",
      "execution_count": 37,
      "metadata": {
        "id": "ejnbneP1Au22",
        "colab": {
          "base_uri": "https://localhost:8080/"
        },
        "outputId": "b52bee25-3e46-4fe6-99c5-ff8e6f065ba3"
      },
      "outputs": [
        {
          "output_type": "execute_result",
          "data": {
            "text/plain": [
              "<All keys matched successfully>"
            ]
          },
          "metadata": {},
          "execution_count": 37
        }
      ],
      "source": [
        "# Load the weights from the saved file\n",
        "model_weights = torch.load(\"/content/model_checkpoint.pth\")\n",
        "\n",
        "model_weights = model_weights['model_state_dict']\n",
        "# Load the weights into your model\n",
        "embedding_model.load_state_dict(model_weights)"
      ]
    },
    {
      "cell_type": "markdown",
      "metadata": {
        "id": "nH0vgZw-EIJi"
      },
      "source": [
        "## TSNE"
      ]
    },
    {
      "cell_type": "code",
      "execution_count": 38,
      "metadata": {
        "id": "lNtTUkO2DNgN",
        "colab": {
          "base_uri": "https://localhost:8080/",
          "height": 666
        },
        "outputId": "637fbd45-5ca7-440d-d513-9525e5208b24"
      },
      "outputs": [
        {
          "output_type": "display_data",
          "data": {
            "text/plain": [
              "<Figure size 1200x800 with 1 Axes>"
            ],
            "image/png": "[encoded data removed]"
          },
          "metadata": {}
        }
      ],
      "source": [
        "import torch\n",
        "import numpy as np\n",
        "from sklearn.manifold import TSNE\n",
        "import matplotlib.pyplot as plt\n",
        "\n",
        "# Assuming embedding_model is your trained model\n",
        "# and train_data_encoded is your dataset\n",
        "\n",
        "embeddings = []\n",
        "labels = []\n",
        "\n",
        "embedding_model.eval()\n",
        "with torch.no_grad():\n",
        "    for batch in test_data_encoded:\n",
        "        input_ids, attention_mask, batch_labels = batch\n",
        "        input_ids = input_ids.to(device)\n",
        "        attention_mask = attention_mask.to(device)\n",
        "\n",
        "        logits , batch_embeddings = embedding_model.forward(input_ids, attention_mask, return_embeddings = True)\n",
        "        embeddings.append(batch_embeddings.cpu().numpy())\n",
        "        labels.append(batch_labels.cpu().numpy())\n",
        "\n",
        "embeddings = np.concatenate(embeddings, axis=0)\n",
        "labels = np.concatenate(labels, axis=0)\n",
        "\n",
        "# Apply t-SNE\n",
        "tsne = TSNE(n_components=2, random_state=42)\n",
        "embeddings_2d = tsne.fit_transform(embeddings)\n",
        "\n",
        "# Plot\n",
        "plt.figure(figsize=(12,8))\n",
        "for i in np.unique(labels):\n",
        "    indices = labels == i\n",
        "    plt.scatter(embeddings_2d[indices, 0], embeddings_2d[indices, 1], label=f'Class {i}')\n",
        "plt.legend()\n",
        "plt.show()\n"
      ]
    },
    {
      "cell_type": "markdown",
      "metadata": {
        "id": "QXOsQbX8rIRN"
      },
      "source": [
        "### <h3><font color='darkgreen'> Stage 2"
      ]
    },
    {
      "cell_type": "markdown",
      "metadata": {
        "id": "jQH2QCyXHmst"
      },
      "source": [
        "## <h2><font color='darkgreen'>3.5 Learn Threshold"
      ]
    },
    {
      "cell_type": "code",
      "execution_count": 39,
      "metadata": {
        "id": "ENZTklEeIn3j"
      },
      "outputs": [],
      "source": [
        "def inference_match_score(model , tensor_data , dataframe ):\n",
        "\n",
        "# Stance should be true if we want to organize the scores based on the stance of the arguments towards the topic\n",
        "    print('Predicting Match score for {:,} test sentences...'.format(len(tensor_data)))\n",
        "    # Put model in evaluation mode\n",
        "    model.eval()\n",
        "    # Tracking variables\n",
        "    match_scores = []\n",
        "    # Predict\n",
        "    count = 0\n",
        "    for sample in tensor_data:\n",
        "      count += 1\n",
        "\n",
        "\n",
        "\n",
        "      # Add batch to GPU\n",
        "      sample = tuple(t.to('cuda') for t in sample)\n",
        "\n",
        "      # Unpack the inputs from our dataloader\n",
        "      b_input_ids, b_input_mask, b_labels = sample\n",
        "\n",
        "      # Telling the model not to compute or store gradients, saving memory and\n",
        "      # speeding up prediction\n",
        "      with torch.no_grad():\n",
        "          # Forward pass, calculate logit predictions\n",
        "          logits , _  = model.forward(ids=b_input_ids,\n",
        "                          mask=b_input_mask)\n",
        "          logits = torch.flatten(logits)\n",
        "      # Move logits and labels to CPU\n",
        "      logits = logits.detach().cpu().numpy()\n",
        "      label_ids = b_labels.to('cpu').numpy()\n",
        "      # Store predictions\n",
        "      match_scores.append(logits)\n",
        "      sys.stdout.write(f'\\rPredicted {count}/{len(tensor_data)} ')\n",
        "      sys.stdout.flush()\n",
        "\n",
        "    match_scores = [l.tolist() for l in match_scores]\n",
        "    match_scores = [x for xs in match_scores for x in xs]\n",
        "\n",
        "    print('DONE.')\n",
        "    return match_scores\n"
      ]
    },
    {
      "cell_type": "markdown",
      "metadata": {
        "id": "lwjldGjpRW7K"
      },
      "source": [
        "# <h1><font color='lightcoral'>Match Scoring"
      ]
    },
    {
      "cell_type": "code",
      "execution_count": 40,
      "metadata": {
        "id": "UttMSnFxsNhK"
      },
      "outputs": [],
      "source": [
        "# test dataset\n",
        "batch_size = 200\n",
        "max_sequence_length = 50\n",
        "\n",
        "test_seq = torch.tensor(test_encode['input_ids'])\n",
        "test_mask = torch.tensor(test_encode['attention_mask'])\n",
        "test_y = torch.tensor(data_test['label'].tolist())\n",
        "test_tensors = TensorDataset(test_seq, test_mask, test_y)\n",
        "\n",
        "test_data_encoded = DataLoader(test_tensors , batch_size = batch_size)\n",
        "# combined_data_encoded = DataLoader(encode_examples(compined_dataset, max_sequence_length) , batch_size = batch_size)"
      ]
    },
    {
      "cell_type": "code",
      "execution_count": 41,
      "metadata": {
        "id": "sLhghMbuu-Fq",
        "colab": {
          "base_uri": "https://localhost:8080/"
        },
        "outputId": "2f480219-9582-428e-a437-6497a4aa838e"
      },
      "outputs": [
        {
          "output_type": "stream",
          "name": "stdout",
          "text": [
            "Predicting Match score for 7 test sentences...\n",
            "Predicted 7/7 DONE.\n"
          ]
        }
      ],
      "source": [
        "scores = inference_match_score(model = embedding_model , tensor_data = test_data_encoded , dataframe = data_test )\n"
      ]
    },
    {
      "cell_type": "code",
      "execution_count": 42,
      "metadata": {
        "id": "_4IvIUZEIkDw"
      },
      "outputs": [],
      "source": [
        "from sklearn.metrics import average_precision_score"
      ]
    },
    {
      "cell_type": "code",
      "execution_count": 43,
      "metadata": {
        "id": "y1lsVQUY-cH8"
      },
      "outputs": [],
      "source": [
        "def match_selection(scores , threshold):\n",
        "    predictions = []\n",
        "    for s in scores:\n",
        "        if s > threshold:\n",
        "          predictions.append(1)\n",
        "        else:\n",
        "          predictions.append(0)\n",
        "    return predictions"
      ]
    },
    {
      "cell_type": "code",
      "execution_count": 44,
      "metadata": {
        "id": "02YdNi7-tMA0"
      },
      "outputs": [],
      "source": [
        "from sklearn.metrics import classification_report\n",
        "from sklearn.metrics import precision_recall_fscore_support"
      ]
    },
    {
      "cell_type": "code",
      "execution_count": 45,
      "metadata": {
        "id": "U2kFurEjY3P2",
        "colab": {
          "base_uri": "https://localhost:8080/"
        },
        "outputId": "a375a5eb-46c9-4b01-f21d-8eeb11c206a8"
      },
      "outputs": [
        {
          "output_type": "stream",
          "name": "stdout",
          "text": [
            " Accuracy:  0.8721428571428571\n",
            " Precision: 0.5466666666666666\n",
            " Recall:    0.615\n",
            " F1-score:  0.5788235294117647\n"
          ]
        }
      ],
      "source": [
        "labels = data_test['label'].tolist()\n",
        "pred_flat = match_selection(scores = scores  , threshold = 0.5)\n",
        "\n",
        "print(' Accuracy: ', sum(1 for x,y in zip(pred_flat,labels) if x == y) / len(pred_flat))\n",
        "P_R_F1 = precision_recall_fscore_support(y_true = labels, y_pred = pred_flat, average='binary')\n",
        "print(f' Precision: {P_R_F1[0]}\\n Recall:    {P_R_F1[1]}\\n F1-score:  {P_R_F1[2]}')"
      ]
    },
    {
      "cell_type": "code",
      "execution_count": 46,
      "metadata": {
        "id": "cqajDRTxg1fw",
        "colab": {
          "base_uri": "https://localhost:8080/"
        },
        "outputId": "6218a87a-99c7-42c1-d38b-279e2e14ac60"
      },
      "outputs": [
        {
          "output_type": "execute_result",
          "data": {
            "text/plain": [
              "0.5368991263966161"
            ]
          },
          "metadata": {},
          "execution_count": 46
        }
      ],
      "source": [
        "average_precision_score(y_true = labels, y_score = scores)"
      ]
    },
    {
      "cell_type": "code",
      "execution_count": 47,
      "metadata": {
        "id": "BVidFHc7tvYD",
        "colab": {
          "base_uri": "https://localhost:8080/"
        },
        "outputId": "39f8adb0-589a-4c9a-cae7-c7ee3e4ba57b"
      },
      "outputs": [
        {
          "output_type": "stream",
          "name": "stdout",
          "text": [
            "              precision    recall  f1-score   support\n",
            "\n",
            "           0     0.9345    0.9150    0.9246      1200\n",
            "           1     0.5467    0.6150    0.5788       200\n",
            "\n",
            "    accuracy                         0.8721      1400\n",
            "   macro avg     0.7406    0.7650    0.7517      1400\n",
            "weighted avg     0.8791    0.8721    0.8752      1400\n",
            "\n"
          ]
        }
      ],
      "source": [
        "print(classification_report(y_true = labels, y_pred = pred_flat , digits=4))"
      ]
    },
    {
      "cell_type": "code",
      "execution_count": 48,
      "metadata": {
        "id": "7i6eS3DqVtHg",
        "colab": {
          "base_uri": "https://localhost:8080/",
          "height": 619
        },
        "outputId": "cab1dbac-e19a-40b4-9e28-19db9ee3a254"
      },
      "outputs": [
        {
          "output_type": "display_data",
          "data": {
            "text/plain": [
              "<Figure size 1000x700 with 2 Axes>"
            ],
            "image/png": "[encoded data removed]"
          },
          "metadata": {}
        }
      ],
      "source": [
        "import seaborn as sns\n",
        "\n",
        "cm = confusion_matrix(labels, pred_flat)\n",
        "plt.figure(figsize=(10,7))\n",
        "sns.heatmap(cm, annot=True, fmt='d')\n",
        "plt.xlabel('Predicted')\n",
        "plt.ylabel('Truth')\n",
        "plt.show()"
      ]
    },
    {
      "cell_type": "code",
      "execution_count": 49,
      "metadata": {
        "id": "LFhminnDd2Ep"
      },
      "outputs": [],
      "source": [
        "import numpy as np\n",
        "import matplotlib.pyplot as plt\n",
        "from itertools import cycle\n",
        "\n",
        "from sklearn import svm, datasets\n",
        "from sklearn.metrics import roc_curve, auc\n",
        "from sklearn.model_selection import train_test_split\n",
        "from sklearn.preprocessing import label_binarize\n",
        "from sklearn.multiclass import OneVsRestClassifier\n",
        "from sklearn.metrics import roc_auc_score\n",
        "\n",
        "# Import some data to play with\n",
        "iris = datasets.load_iris()\n",
        "X = iris.data\n",
        "y = iris.target\n",
        "\n",
        "# Binarize the output\n",
        "y = label_binarize(y, classes=[0, 1, 2])\n",
        "n_classes = y.shape[1]\n",
        "\n",
        "# Add noisy features to make the problem harder\n",
        "random_state = np.random.RandomState(0)\n",
        "n_samples, n_features = X.shape\n",
        "X = np.c_[X, random_state.randn(n_samples, 200 * n_features)]\n",
        "\n",
        "# shuffle and split training and test sets\n",
        "X_train, X_test, y_train, y_test = train_test_split(X, y, test_size=0.5, random_state=0)\n",
        "\n",
        "# Learn to predict each class against the other\n",
        "classifier = OneVsRestClassifier(\n",
        "    svm.SVC(kernel=\"linear\", probability=True, random_state=random_state)\n",
        ")\n",
        "y_score = classifier.fit(X_train, y_train).decision_function(X_test)\n",
        "\n",
        "# Compute ROC curve and ROC area for each class\n",
        "fpr = dict()\n",
        "tpr = dict()\n",
        "roc_auc = dict()\n",
        "for i in range(n_classes):\n",
        "    fpr[i], tpr[i], _ = roc_curve(y_test[:, i], y_score[:, i])\n",
        "    roc_auc[i] = auc(fpr[i], tpr[i])\n",
        "\n",
        "# Compute micro-average ROC curve and ROC area\n",
        "fpr[\"micro\"], tpr[\"micro\"], _ = roc_curve(y_test.ravel(), y_score.ravel())\n",
        "roc_auc[\"micro\"] = auc(fpr[\"micro\"], tpr[\"micro\"])"
      ]
    },
    {
      "cell_type": "code",
      "execution_count": 50,
      "metadata": {
        "id": "ppHU_DeJbbup"
      },
      "outputs": [],
      "source": [
        "import numpy as np\n",
        "import matplotlib.pyplot as plt\n",
        "from itertools import cycle\n",
        "\n",
        "from sklearn import svm, datasets\n",
        "from sklearn.metrics import roc_curve, auc\n",
        "from sklearn.model_selection import train_test_split\n",
        "from sklearn.preprocessing import label_binarize\n",
        "from sklearn.multiclass import OneVsRestClassifier\n",
        "from sklearn.metrics import roc_auc_score\n",
        "\n",
        "n_classes = 2\n",
        "\n",
        "converted_array = np.array([[1, 0] if x == 0 else [0, 1] for x in labels])\n",
        "converted_scores = np.array([[1 - x, x] for x in scores])\n",
        "# Compute ROC curve and ROC area for each class\n",
        "fpr = dict()\n",
        "tpr = dict()\n",
        "roc_auc = dict()\n",
        "for i in range(n_classes):\n",
        "    fpr[i], tpr[i], _ = roc_curve(converted_array[:, i], converted_scores[:, i])\n",
        "    roc_auc[i] = auc(fpr[i], tpr[i])\n",
        "\n",
        "# Compute micro-average ROC curve and ROC area\n",
        "fpr[\"micro\"], tpr[\"micro\"], _ = roc_curve(converted_array.ravel(), converted_scores.ravel())\n",
        "roc_auc[\"micro\"] = auc(fpr[\"micro\"], tpr[\"micro\"])\n"
      ]
    },
    {
      "cell_type": "code",
      "execution_count": 51,
      "metadata": {
        "id": "KkBE93THcv5q",
        "colab": {
          "base_uri": "https://localhost:8080/",
          "height": 641
        },
        "outputId": "3e18a4b9-99d3-46f6-efb7-fed5f8b7bb43"
      },
      "outputs": [
        {
          "output_type": "display_data",
          "data": {
            "text/plain": [
              "<Figure size 1000x700 with 1 Axes>"
            ],
            "image/png": "[encoded data removed]"
          },
          "metadata": {}
        }
      ],
      "source": [
        "# First aggregate all false positive rates\n",
        "all_fpr = np.unique(np.concatenate([fpr[i] for i in range(n_classes)]))\n",
        "\n",
        "# Then interpolate all ROC curves at this points\n",
        "mean_tpr = np.zeros_like(all_fpr)\n",
        "for i in range(n_classes):\n",
        "    mean_tpr += np.interp(all_fpr, fpr[i], tpr[i])\n",
        "\n",
        "# Finally average it and compute AUC\n",
        "mean_tpr /= n_classes\n",
        "\n",
        "fpr[\"macro\"] = all_fpr\n",
        "tpr[\"macro\"] = mean_tpr\n",
        "roc_auc[\"macro\"] = auc(fpr[\"macro\"], tpr[\"macro\"])\n",
        "\n",
        "# Plot all ROC curves\n",
        "plt.figure(figsize=(10,7))\n",
        "\n",
        "\n",
        "plt.plot(\n",
        "    fpr[\"macro\"],\n",
        "    tpr[\"macro\"],\n",
        "    label=\"macro-average ROC curve (area = {0:0.2f})\".format(roc_auc[\"macro\"]),\n",
        "    color=\"navy\",\n",
        "    linestyle=\":\",\n",
        "    linewidth=4,\n",
        ")\n",
        "\n",
        "colors = cycle([\"aqua\", \"darkorange\", \"cornflowerblue\"])\n",
        "for i, color in zip(range(n_classes), colors):\n",
        "    plt.plot(\n",
        "        fpr[i],\n",
        "        tpr[i],\n",
        "        color=color,\n",
        "        lw=2,\n",
        "        label=\"ROC curve of class {0} (area = {1:0.2f})\".format(i, roc_auc[i]),\n",
        "    )\n",
        "\n",
        "plt.plot([0, 1], [0, 1], \"k--\", lw=2)\n",
        "plt.xlim([0.0, 1.0])\n",
        "plt.ylim([0.0, 1.05])\n",
        "plt.xlabel(\"False Positive Rate\")\n",
        "plt.ylabel(\"True Positive Rate\")\n",
        "plt.title(\"Receiver operating characteristic\")\n",
        "plt.legend(loc=\"lower right\")\n",
        "plt.show()"
      ]
    },
    {
      "cell_type": "code",
      "execution_count": 52,
      "metadata": {
        "id": "hBTqPQdBgKfo",
        "colab": {
          "base_uri": "https://localhost:8080/"
        },
        "outputId": "37fb7bcb-12d3-49b7-b051-7e833616b0e1"
      },
      "outputs": [
        {
          "output_type": "stream",
          "name": "stdout",
          "text": [
            "Optimal Threshold: 1\n"
          ]
        }
      ],
      "source": [
        "from sklearn.metrics import roc_curve\n",
        "import numpy as np\n",
        "\n",
        "# true_labels and predictions as defined earlier\n",
        "fpr, tpr, thresholds = roc_curve(labels, pred_flat)\n",
        "\n",
        "# Youden's J statistic to find the optimal threshold\n",
        "J = tpr - fpr\n",
        "optimal_idx = np.argmax(J)\n",
        "optimal_threshold = thresholds[optimal_idx]\n",
        "\n",
        "print(\"Optimal Threshold:\", optimal_threshold)\n"
      ]
    },
    {
      "cell_type": "code",
      "execution_count": 53,
      "metadata": {
        "id": "D1DSDmpVTyiN"
      },
      "outputs": [],
      "source": [
        "def predict(trained_model, dataset, sample_index):\n",
        "\n",
        "    trained_model.eval()\n",
        "\n",
        "    sentence = dataset['sentence'].tolist()[sample_index]\n",
        "\n",
        "    sample_encode = tokenizer(sentence,\n",
        "                         max_length = max_sequence_length,\n",
        "                         padding=\"max_length\",truncation=True)\n",
        "\n",
        "    train_seq = torch.tensor(sample_encode['input_ids']).to(device).view(1, 50)\n",
        "    train_mask = torch.tensor(sample_encode['attention_mask']).to(device).view(1, 50)\n",
        "    train_y = dataset['label'].tolist()[sample_index]\n",
        "\n",
        "\n",
        "    # Telling the model not to compute or store gradients, saving memory and\n",
        "    # speeding up prediction\n",
        "    with torch.no_grad():\n",
        "        # Forward pass, calculate logit predictions\n",
        "        logits , _= trained_model.forward(ids=train_seq,\n",
        "                        mask=train_mask)\n",
        "\n",
        "    # Determine the output prediction based on the logits\n",
        "\n",
        "    prediction = 1 if logits > 0.5 else 0\n",
        "\n",
        "    print('-'*75)\n",
        "    print(f\"{'Sentence':<15}: {sentence} \\n\")\n",
        "\n",
        "    prediction_text = 'Sarcastic' if prediction == 1 else 'Non-sarcastic'\n",
        "    confidence_text = f\"{round(logits[0][0].cpu().item(), 2):<15}\" if prediction == 1 else (1 - logits[0][0].cpu().item())\n",
        "    print(f\"{'Prediction':<15}: {prediction_text:<15} {'Confidence':<15}: {confidence_text}\")\n",
        "\n",
        "    ground_truth_text = 'Sarcastic' if train_y == 1 else 'Non-sarcastic'\n",
        "    print(f\"{'Ground Truth':<15}: {ground_truth_text}\")\n",
        "    print('-'*75)\n",
        "\n",
        "\n",
        "\n",
        "\n",
        "# Note: This is a general template. The actual implementation of preprocess and predict methods\n",
        "# will depend on the specifics of the trained_model and its underlying framework (e.g., TensorFlow, PyTorch).\n"
      ]
    },
    {
      "cell_type": "code",
      "execution_count": 54,
      "metadata": {
        "id": "xBt_p7Y3WgHd",
        "colab": {
          "base_uri": "https://localhost:8080/"
        },
        "outputId": "93452f8e-1436-457c-d308-00dead9408f1"
      },
      "outputs": [
        {
          "output_type": "stream",
          "name": "stdout",
          "text": [
            "---------------------------------------------------------------------------\n",
            "Sentence       : So the Scottish Government want people to get their booster shots so badly that the website doesn't even work \n",
            "\n",
            "Prediction     : Sarcastic       Confidence     : 0.84           \n",
            "Ground Truth   : Sarcastic\n",
            "---------------------------------------------------------------------------\n"
          ]
        }
      ],
      "source": [
        "predict(trained_model = embedding_model,\n",
        "        dataset = data_test,\n",
        "        sample_index = 2)"
      ]
    },
    {
      "cell_type": "code",
      "source": [
        "!pip install shap"
      ],
      "metadata": {
        "colab": {
          "base_uri": "https://localhost:8080/"
        },
        "id": "FzyM1h9b3sXV",
        "outputId": "82246f3f-8eb2-4e6a-f336-f8881d356863"
      },
      "execution_count": 55,
      "outputs": [
        {
          "output_type": "stream",
          "name": "stdout",
          "text": [
            "Requirement already satisfied: shap in /usr/local/lib/python3.10/dist-packages (0.44.1)\n",
            "Requirement already satisfied: numpy in /usr/local/lib/python3.10/dist-packages (from shap) (1.25.2)\n",
            "Requirement already satisfied: scipy in /usr/local/lib/python3.10/dist-packages (from shap) (1.11.4)\n",
            "Requirement already satisfied: scikit-learn in /usr/local/lib/python3.10/dist-packages (from shap) (1.2.2)\n",
            "Requirement already satisfied: pandas in /usr/local/lib/python3.10/dist-packages (from shap) (1.5.3)\n",
            "Requirement already satisfied: tqdm>=4.27.0 in /usr/local/lib/python3.10/dist-packages (from shap) (4.66.2)\n",
            "Requirement already satisfied: packaging>20.9 in /usr/local/lib/python3.10/dist-packages (from shap) (23.2)\n",
            "Requirement already satisfied: slicer==0.0.7 in /usr/local/lib/python3.10/dist-packages (from shap) (0.0.7)\n",
            "Requirement already satisfied: numba in /usr/local/lib/python3.10/dist-packages (from shap) (0.58.1)\n",
            "Requirement already satisfied: cloudpickle in /usr/local/lib/python3.10/dist-packages (from shap) (2.2.1)\n",
            "Requirement already satisfied: llvmlite<0.42,>=0.41.0dev0 in /usr/local/lib/python3.10/dist-packages (from numba->shap) (0.41.1)\n",
            "Requirement already satisfied: python-dateutil>=2.8.1 in /usr/local/lib/python3.10/dist-packages (from pandas->shap) (2.8.2)\n",
            "Requirement already satisfied: pytz>=2020.1 in /usr/local/lib/python3.10/dist-packages (from pandas->shap) (2023.4)\n",
            "Requirement already satisfied: joblib>=1.1.1 in /usr/local/lib/python3.10/dist-packages (from scikit-learn->shap) (1.3.2)\n",
            "Requirement already satisfied: threadpoolctl>=2.0.0 in /usr/local/lib/python3.10/dist-packages (from scikit-learn->shap) (3.2.0)\n",
            "Requirement already satisfied: six>=1.5 in /usr/local/lib/python3.10/dist-packages (from python-dateutil>=2.8.1->pandas->shap) (1.16.0)\n"
          ]
        }
      ]
    },
    {
      "cell_type": "code",
      "source": [
        "class ModifiedModel(nn.Module):\n",
        "    def __init__(self, original_model):\n",
        "        super(ModifiedModel, self).__init__()\n",
        "        self.original_model = original_model\n",
        "\n",
        "    def forward(self, train_seq , train_mask):\n",
        "\n",
        "        # train_encode = tokenizer(text,\n",
        "        #                  max_length = 40,\n",
        "        #                  padding=\"max_length\",truncation=True)\n",
        "        # train_seq = torch.tensor(train_encode['input_ids']).cuda()\n",
        "        # train_mask = torch.tensor(train_encode['attention_mask']).cuda()\n",
        "\n",
        "\n",
        "        # Call the original model\n",
        "        logits, _ = self.original_model.forward(ids=train_seq, mask=train_mask)\n",
        "\n",
        "\n",
        "        # Apply sigmoid to the logits to get the positive score\n",
        "        positive_scores = torch.sigmoid(logits)\n",
        "\n",
        "        # Calculate the negative scores\n",
        "        negative_scores = 1 - positive_scores\n",
        "\n",
        "        # Concatenate negative and positive scores side by side\n",
        "        # Since positive_scores and negative_scores are already in the desired format ([batch_size, 1]),\n",
        "        # we concatenate them along dim=1 to get a [batch_size, 2] tensor\n",
        "        outputs = torch.cat((negative_scores, positive_scores), dim=1)\n",
        "\n",
        "        return outputs\n",
        "\n",
        "\n",
        "\n",
        "# Assuming embedding_model is your original PyTorch model\n",
        "# Wrap your original model with ModifiedModel\n",
        "modified_model = ModifiedModel(embedding_model)"
      ],
      "metadata": {
        "id": "qTbb8t4sAEEw"
      },
      "execution_count": 56,
      "outputs": []
    },
    {
      "cell_type": "code",
      "source": [
        "data_test['sentence'].tolist()[2]"
      ],
      "metadata": {
        "colab": {
          "base_uri": "https://localhost:8080/",
          "height": 35
        },
        "id": "urEp6zejATy0",
        "outputId": "435d6f78-e3d8-4f31-d435-cff2441d491d"
      },
      "execution_count": 57,
      "outputs": [
        {
          "output_type": "execute_result",
          "data": {
            "text/plain": [
              "\"So the Scottish Government want people to get their booster shots so badly that the website doesn't even work\""
            ],
            "application/vnd.google.colaboratory.intrinsic+json": {
              "type": "string"
            }
          },
          "metadata": {},
          "execution_count": 57
        }
      ]
    },
    {
      "cell_type": "code",
      "source": [
        "import scipy as sp"
      ],
      "metadata": {
        "id": "RI1Du2WtFu_-"
      },
      "execution_count": 58,
      "outputs": []
    },
    {
      "cell_type": "code",
      "source": [
        "# this defines an explicit python function that takes a list of strings and outputs scores for each class\n",
        "def f(x):\n",
        "    tv = torch.tensor(\n",
        "        [\n",
        "            tokenizer.encode(v, padding=\"max_length\", max_length=40, truncation=True)\n",
        "            for v in x\n",
        "        ]\n",
        "    ).cuda()\n",
        "    attention_mask = (tv != 0).type(torch.int64).cuda()\n",
        "    outputs = modified_model(tv, train_mask=attention_mask).detach().cpu().numpy()\n",
        "\n",
        "    scores = (np.exp(outputs).T / np.exp(outputs).sum(-1)).T\n",
        "    val = sp.special.logit(scores)\n",
        "    return val"
      ],
      "metadata": {
        "id": "yHKPJxUhFcMC"
      },
      "execution_count": 59,
      "outputs": []
    },
    {
      "cell_type": "code",
      "source": [
        "labels = ['Normal', 'Sarcastic']"
      ],
      "metadata": {
        "id": "FCG4uBiLQgPZ"
      },
      "execution_count": 60,
      "outputs": []
    },
    {
      "cell_type": "code",
      "source": [
        "import shap"
      ],
      "metadata": {
        "id": "ZOO0m8PaHpQQ"
      },
      "execution_count": 61,
      "outputs": []
    },
    {
      "cell_type": "code",
      "source": [
        "method = \"transformers tokenizer\"\n",
        "\n",
        "# build an explainer by passing a transformers tokenizer\n",
        "if method == \"transformers tokenizer\":\n",
        "    explainer = shap.Explainer(f, tokenizer, output_names=labels)\n",
        "\n",
        "# build an explainer by explicitly creating a masker\n",
        "elif method == \"default masker\":\n",
        "    masker = shap.maskers.Text(r\"\\W\")  # this will create a basic whitespace tokenizer\n",
        "    explainer = shap.Explainer(f, masker, output_names=labels)\n",
        "\n",
        "# build a fully custom tokenizer\n",
        "elif method == \"custom tokenizer\":\n",
        "    import re\n",
        "\n",
        "    def custom_tokenizer(s, return_offsets_mapping=True):\n",
        "        \"\"\"Custom tokenizers conform to a subset of the transformers API.\"\"\"\n",
        "        pos = 0\n",
        "        offset_ranges = []\n",
        "        input_ids = []\n",
        "        for m in re.finditer(r\"\\W\", s):\n",
        "            start, end = m.span(0)\n",
        "            offset_ranges.append((pos, start))\n",
        "            input_ids.append(s[pos:start])\n",
        "            pos = end\n",
        "        if pos != len(s):\n",
        "            offset_ranges.append((pos, len(s)))\n",
        "            input_ids.append(s[pos:])\n",
        "        out = {}\n",
        "        out[\"input_ids\"] = input_ids\n",
        "        if return_offsets_mapping:\n",
        "            out[\"offset_mapping\"] = offset_ranges\n",
        "        return out\n",
        "\n",
        "    masker = shap.maskers.Text(custom_tokenizer)\n",
        "    explainer = shap.Explainer(f, masker, output_names=labels)"
      ],
      "metadata": {
        "id": "Fc2NOTZqF9UJ"
      },
      "execution_count": 62,
      "outputs": []
    },
    {
      "cell_type": "code",
      "source": [
        "predict(trained_model = embedding_model,\n",
        "        dataset = data_test,\n",
        "        sample_index = 1323)"
      ],
      "metadata": {
        "colab": {
          "base_uri": "https://localhost:8080/"
        },
        "id": "hFtyMAzfRcLI",
        "outputId": "da2d481f-b78e-43a4-dbef-c93ea451ebb7"
      },
      "execution_count": 63,
      "outputs": [
        {
          "output_type": "stream",
          "name": "stdout",
          "text": [
            "---------------------------------------------------------------------------\n",
            "Sentence       : Love it when you clearly make a restaurant aware of dietary conditions and they ignore it :smiling_face_with_tear: \n",
            "\n",
            "Prediction     : Sarcastic       Confidence     : 0.88           \n",
            "Ground Truth   : Sarcastic\n",
            "---------------------------------------------------------------------------\n"
          ]
        }
      ]
    },
    {
      "cell_type": "code",
      "source": [
        "shap_values = explainer([data_test['sentence'].tolist()[1323]])\n"
      ],
      "metadata": {
        "colab": {
          "base_uri": "https://localhost:8080/",
          "height": 34,
          "referenced_widgets": [
            "88f431ef855b4bb5b66531288077219b",
            "ed0a44626ba240ef940a8eeeca50206d",
            "ced116406f7b4a3e80dad4f1b9623a42",
            "969308e134bb4047b5b58c33059e99ed",
            "d2df0542a77e4b218db6805c6970dd55",
            "7c8b95c6a7124664b9302f26d63b7bcc",
            "276654828934442986050644b9f32162",
            "a24bbdc76fa141ad87d41df2e8b9a52d",
            "6a99462ae36e45ba84894c24a47408b1",
            "877a5078f59940ceaffc42d7af2b6b50",
            "d2fed67f9edb4ed5bd0285172884d718"
          ]
        },
        "id": "ou4bbOabGAK4",
        "outputId": "1095309e-2bfb-486c-ac6e-ffc1ca36dda3"
      },
      "execution_count": 64,
      "outputs": [
        {
          "output_type": "display_data",
          "data": {
            "text/plain": [
              "  0%|          | 0/498 [00:00<?, ?it/s]"
            ],
            "application/vnd.jupyter.widget-view+json": {
              "version_major": 2,
              "version_minor": 0,
              "model_id": "88f431ef855b4bb5b66531288077219b"
            }
          },
          "metadata": {}
        },
        {
          "output_type": "stream",
          "name": "stderr",
          "text": [
            "PartitionExplainer explainer: 2it [00:16, 16.21s/it]               \n"
          ]
        }
      ]
    },
    {
      "cell_type": "code",
      "source": [
        "shap.plots.text(shap_values[0, :, \"Sarcastic\"])\n"
      ],
      "metadata": {
        "colab": {
          "base_uri": "https://localhost:8080/",
          "height": 118
        },
        "id": "tOMRWEYkCp6C",
        "outputId": "0db6f879-1137-45fa-99e8-91f68c727cc0"
      },
      "execution_count": 65,
      "outputs": [
        {
          "output_type": "display_data",
          "data": {
            "text/plain": [
              "<IPython.core.display.HTML object>"
            ],
            "text/html": [
              "<svg width=\"100%\" height=\"80px\"><line x1=\"0\" y1=\"33\" x2=\"100%\" y2=\"33\" style=\"stroke:rgb(150,150,150);stroke-width:1\" /><line x1=\"59.16553408898528%\" y1=\"33\" x2=\"59.16553408898528%\" y2=\"37\" style=\"stroke:rgb(150,150,150);stroke-width:1\" /><text x=\"59.16553408898528%\" y=\"27\" font-size=\"12px\" fill=\"rgb(120,120,120)\" dominant-baseline=\"bottom\" text-anchor=\"middle\">0.3</text><line x1=\"38.59419276073925%\" y1=\"33\" x2=\"38.59419276073925%\" y2=\"37\" style=\"stroke:rgb(150,150,150);stroke-width:1\" /><text x=\"38.59419276073925%\" y=\"27\" font-size=\"12px\" fill=\"rgb(120,120,120)\" dominant-baseline=\"bottom\" text-anchor=\"middle\">0.2</text><line x1=\"18.02285143249321%\" y1=\"33\" x2=\"18.02285143249321%\" y2=\"37\" style=\"stroke:rgb(150,150,150);stroke-width:1\" /><text x=\"18.02285143249321%\" y=\"27\" font-size=\"12px\" fill=\"rgb(120,120,120)\" dominant-baseline=\"bottom\" text-anchor=\"middle\">0.1</text><line x1=\"79.73687541723132%\" y1=\"33\" x2=\"79.73687541723132%\" y2=\"37\" style=\"stroke:rgb(150,150,150);stroke-width:1\" /><text x=\"79.73687541723132%\" y=\"27\" font-size=\"12px\" fill=\"rgb(120,120,120)\" dominant-baseline=\"bottom\" text-anchor=\"middle\">0.4</text><line x1=\"18.626919431909943%\" y1=\"33\" x2=\"18.626919431909943%\" y2=\"37\" style=\"stroke:rgb(150,150,150);stroke-width:1\" /><text x=\"18.626919431909943%\" y=\"27\" font-size=\"13px\" style=\"stroke:#ffffff;stroke-width:8px;\" fill=\"rgb(255,255,255)\" dominant-baseline=\"bottom\" text-anchor=\"middle\">0.102936</text><text x=\"18.626919431909943%\" y=\"27\" font-size=\"12px\" fill=\"rgb(120,120,120)\" dominant-baseline=\"bottom\" text-anchor=\"middle\">0.102936</text><text x=\"18.626919431909943%\" y=\"10\" font-size=\"12px\" fill=\"rgb(120,120,120)\" dominant-baseline=\"bottom\" text-anchor=\"middle\">base value</text><line x1=\"81.37307851095592%\" y1=\"33\" x2=\"81.37307851095592%\" y2=\"37\" style=\"stroke:rgb(150,150,150);stroke-width:1\" /><text x=\"81.37307851095592%\" y=\"27\" font-size=\"13px\" style=\"stroke:#ffffff;stroke-width:8px;\" font-weight=\"bold\" fill=\"rgb(255,255,255)\" dominant-baseline=\"bottom\" text-anchor=\"middle\">0.407954</text><text x=\"81.37307851095592%\" y=\"27\" font-size=\"13px\" font-weight=\"bold\" fill=\"rgb(0,0,0)\" dominant-baseline=\"bottom\" text-anchor=\"middle\">0.407954</text><text x=\"81.37307851095592%\" y=\"10\" font-size=\"12px\" fill=\"rgb(120,120,120)\" dominant-baseline=\"bottom\" text-anchor=\"middle\">f<tspan baseline-shift=\"sub\" font-size=\"8px\">Sarcastic</tspan>(inputs)</text><rect x=\"8.33333316190549%\" width=\"73.03974534905043%\" y=\"40\" height=\"18\" style=\"fill:rgb(255.0, 0.0, 81.08083606031792); stroke-width:0; stroke:rgb(0,0,0)\" /><line x1=\"43.295897411781226%\" x2=\"81.37307851095592%\" y1=\"60\" y2=\"60\" id=\"_fb_ccpjkqoylkwwmxncndba_ind_1\" style=\"stroke:rgb(255.0, 0.0, 81.08083606031792);stroke-width:2; opacity: 0\"/><text x=\"62.33448796136857%\" y=\"71\" font-size=\"12px\" id=\"_fs_ccpjkqoylkwwmxncndba_ind_1\" fill=\"rgb(255.0, 0.0, 81.08083606031792)\" style=\"opacity: 0\" dominant-baseline=\"middle\" text-anchor=\"middle\">0.185</text><svg x=\"43.295897411781226%\" y=\"40\" height=\"20\" width=\"38.077181099174695%\">  <svg x=\"0\" y=\"0\" width=\"100%\" height=\"100%\">    <text x=\"50%\" y=\"9\" font-size=\"12px\" fill=\"rgb(255,255,255)\" dominant-baseline=\"middle\" text-anchor=\"middle\">▁Love</text>  </svg></svg><line x1=\"32.62567570390739%\" x2=\"43.295897411781226%\" y1=\"60\" y2=\"60\" id=\"_fb_ccpjkqoylkwwmxncndba_ind_2\" style=\"stroke:rgb(255.0, 0.0, 81.08083606031792);stroke-width:2; opacity: 0\"/><text x=\"37.96078655784431%\" y=\"71\" font-size=\"12px\" id=\"_fs_ccpjkqoylkwwmxncndba_ind_2\" fill=\"rgb(255.0, 0.0, 81.08083606031792)\" style=\"opacity: 0\" dominant-baseline=\"middle\" text-anchor=\"middle\">0.052</text><svg x=\"32.62567570390739%\" y=\"40\" height=\"20\" width=\"10.670221707873836%\">  <svg x=\"0\" y=\"0\" width=\"100%\" height=\"100%\">    <text x=\"50%\" y=\"9\" font-size=\"12px\" fill=\"rgb(255,255,255)\" dominant-baseline=\"middle\" text-anchor=\"middle\">▁it</text>  </svg></svg><line x1=\"22.17984176513745%\" x2=\"32.62567570390739%\" y1=\"60\" y2=\"60\" id=\"_fb_ccpjkqoylkwwmxncndba_ind_3\" style=\"stroke:rgb(255.0, 0.0, 81.08083606031792);stroke-width:2; opacity: 0\"/><text x=\"27.402758734522422%\" y=\"71\" font-size=\"12px\" id=\"_fs_ccpjkqoylkwwmxncndba_ind_3\" fill=\"rgb(255.0, 0.0, 81.08083606031792)\" style=\"opacity: 0\" dominant-baseline=\"middle\" text-anchor=\"middle\">0.051</text><svg x=\"22.17984176513745%\" y=\"40\" height=\"20\" width=\"10.44583393876994%\">  <svg x=\"0\" y=\"0\" width=\"100%\" height=\"100%\">    <text x=\"50%\" y=\"9\" font-size=\"12px\" fill=\"rgb(255,255,255)\" dominant-baseline=\"middle\" text-anchor=\"middle\">▁when</text>  </svg></svg><line x1=\"16.394117373111953%\" x2=\"22.17984176513745%\" y1=\"60\" y2=\"60\" id=\"_fb_ccpjkqoylkwwmxncndba_ind_4\" style=\"stroke:rgb(255.0, 0.0, 81.08083606031792);stroke-width:2; opacity: 0\"/><text x=\"19.286979569124703%\" y=\"71\" font-size=\"12px\" id=\"_fs_ccpjkqoylkwwmxncndba_ind_4\" fill=\"rgb(255.0, 0.0, 81.08083606031792)\" style=\"opacity: 0\" dominant-baseline=\"middle\" text-anchor=\"middle\">0.028</text><svg x=\"16.394117373111953%\" y=\"40\" height=\"20\" width=\"5.785724392025497%\">  <svg x=\"0\" y=\"0\" width=\"100%\" height=\"100%\">    <text x=\"50%\" y=\"9\" font-size=\"12px\" fill=\"rgb(255,255,255)\" dominant-baseline=\"middle\" text-anchor=\"middle\">▁you</text>  </svg></svg><line x1=\"11.807975030158792%\" x2=\"16.394117373111953%\" y1=\"60\" y2=\"60\" id=\"_fb_ccpjkqoylkwwmxncndba_ind_5\" style=\"stroke:rgb(255.0, 0.0, 81.08083606031792);stroke-width:2; opacity: 0\"/><text x=\"14.101046201635373%\" y=\"71\" font-size=\"12px\" id=\"_fs_ccpjkqoylkwwmxncndba_ind_5\" fill=\"rgb(255.0, 0.0, 81.08083606031792)\" style=\"opacity: 0\" dominant-baseline=\"middle\" text-anchor=\"middle\">0.022</text><svg x=\"11.807975030158792%\" y=\"40\" height=\"20\" width=\"4.586142342953162%\">  <svg x=\"0\" y=\"0\" width=\"100%\" height=\"100%\">    <text x=\"50%\" y=\"9\" font-size=\"12px\" fill=\"rgb(255,255,255)\" dominant-baseline=\"middle\" text-anchor=\"middle\">▁clearly</text>  </svg></svg><line x1=\"9.008821886674395%\" x2=\"11.807975030158792%\" y1=\"60\" y2=\"60\" id=\"_fb_ccpjkqoylkwwmxncndba_ind_15\" style=\"stroke:rgb(255.0, 0.0, 81.08083606031792);stroke-width:2; opacity: 0\"/><text x=\"10.408398458416594%\" y=\"71\" font-size=\"12px\" id=\"_fs_ccpjkqoylkwwmxncndba_ind_15\" fill=\"rgb(255.0, 0.0, 81.08083606031792)\" style=\"opacity: 0\" dominant-baseline=\"middle\" text-anchor=\"middle\">0.014</text><svg x=\"9.008821886674395%\" y=\"40\" height=\"20\" width=\"2.7991531434843964%\">  <svg x=\"0\" y=\"0\" width=\"100%\" height=\"100%\">    <text x=\"50%\" y=\"9\" font-size=\"12px\" fill=\"rgb(255,255,255)\" dominant-baseline=\"middle\" text-anchor=\"middle\">▁ignore</text>  </svg></svg><line x1=\"8.638768897087484%\" x2=\"9.008821886674395%\" y1=\"60\" y2=\"60\" id=\"_fb_ccpjkqoylkwwmxncndba_ind_9\" style=\"stroke:rgb(255.0, 0.0, 81.08083606031792);stroke-width:2; opacity: 0\"/><text x=\"8.823795391880939%\" y=\"71\" font-size=\"12px\" id=\"_fs_ccpjkqoylkwwmxncndba_ind_9\" fill=\"rgb(255.0, 0.0, 81.08083606031792)\" style=\"opacity: 0\" dominant-baseline=\"middle\" text-anchor=\"middle\">0.002</text><svg x=\"8.638768897087484%\" y=\"40\" height=\"20\" width=\"0.37005298958691135%\">  <svg x=\"0\" y=\"0\" width=\"100%\" height=\"100%\">    <text x=\"50%\" y=\"9\" font-size=\"12px\" fill=\"rgb(255,255,255)\" dominant-baseline=\"middle\" text-anchor=\"middle\">▁aware</text>  </svg></svg><line x1=\"8.433755838944627%\" x2=\"8.638768897087484%\" y1=\"60\" y2=\"60\" id=\"_fb_ccpjkqoylkwwmxncndba_ind_8\" style=\"stroke:rgb(255.0, 0.0, 81.08083606031792);stroke-width:2; opacity: 0\"/><text x=\"8.536262368016056%\" y=\"71\" font-size=\"12px\" id=\"_fs_ccpjkqoylkwwmxncndba_ind_8\" fill=\"rgb(255.0, 0.0, 81.08083606031792)\" style=\"opacity: 0\" dominant-baseline=\"middle\" text-anchor=\"middle\">0.001</text><svg x=\"8.433755838944627%\" y=\"40\" height=\"20\" width=\"0.20501305814285686%\">  <svg x=\"0\" y=\"0\" width=\"100%\" height=\"100%\">    <text x=\"50%\" y=\"9\" font-size=\"12px\" fill=\"rgb(255,255,255)\" dominant-baseline=\"middle\" text-anchor=\"middle\">▁restaurant</text>  </svg></svg><line x1=\"8.355944135904346%\" x2=\"8.433755838944627%\" y1=\"60\" y2=\"60\" id=\"_fb_ccpjkqoylkwwmxncndba_ind_19\" style=\"stroke:rgb(255.0, 0.0, 81.08083606031792);stroke-width:2; opacity: 0\"/><text x=\"8.394849987424486%\" y=\"71\" font-size=\"12px\" id=\"_fs_ccpjkqoylkwwmxncndba_ind_19\" fill=\"rgb(255.0, 0.0, 81.08083606031792)\" style=\"opacity: 0\" dominant-baseline=\"middle\" text-anchor=\"middle\">0.0</text><svg x=\"8.355944135904346%\" y=\"40\" height=\"20\" width=\"0.07781170304028073%\">  <svg x=\"0\" y=\"0\" width=\"100%\" height=\"100%\">    <text x=\"50%\" y=\"9\" font-size=\"12px\" fill=\"rgb(255,255,255)\" dominant-baseline=\"middle\" text-anchor=\"middle\">_</text>  </svg></svg><line x1=\"8.334218287126582%\" x2=\"8.355944135904346%\" y1=\"60\" y2=\"60\" id=\"_fb_ccpjkqoylkwwmxncndba_ind_10\" style=\"stroke:rgb(255.0, 0.0, 81.08083606031792);stroke-width:2; opacity: 0\"/><text x=\"8.345081211515463%\" y=\"71\" font-size=\"12px\" id=\"_fs_ccpjkqoylkwwmxncndba_ind_10\" fill=\"rgb(255.0, 0.0, 81.08083606031792)\" style=\"opacity: 0\" dominant-baseline=\"middle\" text-anchor=\"middle\">0.0</text><svg x=\"8.334218287126582%\" y=\"40\" height=\"20\" width=\"0.02172584877776451%\">  <svg x=\"0\" y=\"0\" width=\"100%\" height=\"100%\">    <text x=\"50%\" y=\"9\" font-size=\"12px\" fill=\"rgb(255,255,255)\" dominant-baseline=\"middle\" text-anchor=\"middle\">▁of</text>  </svg></svg><line x1=\"8.33333316190549%\" x2=\"8.334218287126582%\" y1=\"60\" y2=\"60\" id=\"_fb_ccpjkqoylkwwmxncndba_ind_16\" style=\"stroke:rgb(255.0, 0.0, 81.08083606031792);stroke-width:2; opacity: 0\"/><text x=\"8.333775724516036%\" y=\"71\" font-size=\"12px\" id=\"_fs_ccpjkqoylkwwmxncndba_ind_16\" fill=\"rgb(255.0, 0.0, 81.08083606031792)\" style=\"opacity: 0\" dominant-baseline=\"middle\" text-anchor=\"middle\">0.0</text><svg x=\"8.33333316190549%\" y=\"40\" height=\"20\" width=\"0.0008851252210924088%\">  <svg x=\"0\" y=\"0\" width=\"100%\" height=\"100%\">    <text x=\"50%\" y=\"9\" font-size=\"12px\" fill=\"rgb(255,255,255)\" dominant-baseline=\"middle\" text-anchor=\"middle\">▁it</text>  </svg></svg><g transform=\"translate(0,0)\">  <svg x=\"43.295897411781226%\" y=\"40\" height=\"18\" overflow=\"visible\" width=\"30\">    <path d=\"M 0 -9 l 6 18 L 0 25\" fill=\"none\" style=\"stroke:rgb(255.0, 0.0, 81.08083606031792);stroke-width:2\" />  </svg></g><g transform=\"translate(2,0)\">  <svg x=\"43.295897411781226%\" y=\"40\" height=\"18\" overflow=\"visible\" width=\"30\">    <path d=\"M 0 -9 l 6 18 L 0 25\" fill=\"none\" style=\"stroke:rgb(255.0, 0.0, 81.08083606031792);stroke-width:2\" />  </svg></g><g transform=\"translate(4,0)\">  <svg x=\"43.295897411781226%\" y=\"40\" height=\"18\" overflow=\"visible\" width=\"30\">    <path d=\"M 0 -9 l 6 18 L 0 25\" fill=\"none\" style=\"stroke:rgb(255.0, 0.0, 81.08083606031792);stroke-width:2\" />  </svg></g><g transform=\"translate(6,0)\">  <svg x=\"43.295897411781226%\" y=\"40\" height=\"18\" overflow=\"visible\" width=\"30\">    <path d=\"M 0 -9 l 6 18 L 0 25\" fill=\"none\" style=\"stroke:rgb(255.0, 0.0, 81.08083606031792);stroke-width:2\" />  </svg></g><g transform=\"translate(-8,0)\">  <svg x=\"43.295897411781226%\" y=\"40\" height=\"18\" overflow=\"visible\" width=\"30\">    <path d=\"M 0 -9 l 6 18 L 0 25\" fill=\"none\" style=\"stroke:rgb(255.0, 0.0, 81.08083606031792);stroke-width:2\" />  </svg></g><g transform=\"translate(-6,0)\">  <svg x=\"43.295897411781226%\" y=\"40\" height=\"18\" overflow=\"visible\" width=\"30\">    <path d=\"M 0 -9 l 6 18 L 0 25\" fill=\"none\" style=\"stroke:rgb(255.0, 0.0, 81.08083606031792);stroke-width:2\" />  </svg></g><g transform=\"translate(-4,0)\">  <svg x=\"43.295897411781226%\" y=\"40\" height=\"18\" overflow=\"visible\" width=\"30\">    <path d=\"M 0 -9 l 6 18 L 0 25\" fill=\"none\" style=\"stroke:rgb(255.0, 0.0, 81.08083606031792);stroke-width:2\" />  </svg></g><g transform=\"translate(-2,0)\">  <svg x=\"43.295897411781226%\" y=\"40\" height=\"18\" overflow=\"visible\" width=\"30\">    <path d=\"M 0 -9 l 6 18 L 0 25\" fill=\"none\" style=\"stroke:rgb(255.0, 0.0, 81.08083606031792);stroke-width:2\" />  </svg></g><g transform=\"translate(0,0)\">  <svg x=\"32.62567570390739%\" y=\"40\" height=\"18\" overflow=\"visible\" width=\"30\">    <path d=\"M 0 -9 l 6 18 L 0 25\" fill=\"none\" style=\"stroke:rgb(255.0, 0.0, 81.08083606031792);stroke-width:2\" />  </svg></g><g transform=\"translate(2,0)\">  <svg x=\"32.62567570390739%\" y=\"40\" height=\"18\" overflow=\"visible\" width=\"30\">    <path d=\"M 0 -9 l 6 18 L 0 25\" fill=\"none\" style=\"stroke:rgb(255.0, 0.0, 81.08083606031792);stroke-width:2\" />  </svg></g><g transform=\"translate(4,0)\">  <svg x=\"32.62567570390739%\" y=\"40\" height=\"18\" overflow=\"visible\" width=\"30\">    <path d=\"M 0 -9 l 6 18 L 0 25\" fill=\"none\" style=\"stroke:rgb(255.0, 0.0, 81.08083606031792);stroke-width:2\" />  </svg></g><g transform=\"translate(6,0)\">  <svg x=\"32.62567570390739%\" y=\"40\" height=\"18\" overflow=\"visible\" width=\"30\">    <path d=\"M 0 -9 l 6 18 L 0 25\" fill=\"none\" style=\"stroke:rgb(255.0, 0.0, 81.08083606031792);stroke-width:2\" />  </svg></g><g transform=\"translate(-8,0)\">  <svg x=\"32.62567570390739%\" y=\"40\" height=\"18\" overflow=\"visible\" width=\"30\">    <path d=\"M 0 -9 l 6 18 L 0 25\" fill=\"none\" style=\"stroke:rgb(255.0, 0.0, 81.08083606031792);stroke-width:2\" />  </svg></g><g transform=\"translate(-6,0)\">  <svg x=\"32.62567570390739%\" y=\"40\" height=\"18\" overflow=\"visible\" width=\"30\">    <path d=\"M 0 -9 l 6 18 L 0 25\" fill=\"none\" style=\"stroke:rgb(255.0, 0.0, 81.08083606031792);stroke-width:2\" />  </svg></g><g transform=\"translate(-4,0)\">  <svg x=\"32.62567570390739%\" y=\"40\" height=\"18\" overflow=\"visible\" width=\"30\">    <path d=\"M 0 -9 l 6 18 L 0 25\" fill=\"none\" style=\"stroke:rgb(255.0, 0.0, 81.08083606031792);stroke-width:2\" />  </svg></g><g transform=\"translate(-2,0)\">  <svg x=\"32.62567570390739%\" y=\"40\" height=\"18\" overflow=\"visible\" width=\"30\">    <path d=\"M 0 -9 l 6 18 L 0 25\" fill=\"none\" style=\"stroke:rgb(255.0, 0.0, 81.08083606031792);stroke-width:2\" />  </svg></g><g transform=\"translate(0,0)\">  <svg x=\"22.17984176513745%\" y=\"40\" height=\"18\" overflow=\"visible\" width=\"30\">    <path d=\"M 0 -9 l 6 18 L 0 25\" fill=\"none\" style=\"stroke:rgb(255.0, 0.0, 81.08083606031792);stroke-width:2\" />  </svg></g><g transform=\"translate(2,0)\">  <svg x=\"22.17984176513745%\" y=\"40\" height=\"18\" overflow=\"visible\" width=\"30\">    <path d=\"M 0 -9 l 6 18 L 0 25\" fill=\"none\" style=\"stroke:rgb(255.0, 0.0, 81.08083606031792);stroke-width:2\" />  </svg></g><g transform=\"translate(4,0)\">  <svg x=\"22.17984176513745%\" y=\"40\" height=\"18\" overflow=\"visible\" width=\"30\">    <path d=\"M 0 -9 l 6 18 L 0 25\" fill=\"none\" style=\"stroke:rgb(255.0, 0.0, 81.08083606031792);stroke-width:2\" />  </svg></g><g transform=\"translate(6,0)\">  <svg x=\"22.17984176513745%\" y=\"40\" height=\"18\" overflow=\"visible\" width=\"30\">    <path d=\"M 0 -9 l 6 18 L 0 25\" fill=\"none\" style=\"stroke:rgb(255.0, 0.0, 81.08083606031792);stroke-width:2\" />  </svg></g><g transform=\"translate(-8,0)\">  <svg x=\"22.17984176513745%\" y=\"40\" height=\"18\" overflow=\"visible\" width=\"30\">    <path d=\"M 0 -9 l 6 18 L 0 25\" fill=\"none\" style=\"stroke:rgb(255.0, 0.0, 81.08083606031792);stroke-width:2\" />  </svg></g><g transform=\"translate(-6,0)\">  <svg x=\"22.17984176513745%\" y=\"40\" height=\"18\" overflow=\"visible\" width=\"30\">    <path d=\"M 0 -9 l 6 18 L 0 25\" fill=\"none\" style=\"stroke:rgb(255.0, 0.0, 81.08083606031792);stroke-width:2\" />  </svg></g><g transform=\"translate(-4,0)\">  <svg x=\"22.17984176513745%\" y=\"40\" height=\"18\" overflow=\"visible\" width=\"30\">    <path d=\"M 0 -9 l 6 18 L 0 25\" fill=\"none\" style=\"stroke:rgb(255.0, 0.0, 81.08083606031792);stroke-width:2\" />  </svg></g><g transform=\"translate(-2,0)\">  <svg x=\"22.17984176513745%\" y=\"40\" height=\"18\" overflow=\"visible\" width=\"30\">    <path d=\"M 0 -9 l 6 18 L 0 25\" fill=\"none\" style=\"stroke:rgb(255.0, 0.0, 81.08083606031792);stroke-width:2\" />  </svg></g><g transform=\"translate(0,0)\">  <svg x=\"16.394117373111953%\" y=\"40\" height=\"18\" overflow=\"visible\" width=\"30\">    <path d=\"M 0 -9 l 6 18 L 0 25\" fill=\"none\" style=\"stroke:rgb(255.0, 0.0, 81.08083606031792);stroke-width:2\" />  </svg></g><g transform=\"translate(2,0)\">  <svg x=\"16.394117373111953%\" y=\"40\" height=\"18\" overflow=\"visible\" width=\"30\">    <path d=\"M 0 -9 l 6 18 L 0 25\" fill=\"none\" style=\"stroke:rgb(255.0, 0.0, 81.08083606031792);stroke-width:2\" />  </svg></g><g transform=\"translate(4,0)\">  <svg x=\"16.394117373111953%\" y=\"40\" height=\"18\" overflow=\"visible\" width=\"30\">    <path d=\"M 0 -9 l 6 18 L 0 25\" fill=\"none\" style=\"stroke:rgb(255.0, 0.0, 81.08083606031792);stroke-width:2\" />  </svg></g><g transform=\"translate(6,0)\">  <svg x=\"16.394117373111953%\" y=\"40\" height=\"18\" overflow=\"visible\" width=\"30\">    <path d=\"M 0 -9 l 6 18 L 0 25\" fill=\"none\" style=\"stroke:rgb(255.0, 0.0, 81.08083606031792);stroke-width:2\" />  </svg></g><g transform=\"translate(-8,0)\">  <svg x=\"16.394117373111953%\" y=\"40\" height=\"18\" overflow=\"visible\" width=\"30\">    <path d=\"M 0 -9 l 6 18 L 0 25\" fill=\"none\" style=\"stroke:rgb(255.0, 0.0, 81.08083606031792);stroke-width:2\" />  </svg></g><g transform=\"translate(-6,0)\">  <svg x=\"16.394117373111953%\" y=\"40\" height=\"18\" overflow=\"visible\" width=\"30\">    <path d=\"M 0 -9 l 6 18 L 0 25\" fill=\"none\" style=\"stroke:rgb(255.0, 0.0, 81.08083606031792);stroke-width:2\" />  </svg></g><g transform=\"translate(-4,0)\">  <svg x=\"16.394117373111953%\" y=\"40\" height=\"18\" overflow=\"visible\" width=\"30\">    <path d=\"M 0 -9 l 6 18 L 0 25\" fill=\"none\" style=\"stroke:rgb(255.0, 0.0, 81.08083606031792);stroke-width:2\" />  </svg></g><g transform=\"translate(-2,0)\">  <svg x=\"16.394117373111953%\" y=\"40\" height=\"18\" overflow=\"visible\" width=\"30\">    <path d=\"M 0 -9 l 6 18 L 0 25\" fill=\"none\" style=\"stroke:rgb(255.0, 0.0, 81.08083606031792);stroke-width:2\" />  </svg></g><g transform=\"translate(0,0)\">  <svg x=\"11.807975030158792%\" y=\"40\" height=\"18\" overflow=\"visible\" width=\"30\">    <path d=\"M 0 -9 l 6 18 L 0 25\" fill=\"none\" style=\"stroke:rgb(255.0, 0.0, 81.08083606031792);stroke-width:2\" />  </svg></g><g transform=\"translate(2,0)\">  <svg x=\"11.807975030158792%\" y=\"40\" height=\"18\" overflow=\"visible\" width=\"30\">    <path d=\"M 0 -9 l 6 18 L 0 25\" fill=\"none\" style=\"stroke:rgb(255.0, 0.0, 81.08083606031792);stroke-width:2\" />  </svg></g><g transform=\"translate(4,0)\">  <svg x=\"11.807975030158792%\" y=\"40\" height=\"18\" overflow=\"visible\" width=\"30\">    <path d=\"M 0 -9 l 6 18 L 0 25\" fill=\"none\" style=\"stroke:rgb(255.0, 0.0, 81.08083606031792);stroke-width:2\" />  </svg></g><g transform=\"translate(6,0)\">  <svg x=\"11.807975030158792%\" y=\"40\" height=\"18\" overflow=\"visible\" width=\"30\">    <path d=\"M 0 -9 l 6 18 L 0 25\" fill=\"none\" style=\"stroke:rgb(255.0, 0.0, 81.08083606031792);stroke-width:2\" />  </svg></g><g transform=\"translate(-8,0)\">  <svg x=\"11.807975030158792%\" y=\"40\" height=\"18\" overflow=\"visible\" width=\"30\">    <path d=\"M 0 -9 l 6 18 L 0 25\" fill=\"none\" style=\"stroke:rgb(255.0, 0.0, 81.08083606031792);stroke-width:2\" />  </svg></g><g transform=\"translate(-6,0)\">  <svg x=\"11.807975030158792%\" y=\"40\" height=\"18\" overflow=\"visible\" width=\"30\">    <path d=\"M 0 -9 l 6 18 L 0 25\" fill=\"none\" style=\"stroke:rgb(255.0, 0.0, 81.08083606031792);stroke-width:2\" />  </svg></g><g transform=\"translate(-4,0)\">  <svg x=\"11.807975030158792%\" y=\"40\" height=\"18\" overflow=\"visible\" width=\"30\">    <path d=\"M 0 -9 l 6 18 L 0 25\" fill=\"none\" style=\"stroke:rgb(255.0, 0.0, 81.08083606031792);stroke-width:2\" />  </svg></g><g transform=\"translate(-2,0)\">  <svg x=\"11.807975030158792%\" y=\"40\" height=\"18\" overflow=\"visible\" width=\"30\">    <path d=\"M 0 -9 l 6 18 L 0 25\" fill=\"none\" style=\"stroke:rgb(255.0, 0.0, 81.08083606031792);stroke-width:2\" />  </svg></g><g transform=\"translate(0,0)\">  <svg x=\"9.008821886674395%\" y=\"40\" height=\"18\" overflow=\"visible\" width=\"30\">    <path d=\"M 0 -9 l 6 18 L 0 25\" fill=\"none\" style=\"stroke:rgb(255.0, 0.0, 81.08083606031792);stroke-width:2\" />  </svg></g><g transform=\"translate(2,0)\">  <svg x=\"9.008821886674395%\" y=\"40\" height=\"18\" overflow=\"visible\" width=\"30\">    <path d=\"M 0 -9 l 6 18 L 0 25\" fill=\"none\" style=\"stroke:rgb(255.0, 0.0, 81.08083606031792);stroke-width:2\" />  </svg></g><g transform=\"translate(4,0)\">  <svg x=\"9.008821886674395%\" y=\"40\" height=\"18\" overflow=\"visible\" width=\"30\">    <path d=\"M 0 -9 l 6 18 L 0 25\" fill=\"none\" style=\"stroke:rgb(255.0, 0.0, 81.08083606031792);stroke-width:2\" />  </svg></g><g transform=\"translate(6,0)\">  <svg x=\"9.008821886674395%\" y=\"40\" height=\"18\" overflow=\"visible\" width=\"30\">    <path d=\"M 0 -9 l 6 18 L 0 25\" fill=\"none\" style=\"stroke:rgb(255.0, 0.0, 81.08083606031792);stroke-width:2\" />  </svg></g><g transform=\"translate(-8,0)\">  <svg x=\"9.008821886674395%\" y=\"40\" height=\"18\" overflow=\"visible\" width=\"30\">    <path d=\"M 0 -9 l 6 18 L 0 25\" fill=\"none\" style=\"stroke:rgb(255.0, 0.0, 81.08083606031792);stroke-width:2\" />  </svg></g><g transform=\"translate(-6,0)\">  <svg x=\"9.008821886674395%\" y=\"40\" height=\"18\" overflow=\"visible\" width=\"30\">    <path d=\"M 0 -9 l 6 18 L 0 25\" fill=\"none\" style=\"stroke:rgb(255.0, 0.0, 81.08083606031792);stroke-width:2\" />  </svg></g><g transform=\"translate(-4,0)\">  <svg x=\"9.008821886674395%\" y=\"40\" height=\"18\" overflow=\"visible\" width=\"30\">    <path d=\"M 0 -9 l 6 18 L 0 25\" fill=\"none\" style=\"stroke:rgb(255.0, 0.0, 81.08083606031792);stroke-width:2\" />  </svg></g><g transform=\"translate(-2,0)\">  <svg x=\"9.008821886674395%\" y=\"40\" height=\"18\" overflow=\"visible\" width=\"30\">    <path d=\"M 0 -9 l 6 18 L 0 25\" fill=\"none\" style=\"stroke:rgb(255.0, 0.0, 81.08083606031792);stroke-width:2\" />  </svg></g><g transform=\"translate(0,0)\">  <svg x=\"8.638768897087484%\" y=\"40\" height=\"18\" overflow=\"visible\" width=\"30\">    <path d=\"M 0 -9 l 6 18 L 0 25\" fill=\"none\" style=\"stroke:rgb(255.0, 0.0, 81.08083606031792);stroke-width:2\" />  </svg></g><g transform=\"translate(2,0)\">  <svg x=\"8.638768897087484%\" y=\"40\" height=\"18\" overflow=\"visible\" width=\"30\">    <path d=\"M 0 -9 l 6 18 L 0 25\" fill=\"none\" style=\"stroke:rgb(255.0, 0.0, 81.08083606031792);stroke-width:2\" />  </svg></g><g transform=\"translate(4,0)\">  <svg x=\"8.638768897087484%\" y=\"40\" height=\"18\" overflow=\"visible\" width=\"30\">    <path d=\"M 0 -9 l 6 18 L 0 25\" fill=\"none\" style=\"stroke:rgb(255.0, 0.0, 81.08083606031792);stroke-width:2\" />  </svg></g><g transform=\"translate(6,0)\">  <svg x=\"8.638768897087484%\" y=\"40\" height=\"18\" overflow=\"visible\" width=\"30\">    <path d=\"M 0 -9 l 6 18 L 0 25\" fill=\"none\" style=\"stroke:rgb(255.0, 0.0, 81.08083606031792);stroke-width:2\" />  </svg></g><g transform=\"translate(-8,0)\">  <svg x=\"8.638768897087484%\" y=\"40\" height=\"18\" overflow=\"visible\" width=\"30\">    <path d=\"M 0 -9 l 6 18 L 0 25\" fill=\"none\" style=\"stroke:rgb(255.0, 0.0, 81.08083606031792);stroke-width:2\" />  </svg></g><g transform=\"translate(-6,0)\">  <svg x=\"8.638768897087484%\" y=\"40\" height=\"18\" overflow=\"visible\" width=\"30\">    <path d=\"M 0 -9 l 6 18 L 0 25\" fill=\"none\" style=\"stroke:rgb(255.0, 0.0, 81.08083606031792);stroke-width:2\" />  </svg></g><g transform=\"translate(-4,0)\">  <svg x=\"8.638768897087484%\" y=\"40\" height=\"18\" overflow=\"visible\" width=\"30\">    <path d=\"M 0 -9 l 6 18 L 0 25\" fill=\"none\" style=\"stroke:rgb(255.0, 0.0, 81.08083606031792);stroke-width:2\" />  </svg></g><g transform=\"translate(-2,0)\">  <svg x=\"8.638768897087484%\" y=\"40\" height=\"18\" overflow=\"visible\" width=\"30\">    <path d=\"M 0 -9 l 6 18 L 0 25\" fill=\"none\" style=\"stroke:rgb(255.0, 0.0, 81.08083606031792);stroke-width:2\" />  </svg></g><g transform=\"translate(0,0)\">  <svg x=\"8.433755838944627%\" y=\"40\" height=\"18\" overflow=\"visible\" width=\"30\">    <path d=\"M 0 -9 l 6 18 L 0 25\" fill=\"none\" style=\"stroke:rgb(255.0, 0.0, 81.08083606031792);stroke-width:2\" />  </svg></g><g transform=\"translate(2,0)\">  <svg x=\"8.433755838944627%\" y=\"40\" height=\"18\" overflow=\"visible\" width=\"30\">    <path d=\"M 0 -9 l 6 18 L 0 25\" fill=\"none\" style=\"stroke:rgb(255.0, 0.0, 81.08083606031792);stroke-width:2\" />  </svg></g><g transform=\"translate(4,0)\">  <svg x=\"8.433755838944627%\" y=\"40\" height=\"18\" overflow=\"visible\" width=\"30\">    <path d=\"M 0 -9 l 6 18 L 0 25\" fill=\"none\" style=\"stroke:rgb(255.0, 0.0, 81.08083606031792);stroke-width:2\" />  </svg></g><g transform=\"translate(6,0)\">  <svg x=\"8.433755838944627%\" y=\"40\" height=\"18\" overflow=\"visible\" width=\"30\">    <path d=\"M 0 -9 l 6 18 L 0 25\" fill=\"none\" style=\"stroke:rgb(255.0, 0.0, 81.08083606031792);stroke-width:2\" />  </svg></g><g transform=\"translate(-8,0)\">  <svg x=\"8.433755838944627%\" y=\"40\" height=\"18\" overflow=\"visible\" width=\"30\">    <path d=\"M 0 -9 l 6 18 L 0 25\" fill=\"none\" style=\"stroke:rgb(255.0, 0.0, 81.08083606031792);stroke-width:2\" />  </svg></g><g transform=\"translate(-6,0)\">  <svg x=\"8.433755838944627%\" y=\"40\" height=\"18\" overflow=\"visible\" width=\"30\">    <path d=\"M 0 -9 l 6 18 L 0 25\" fill=\"none\" style=\"stroke:rgb(255.0, 0.0, 81.08083606031792);stroke-width:2\" />  </svg></g><g transform=\"translate(-4,0)\">  <svg x=\"8.433755838944627%\" y=\"40\" height=\"18\" overflow=\"visible\" width=\"30\">    <path d=\"M 0 -9 l 6 18 L 0 25\" fill=\"none\" style=\"stroke:rgb(255.0, 0.0, 81.08083606031792);stroke-width:2\" />  </svg></g><g transform=\"translate(-2,0)\">  <svg x=\"8.433755838944627%\" y=\"40\" height=\"18\" overflow=\"visible\" width=\"30\">    <path d=\"M 0 -9 l 6 18 L 0 25\" fill=\"none\" style=\"stroke:rgb(255.0, 0.0, 81.08083606031792);stroke-width:2\" />  </svg></g><g transform=\"translate(0,0)\">  <svg x=\"8.355944135904346%\" y=\"40\" height=\"18\" overflow=\"visible\" width=\"30\">    <path d=\"M 0 -9 l 6 18 L 0 25\" fill=\"none\" style=\"stroke:rgb(255.0, 0.0, 81.08083606031792);stroke-width:2\" />  </svg></g><g transform=\"translate(2,0)\">  <svg x=\"8.355944135904346%\" y=\"40\" height=\"18\" overflow=\"visible\" width=\"30\">    <path d=\"M 0 -9 l 6 18 L 0 25\" fill=\"none\" style=\"stroke:rgb(255.0, 0.0, 81.08083606031792);stroke-width:2\" />  </svg></g><g transform=\"translate(4,0)\">  <svg x=\"8.355944135904346%\" y=\"40\" height=\"18\" overflow=\"visible\" width=\"30\">    <path d=\"M 0 -9 l 6 18 L 0 25\" fill=\"none\" style=\"stroke:rgb(255.0, 0.0, 81.08083606031792);stroke-width:2\" />  </svg></g><g transform=\"translate(6,0)\">  <svg x=\"8.355944135904346%\" y=\"40\" height=\"18\" overflow=\"visible\" width=\"30\">    <path d=\"M 0 -9 l 6 18 L 0 25\" fill=\"none\" style=\"stroke:rgb(255.0, 0.0, 81.08083606031792);stroke-width:2\" />  </svg></g><g transform=\"translate(-8,0)\">  <svg x=\"8.355944135904346%\" y=\"40\" height=\"18\" overflow=\"visible\" width=\"30\">    <path d=\"M 0 -9 l 6 18 L 0 25\" fill=\"none\" style=\"stroke:rgb(255.0, 0.0, 81.08083606031792);stroke-width:2\" />  </svg></g><g transform=\"translate(-6,0)\">  <svg x=\"8.355944135904346%\" y=\"40\" height=\"18\" overflow=\"visible\" width=\"30\">    <path d=\"M 0 -9 l 6 18 L 0 25\" fill=\"none\" style=\"stroke:rgb(255.0, 0.0, 81.08083606031792);stroke-width:2\" />  </svg></g><g transform=\"translate(-4,0)\">  <svg x=\"8.355944135904346%\" y=\"40\" height=\"18\" overflow=\"visible\" width=\"30\">    <path d=\"M 0 -9 l 6 18 L 0 25\" fill=\"none\" style=\"stroke:rgb(255.0, 0.0, 81.08083606031792);stroke-width:2\" />  </svg></g><g transform=\"translate(-2,0)\">  <svg x=\"8.355944135904346%\" y=\"40\" height=\"18\" overflow=\"visible\" width=\"30\">    <path d=\"M 0 -9 l 6 18 L 0 25\" fill=\"none\" style=\"stroke:rgb(255.0, 0.0, 81.08083606031792);stroke-width:2\" />  </svg></g><g transform=\"translate(0,0)\">  <svg x=\"8.334218287126582%\" y=\"40\" height=\"18\" overflow=\"visible\" width=\"30\">    <path d=\"M 0 -9 l 6 18 L 0 25\" fill=\"none\" style=\"stroke:rgb(255.0, 0.0, 81.08083606031792);stroke-width:2\" />  </svg></g><g transform=\"translate(2,0)\">  <svg x=\"8.334218287126582%\" y=\"40\" height=\"18\" overflow=\"visible\" width=\"30\">    <path d=\"M 0 -9 l 6 18 L 0 25\" fill=\"none\" style=\"stroke:rgb(255.0, 0.0, 81.08083606031792);stroke-width:2\" />  </svg></g><g transform=\"translate(4,0)\">  <svg x=\"8.334218287126582%\" y=\"40\" height=\"18\" overflow=\"visible\" width=\"30\">    <path d=\"M 0 -9 l 6 18 L 0 25\" fill=\"none\" style=\"stroke:rgb(255.0, 0.0, 81.08083606031792);stroke-width:2\" />  </svg></g><g transform=\"translate(6,0)\">  <svg x=\"8.334218287126582%\" y=\"40\" height=\"18\" overflow=\"visible\" width=\"30\">    <path d=\"M 0 -9 l 6 18 L 0 25\" fill=\"none\" style=\"stroke:rgb(255.0, 0.0, 81.08083606031792);stroke-width:2\" />  </svg></g><g transform=\"translate(-8,0)\">  <svg x=\"8.334218287126582%\" y=\"40\" height=\"18\" overflow=\"visible\" width=\"30\">    <path d=\"M 0 -9 l 6 18 L 0 25\" fill=\"none\" style=\"stroke:rgb(255.0, 0.0, 81.08083606031792);stroke-width:2\" />  </svg></g><g transform=\"translate(-6,0)\">  <svg x=\"8.334218287126582%\" y=\"40\" height=\"18\" overflow=\"visible\" width=\"30\">    <path d=\"M 0 -9 l 6 18 L 0 25\" fill=\"none\" style=\"stroke:rgb(255.0, 0.0, 81.08083606031792);stroke-width:2\" />  </svg></g><g transform=\"translate(-4,0)\">  <svg x=\"8.334218287126582%\" y=\"40\" height=\"18\" overflow=\"visible\" width=\"30\">    <path d=\"M 0 -9 l 6 18 L 0 25\" fill=\"none\" style=\"stroke:rgb(255.0, 0.0, 81.08083606031792);stroke-width:2\" />  </svg></g><g transform=\"translate(-2,0)\">  <svg x=\"8.334218287126582%\" y=\"40\" height=\"18\" overflow=\"visible\" width=\"30\">    <path d=\"M 0 -9 l 6 18 L 0 25\" fill=\"none\" style=\"stroke:rgb(255.0, 0.0, 81.08083606031792);stroke-width:2\" />  </svg></g><rect transform=\"translate(-8,0)\" x=\"81.37307851095592%\" y=\"40\" width=\"8\" height=\"18\" style=\"fill:rgb(255.0, 0.0, 81.08083606031792)\"/><g transform=\"translate(-11.5,0)\">  <svg x=\"8.33333316190549%\" y=\"40\" height=\"18\" overflow=\"visible\" width=\"30\">    <path d=\"M 10 -9 l 6 18 L 10 25 L 0 25 L 0 -9\" fill=\"#ffffff\" style=\"stroke:rgb(255,255,255);stroke-width:2\" />  </svg></g><g transform=\"translate(-1.5,0)\">  <svg x=\"81.37307851095592%\" y=\"40\" height=\"18\" overflow=\"visible\" width=\"30\">    <path d=\"M 0 -9 l 6 18 L 0 25\" fill=\"none\" style=\"stroke:rgb(255, 195, 213);stroke-width:2\" />  </svg></g><rect x=\"43.295897411781226%\" y=\"40\" height=\"20\" width=\"38.077181099174695%\"      onmouseover=\"document.getElementById('_tp_ccpjkqoylkwwmxncndba_ind_1').style.textDecoration = 'underline';document.getElementById('_fs_ccpjkqoylkwwmxncndba_ind_1').style.opacity = 1;document.getElementById('_fb_ccpjkqoylkwwmxncndba_ind_1').style.opacity = 1;\"      onmouseout=\"document.getElementById('_tp_ccpjkqoylkwwmxncndba_ind_1').style.textDecoration = 'none';document.getElementById('_fs_ccpjkqoylkwwmxncndba_ind_1').style.opacity = 0;document.getElementById('_fb_ccpjkqoylkwwmxncndba_ind_1').style.opacity = 0;\" style=\"fill:rgb(0,0,0,0)\" /><g transform=\"translate(-1.5,0)\">  <svg x=\"43.295897411781226%\" y=\"40\" height=\"18\" overflow=\"visible\" width=\"30\">    <path d=\"M 0 -9 l 6 18 L 0 25\" fill=\"none\" style=\"stroke:rgb(255, 195, 213);stroke-width:2\" />  </svg></g><rect x=\"32.62567570390739%\" y=\"40\" height=\"20\" width=\"10.670221707873836%\"      onmouseover=\"document.getElementById('_tp_ccpjkqoylkwwmxncndba_ind_2').style.textDecoration = 'underline';document.getElementById('_fs_ccpjkqoylkwwmxncndba_ind_2').style.opacity = 1;document.getElementById('_fb_ccpjkqoylkwwmxncndba_ind_2').style.opacity = 1;\"      onmouseout=\"document.getElementById('_tp_ccpjkqoylkwwmxncndba_ind_2').style.textDecoration = 'none';document.getElementById('_fs_ccpjkqoylkwwmxncndba_ind_2').style.opacity = 0;document.getElementById('_fb_ccpjkqoylkwwmxncndba_ind_2').style.opacity = 0;\" style=\"fill:rgb(0,0,0,0)\" /><g transform=\"translate(-1.5,0)\">  <svg x=\"32.62567570390739%\" y=\"40\" height=\"18\" overflow=\"visible\" width=\"30\">    <path d=\"M 0 -9 l 6 18 L 0 25\" fill=\"none\" style=\"stroke:rgb(255, 195, 213);stroke-width:2\" />  </svg></g><rect x=\"22.17984176513745%\" y=\"40\" height=\"20\" width=\"10.44583393876994%\"      onmouseover=\"document.getElementById('_tp_ccpjkqoylkwwmxncndba_ind_3').style.textDecoration = 'underline';document.getElementById('_fs_ccpjkqoylkwwmxncndba_ind_3').style.opacity = 1;document.getElementById('_fb_ccpjkqoylkwwmxncndba_ind_3').style.opacity = 1;\"      onmouseout=\"document.getElementById('_tp_ccpjkqoylkwwmxncndba_ind_3').style.textDecoration = 'none';document.getElementById('_fs_ccpjkqoylkwwmxncndba_ind_3').style.opacity = 0;document.getElementById('_fb_ccpjkqoylkwwmxncndba_ind_3').style.opacity = 0;\" style=\"fill:rgb(0,0,0,0)\" /><g transform=\"translate(-1.5,0)\">  <svg x=\"22.17984176513745%\" y=\"40\" height=\"18\" overflow=\"visible\" width=\"30\">    <path d=\"M 0 -9 l 6 18 L 0 25\" fill=\"none\" style=\"stroke:rgb(255, 195, 213);stroke-width:2\" />  </svg></g><rect x=\"16.394117373111953%\" y=\"40\" height=\"20\" width=\"5.785724392025497%\"      onmouseover=\"document.getElementById('_tp_ccpjkqoylkwwmxncndba_ind_4').style.textDecoration = 'underline';document.getElementById('_fs_ccpjkqoylkwwmxncndba_ind_4').style.opacity = 1;document.getElementById('_fb_ccpjkqoylkwwmxncndba_ind_4').style.opacity = 1;\"      onmouseout=\"document.getElementById('_tp_ccpjkqoylkwwmxncndba_ind_4').style.textDecoration = 'none';document.getElementById('_fs_ccpjkqoylkwwmxncndba_ind_4').style.opacity = 0;document.getElementById('_fb_ccpjkqoylkwwmxncndba_ind_4').style.opacity = 0;\" style=\"fill:rgb(0,0,0,0)\" /><g transform=\"translate(-1.5,0)\">  <svg x=\"16.394117373111953%\" y=\"40\" height=\"18\" overflow=\"visible\" width=\"30\">    <path d=\"M 0 -9 l 6 18 L 0 25\" fill=\"none\" style=\"stroke:rgb(255, 195, 213);stroke-width:2\" />  </svg></g><rect x=\"11.807975030158792%\" y=\"40\" height=\"20\" width=\"4.586142342953162%\"      onmouseover=\"document.getElementById('_tp_ccpjkqoylkwwmxncndba_ind_5').style.textDecoration = 'underline';document.getElementById('_fs_ccpjkqoylkwwmxncndba_ind_5').style.opacity = 1;document.getElementById('_fb_ccpjkqoylkwwmxncndba_ind_5').style.opacity = 1;\"      onmouseout=\"document.getElementById('_tp_ccpjkqoylkwwmxncndba_ind_5').style.textDecoration = 'none';document.getElementById('_fs_ccpjkqoylkwwmxncndba_ind_5').style.opacity = 0;document.getElementById('_fb_ccpjkqoylkwwmxncndba_ind_5').style.opacity = 0;\" style=\"fill:rgb(0,0,0,0)\" /><g transform=\"translate(-1.5,0)\">  <svg x=\"11.807975030158792%\" y=\"40\" height=\"18\" overflow=\"visible\" width=\"30\">    <path d=\"M 0 -9 l 6 18 L 0 25\" fill=\"none\" style=\"stroke:rgb(255, 195, 213);stroke-width:2\" />  </svg></g><rect x=\"9.008821886674395%\" y=\"40\" height=\"20\" width=\"2.7991531434843964%\"      onmouseover=\"document.getElementById('_tp_ccpjkqoylkwwmxncndba_ind_15').style.textDecoration = 'underline';document.getElementById('_fs_ccpjkqoylkwwmxncndba_ind_15').style.opacity = 1;document.getElementById('_fb_ccpjkqoylkwwmxncndba_ind_15').style.opacity = 1;\"      onmouseout=\"document.getElementById('_tp_ccpjkqoylkwwmxncndba_ind_15').style.textDecoration = 'none';document.getElementById('_fs_ccpjkqoylkwwmxncndba_ind_15').style.opacity = 0;document.getElementById('_fb_ccpjkqoylkwwmxncndba_ind_15').style.opacity = 0;\" style=\"fill:rgb(0,0,0,0)\" /><g transform=\"translate(-1.5,0)\">  <svg x=\"9.008821886674395%\" y=\"40\" height=\"18\" overflow=\"visible\" width=\"30\">    <path d=\"M 0 -9 l 6 18 L 0 25\" fill=\"none\" style=\"stroke:rgb(255, 195, 213);stroke-width:2\" />  </svg></g><rect x=\"8.638768897087484%\" y=\"40\" height=\"20\" width=\"0.37005298958691135%\"      onmouseover=\"document.getElementById('_tp_ccpjkqoylkwwmxncndba_ind_9').style.textDecoration = 'underline';document.getElementById('_fs_ccpjkqoylkwwmxncndba_ind_9').style.opacity = 1;document.getElementById('_fb_ccpjkqoylkwwmxncndba_ind_9').style.opacity = 1;\"      onmouseout=\"document.getElementById('_tp_ccpjkqoylkwwmxncndba_ind_9').style.textDecoration = 'none';document.getElementById('_fs_ccpjkqoylkwwmxncndba_ind_9').style.opacity = 0;document.getElementById('_fb_ccpjkqoylkwwmxncndba_ind_9').style.opacity = 0;\" style=\"fill:rgb(0,0,0,0)\" /><g transform=\"translate(-1.5,0)\">  <svg x=\"8.638768897087484%\" y=\"40\" height=\"18\" overflow=\"visible\" width=\"30\">    <path d=\"M 0 -9 l 6 18 L 0 25\" fill=\"none\" style=\"stroke:rgb(255, 195, 213);stroke-width:2\" />  </svg></g><rect x=\"8.433755838944627%\" y=\"40\" height=\"20\" width=\"0.20501305814285686%\"      onmouseover=\"document.getElementById('_tp_ccpjkqoylkwwmxncndba_ind_8').style.textDecoration = 'underline';document.getElementById('_fs_ccpjkqoylkwwmxncndba_ind_8').style.opacity = 1;document.getElementById('_fb_ccpjkqoylkwwmxncndba_ind_8').style.opacity = 1;\"      onmouseout=\"document.getElementById('_tp_ccpjkqoylkwwmxncndba_ind_8').style.textDecoration = 'none';document.getElementById('_fs_ccpjkqoylkwwmxncndba_ind_8').style.opacity = 0;document.getElementById('_fb_ccpjkqoylkwwmxncndba_ind_8').style.opacity = 0;\" style=\"fill:rgb(0,0,0,0)\" /><g transform=\"translate(-1.5,0)\">  <svg x=\"8.433755838944627%\" y=\"40\" height=\"18\" overflow=\"visible\" width=\"30\">    <path d=\"M 0 -9 l 6 18 L 0 25\" fill=\"none\" style=\"stroke:rgb(255, 195, 213);stroke-width:2\" />  </svg></g><rect x=\"8.355944135904346%\" y=\"40\" height=\"20\" width=\"0.07781170304028073%\"      onmouseover=\"document.getElementById('_tp_ccpjkqoylkwwmxncndba_ind_19').style.textDecoration = 'underline';document.getElementById('_fs_ccpjkqoylkwwmxncndba_ind_19').style.opacity = 1;document.getElementById('_fb_ccpjkqoylkwwmxncndba_ind_19').style.opacity = 1;\"      onmouseout=\"document.getElementById('_tp_ccpjkqoylkwwmxncndba_ind_19').style.textDecoration = 'none';document.getElementById('_fs_ccpjkqoylkwwmxncndba_ind_19').style.opacity = 0;document.getElementById('_fb_ccpjkqoylkwwmxncndba_ind_19').style.opacity = 0;\" style=\"fill:rgb(0,0,0,0)\" /><g transform=\"translate(-1.5,0)\">  <svg x=\"8.355944135904346%\" y=\"40\" height=\"18\" overflow=\"visible\" width=\"30\">    <path d=\"M 0 -9 l 6 18 L 0 25\" fill=\"none\" style=\"stroke:rgb(255, 195, 213);stroke-width:2\" />  </svg></g><rect x=\"8.334218287126582%\" y=\"40\" height=\"20\" width=\"0.02172584877776451%\"      onmouseover=\"document.getElementById('_tp_ccpjkqoylkwwmxncndba_ind_10').style.textDecoration = 'underline';document.getElementById('_fs_ccpjkqoylkwwmxncndba_ind_10').style.opacity = 1;document.getElementById('_fb_ccpjkqoylkwwmxncndba_ind_10').style.opacity = 1;\"      onmouseout=\"document.getElementById('_tp_ccpjkqoylkwwmxncndba_ind_10').style.textDecoration = 'none';document.getElementById('_fs_ccpjkqoylkwwmxncndba_ind_10').style.opacity = 0;document.getElementById('_fb_ccpjkqoylkwwmxncndba_ind_10').style.opacity = 0;\" style=\"fill:rgb(0,0,0,0)\" /><rect x=\"8.33333316190549%\" y=\"40\" height=\"20\" width=\"0.0008851252210924088%\"      onmouseover=\"document.getElementById('_tp_ccpjkqoylkwwmxncndba_ind_16').style.textDecoration = 'underline';document.getElementById('_fs_ccpjkqoylkwwmxncndba_ind_16').style.opacity = 1;document.getElementById('_fb_ccpjkqoylkwwmxncndba_ind_16').style.opacity = 1;\"      onmouseout=\"document.getElementById('_tp_ccpjkqoylkwwmxncndba_ind_16').style.textDecoration = 'none';document.getElementById('_fs_ccpjkqoylkwwmxncndba_ind_16').style.opacity = 0;document.getElementById('_fb_ccpjkqoylkwwmxncndba_ind_16').style.opacity = 0;\" style=\"fill:rgb(0,0,0,0)\" /><rect x=\"81.37307851095592%\" width=\"10.293586270004456%\" y=\"40\" height=\"18\" style=\"fill:rgb(0.0, 138.56128015770724, 250.76166088685733); stroke-width:0; stroke:rgb(0,0,0)\" /><line x1=\"81.37307851095592%\" x2=\"82.93065350294404%\" y1=\"60\" y2=\"60\" id=\"_fb_ccpjkqoylkwwmxncndba_ind_7\" style=\"stroke:rgb(0.0, 138.56128015770724, 250.76166088685733);stroke-width:2; opacity: 0\"/><text x=\"82.15186600694997%\" y=\"71\" font-size=\"12px\" fill=\"rgb(0.0, 138.56128015770724, 250.76166088685733)\" id=\"_fs_ccpjkqoylkwwmxncndba_ind_7\" style=\"opacity: 0\" dominant-baseline=\"middle\" text-anchor=\"middle\">-0.008</text><svg x=\"81.37307851095592%\" y=\"40\" height=\"20\" width=\"1.557574991988119%\">  <svg x=\"0\" y=\"0\" width=\"100%\" height=\"100%\">    <text x=\"50%\" y=\"9\" font-size=\"12px\" fill=\"rgb(255,255,255)\" dominant-baseline=\"middle\" text-anchor=\"middle\">▁a</text>  </svg></svg><line x1=\"82.93065350294404%\" x2=\"84.39256695818537%\" y1=\"60\" y2=\"60\" id=\"_fb_ccpjkqoylkwwmxncndba_ind_6\" style=\"stroke:rgb(0.0, 138.56128015770724, 250.76166088685733);stroke-width:2; opacity: 0\"/><text x=\"83.6616102305647%\" y=\"71\" font-size=\"12px\" fill=\"rgb(0.0, 138.56128015770724, 250.76166088685733)\" id=\"_fs_ccpjkqoylkwwmxncndba_ind_6\" style=\"opacity: 0\" dominant-baseline=\"middle\" text-anchor=\"middle\">-0.007</text><svg x=\"82.93065350294404%\" y=\"40\" height=\"20\" width=\"1.46191345524133%\">  <svg x=\"0\" y=\"0\" width=\"100%\" height=\"100%\">    <text x=\"50%\" y=\"9\" font-size=\"12px\" fill=\"rgb(255,255,255)\" dominant-baseline=\"middle\" text-anchor=\"middle\">▁make</text>  </svg></svg><line x1=\"84.39256695818537%\" x2=\"85.46733279640621%\" y1=\"60\" y2=\"60\" id=\"_fb_ccpjkqoylkwwmxncndba_ind_11\" style=\"stroke:rgb(0.0, 138.56128015770724, 250.76166088685733);stroke-width:2; opacity: 0\"/><text x=\"84.9299498772958%\" y=\"71\" font-size=\"12px\" fill=\"rgb(0.0, 138.56128015770724, 250.76166088685733)\" id=\"_fs_ccpjkqoylkwwmxncndba_ind_11\" style=\"opacity: 0\" dominant-baseline=\"middle\" text-anchor=\"middle\">-0.005</text><svg x=\"84.39256695818537%\" y=\"40\" height=\"20\" width=\"1.0747658382208414%\">  <svg x=\"0\" y=\"0\" width=\"100%\" height=\"100%\">    <text x=\"50%\" y=\"9\" font-size=\"12px\" fill=\"rgb(255,255,255)\" dominant-baseline=\"middle\" text-anchor=\"middle\">▁dietary</text>  </svg></svg><line x1=\"85.46733279640621%\" x2=\"86.49170076363056%\" y1=\"60\" y2=\"60\" id=\"_fb_ccpjkqoylkwwmxncndba_ind_22\" style=\"stroke:rgb(0.0, 138.56128015770724, 250.76166088685733);stroke-width:2; opacity: 0\"/><text x=\"85.97951678001839%\" y=\"71\" font-size=\"12px\" fill=\"rgb(0.0, 138.56128015770724, 250.76166088685733)\" id=\"_fs_ccpjkqoylkwwmxncndba_ind_22\" style=\"opacity: 0\" dominant-baseline=\"middle\" text-anchor=\"middle\">-0.005</text><svg x=\"85.46733279640621%\" y=\"40\" height=\"20\" width=\"1.0243679672243502%\">  <svg x=\"0\" y=\"0\" width=\"100%\" height=\"100%\">    <text x=\"50%\" y=\"9\" font-size=\"12px\" fill=\"rgb(255,255,255)\" dominant-baseline=\"middle\" text-anchor=\"middle\">with</text>  </svg></svg><line x1=\"86.49170076363056%\" x2=\"87.35681420392687%\" y1=\"60\" y2=\"60\" id=\"_fb_ccpjkqoylkwwmxncndba_ind_20\" style=\"stroke:rgb(0.0, 138.56128015770724, 250.76166088685733);stroke-width:2; opacity: 0\"/><text x=\"86.92425748377872%\" y=\"71\" font-size=\"12px\" fill=\"rgb(0.0, 138.56128015770724, 250.76166088685733)\" id=\"_fs_ccpjkqoylkwwmxncndba_ind_20\" style=\"opacity: 0\" dominant-baseline=\"middle\" text-anchor=\"middle\">-0.004</text><svg x=\"86.49170076363056%\" y=\"40\" height=\"20\" width=\"0.8651134402963123%\">  <svg x=\"0\" y=\"0\" width=\"100%\" height=\"100%\">    <text x=\"50%\" y=\"9\" font-size=\"12px\" fill=\"rgb(255,255,255)\" dominant-baseline=\"middle\" text-anchor=\"middle\">face</text>  </svg></svg><line x1=\"87.35681420392687%\" x2=\"88.17356580071713%\" y1=\"60\" y2=\"60\" id=\"_fb_ccpjkqoylkwwmxncndba_ind_24\" style=\"stroke:rgb(0.0, 138.56128015770724, 250.76166088685733);stroke-width:2; opacity: 0\"/><text x=\"87.765190002322%\" y=\"71\" font-size=\"12px\" fill=\"rgb(0.0, 138.56128015770724, 250.76166088685733)\" id=\"_fs_ccpjkqoylkwwmxncndba_ind_24\" style=\"opacity: 0\" dominant-baseline=\"middle\" text-anchor=\"middle\">-0.004</text><svg x=\"87.35681420392687%\" y=\"40\" height=\"20\" width=\"0.8167515967902546%\">  <svg x=\"0\" y=\"0\" width=\"100%\" height=\"100%\">    <text x=\"50%\" y=\"9\" font-size=\"12px\" fill=\"rgb(255,255,255)\" dominant-baseline=\"middle\" text-anchor=\"middle\">tear</text>  </svg></svg><line x1=\"88.17356580071713%\" x2=\"88.9233085807356%\" y1=\"60\" y2=\"60\" id=\"_fb_ccpjkqoylkwwmxncndba_ind_12\" style=\"stroke:rgb(0.0, 138.56128015770724, 250.76166088685733);stroke-width:2; opacity: 0\"/><text x=\"88.54843719072636%\" y=\"71\" font-size=\"12px\" fill=\"rgb(0.0, 138.56128015770724, 250.76166088685733)\" id=\"_fs_ccpjkqoylkwwmxncndba_ind_12\" style=\"opacity: 0\" dominant-baseline=\"middle\" text-anchor=\"middle\">-0.004</text><svg x=\"88.17356580071713%\" y=\"40\" height=\"20\" width=\"0.7497427800184653%\">  <svg x=\"0\" y=\"0\" width=\"100%\" height=\"100%\">    <text x=\"50%\" y=\"9\" font-size=\"12px\" fill=\"rgb(255,255,255)\" dominant-baseline=\"middle\" text-anchor=\"middle\">▁conditions</text>  </svg></svg><line x1=\"88.9233085807356%\" x2=\"89.59110682221853%\" y1=\"60\" y2=\"60\" id=\"_fb_ccpjkqoylkwwmxncndba_ind_17\" style=\"stroke:rgb(0.0, 138.56128015770724, 250.76166088685733);stroke-width:2; opacity: 0\"/><text x=\"89.25720770147706%\" y=\"71\" font-size=\"12px\" fill=\"rgb(0.0, 138.56128015770724, 250.76166088685733)\" id=\"_fs_ccpjkqoylkwwmxncndba_ind_17\" style=\"opacity: 0\" dominant-baseline=\"middle\" text-anchor=\"middle\">-0.003</text><svg x=\"88.9233085807356%\" y=\"40\" height=\"20\" width=\"0.6677982414829415%\">  <svg x=\"0\" y=\"0\" width=\"100%\" height=\"100%\">    <text x=\"50%\" y=\"9\" font-size=\"12px\" fill=\"rgb(255,255,255)\" dominant-baseline=\"middle\" text-anchor=\"middle\">▁:</text>  </svg></svg><line x1=\"89.59110682221853%\" x2=\"90.13579621533678%\" y1=\"60\" y2=\"60\" id=\"_fb_ccpjkqoylkwwmxncndba_ind_23\" style=\"stroke:rgb(0.0, 138.56128015770724, 250.76166088685733);stroke-width:2; opacity: 0\"/><text x=\"89.86345151877765%\" y=\"71\" font-size=\"12px\" fill=\"rgb(0.0, 138.56128015770724, 250.76166088685733)\" id=\"_fs_ccpjkqoylkwwmxncndba_ind_23\" style=\"opacity: 0\" dominant-baseline=\"middle\" text-anchor=\"middle\">-0.003</text><svg x=\"89.59110682221853%\" y=\"40\" height=\"20\" width=\"0.5446893931182473%\">  <svg x=\"0\" y=\"0\" width=\"100%\" height=\"100%\">    <text x=\"50%\" y=\"9\" font-size=\"12px\" fill=\"rgb(255,255,255)\" dominant-baseline=\"middle\" text-anchor=\"middle\">_</text>  </svg></svg><line x1=\"90.13579621533678%\" x2=\"90.6086651685996%\" y1=\"60\" y2=\"60\" id=\"_fb_ccpjkqoylkwwmxncndba_ind_21\" style=\"stroke:rgb(0.0, 138.56128015770724, 250.76166088685733);stroke-width:2; opacity: 0\"/><text x=\"90.37223069196818%\" y=\"71\" font-size=\"12px\" fill=\"rgb(0.0, 138.56128015770724, 250.76166088685733)\" id=\"_fs_ccpjkqoylkwwmxncndba_ind_21\" style=\"opacity: 0\" dominant-baseline=\"middle\" text-anchor=\"middle\">-0.002</text><svg x=\"90.13579621533678%\" y=\"40\" height=\"20\" width=\"0.4728689532628181%\">  <svg x=\"0\" y=\"0\" width=\"100%\" height=\"100%\">    <text x=\"50%\" y=\"9\" font-size=\"12px\" fill=\"rgb(255,255,255)\" dominant-baseline=\"middle\" text-anchor=\"middle\">_</text>  </svg></svg><line x1=\"90.6086651685996%\" x2=\"91.01075494944783%\" y1=\"60\" y2=\"60\" id=\"_fb_ccpjkqoylkwwmxncndba_ind_14\" style=\"stroke:rgb(0.0, 138.56128015770724, 250.76166088685733);stroke-width:2; opacity: 0\"/><text x=\"90.80971005902371%\" y=\"71\" font-size=\"12px\" fill=\"rgb(0.0, 138.56128015770724, 250.76166088685733)\" id=\"_fs_ccpjkqoylkwwmxncndba_ind_14\" style=\"opacity: 0\" dominant-baseline=\"middle\" text-anchor=\"middle\">-0.002</text><svg x=\"90.6086651685996%\" y=\"40\" height=\"20\" width=\"0.4020897808482289%\">  <svg x=\"0\" y=\"0\" width=\"100%\" height=\"100%\">    <text x=\"50%\" y=\"9\" font-size=\"12px\" fill=\"rgb(255,255,255)\" dominant-baseline=\"middle\" text-anchor=\"middle\">▁they</text>  </svg></svg><line x1=\"91.01075494944783%\" x2=\"91.31193667127691%\" y1=\"60\" y2=\"60\" id=\"_fb_ccpjkqoylkwwmxncndba_ind_13\" style=\"stroke:rgb(0.0, 138.56128015770724, 250.76166088685733);stroke-width:2; opacity: 0\"/><text x=\"91.16134581036238%\" y=\"71\" font-size=\"12px\" fill=\"rgb(0.0, 138.56128015770724, 250.76166088685733)\" id=\"_fs_ccpjkqoylkwwmxncndba_ind_13\" style=\"opacity: 0\" dominant-baseline=\"middle\" text-anchor=\"middle\">-0.001</text><svg x=\"91.01075494944783%\" y=\"40\" height=\"20\" width=\"0.30118172182908154%\">  <svg x=\"0\" y=\"0\" width=\"100%\" height=\"100%\">    <text x=\"50%\" y=\"9\" font-size=\"12px\" fill=\"rgb(255,255,255)\" dominant-baseline=\"middle\" text-anchor=\"middle\">▁and</text>  </svg></svg><line x1=\"91.31193667127691%\" x2=\"91.60553404821233%\" y1=\"60\" y2=\"60\" id=\"_fb_ccpjkqoylkwwmxncndba_ind_25\" style=\"stroke:rgb(0.0, 138.56128015770724, 250.76166088685733);stroke-width:2; opacity: 0\"/><text x=\"91.45873535974462%\" y=\"71\" font-size=\"12px\" fill=\"rgb(0.0, 138.56128015770724, 250.76166088685733)\" id=\"_fs_ccpjkqoylkwwmxncndba_ind_25\" style=\"opacity: 0\" dominant-baseline=\"middle\" text-anchor=\"middle\">-0.001</text><svg x=\"91.31193667127691%\" y=\"40\" height=\"20\" width=\"0.2935973769354234%\">  <svg x=\"0\" y=\"0\" width=\"100%\" height=\"100%\">    <text x=\"50%\" y=\"9\" font-size=\"12px\" fill=\"rgb(255,255,255)\" dominant-baseline=\"middle\" text-anchor=\"middle\">:</text>  </svg></svg><line x1=\"91.60553404821233%\" x2=\"91.66666478096037%\" y1=\"60\" y2=\"60\" id=\"_fb_ccpjkqoylkwwmxncndba_ind_18\" style=\"stroke:rgb(0.0, 138.56128015770724, 250.76166088685733);stroke-width:2; opacity: 0\"/><text x=\"91.63609941458635%\" y=\"71\" font-size=\"12px\" fill=\"rgb(0.0, 138.56128015770724, 250.76166088685733)\" id=\"_fs_ccpjkqoylkwwmxncndba_ind_18\" style=\"opacity: 0\" dominant-baseline=\"middle\" text-anchor=\"middle\">-0.0</text><svg x=\"91.60553404821233%\" y=\"40\" height=\"20\" width=\"0.06113073274804037%\">  <svg x=\"0\" y=\"0\" width=\"100%\" height=\"100%\">    <text x=\"50%\" y=\"9\" font-size=\"12px\" fill=\"rgb(255,255,255)\" dominant-baseline=\"middle\" text-anchor=\"middle\">smiling</text>  </svg></svg><g transform=\"translate(-8,0)\">  <svg x=\"82.93065350294404%\" y=\"40\" height=\"18\" overflow=\"visible\" width=\"30\">    <path d=\"M 8 -9 l -6 18 L 8 25\" fill=\"none\" style=\"stroke:rgb(0.0, 138.56128015770724, 250.76166088685733);stroke-width:2\" />  </svg></g><g transform=\"translate(-10,0)\">  <svg x=\"82.93065350294404%\" y=\"40\" height=\"18\" overflow=\"visible\" width=\"30\">    <path d=\"M 8 -9 l -6 18 L 8 25\" fill=\"none\" style=\"stroke:rgb(0.0, 138.56128015770724, 250.76166088685733);stroke-width:2\" />  </svg></g><g transform=\"translate(-12,0)\">  <svg x=\"82.93065350294404%\" y=\"40\" height=\"18\" overflow=\"visible\" width=\"30\">    <path d=\"M 8 -9 l -6 18 L 8 25\" fill=\"none\" style=\"stroke:rgb(0.0, 138.56128015770724, 250.76166088685733);stroke-width:2\" />  </svg></g><g transform=\"translate(-14,0)\">  <svg x=\"82.93065350294404%\" y=\"40\" height=\"18\" overflow=\"visible\" width=\"30\">    <path d=\"M 8 -9 l -6 18 L 8 25\" fill=\"none\" style=\"stroke:rgb(0.0, 138.56128015770724, 250.76166088685733);stroke-width:2\" />  </svg></g><g transform=\"translate(2,0)\">  <svg x=\"82.93065350294404%\" y=\"40\" height=\"18\" overflow=\"visible\" width=\"30\">    <path d=\"M 8 -9 l -6 18 L 8 25\" fill=\"none\" style=\"stroke:rgb(0.0, 138.56128015770724, 250.76166088685733);stroke-width:2\" />  </svg></g><g transform=\"translate(0,0)\">  <svg x=\"82.93065350294404%\" y=\"40\" height=\"18\" overflow=\"visible\" width=\"30\">    <path d=\"M 8 -9 l -6 18 L 8 25\" fill=\"none\" style=\"stroke:rgb(0.0, 138.56128015770724, 250.76166088685733);stroke-width:2\" />  </svg></g><g transform=\"translate(-2,0)\">  <svg x=\"82.93065350294404%\" y=\"40\" height=\"18\" overflow=\"visible\" width=\"30\">    <path d=\"M 8 -9 l -6 18 L 8 25\" fill=\"none\" style=\"stroke:rgb(0.0, 138.56128015770724, 250.76166088685733);stroke-width:2\" />  </svg></g><g transform=\"translate(-4,0)\">  <svg x=\"82.93065350294404%\" y=\"40\" height=\"18\" overflow=\"visible\" width=\"30\">    <path d=\"M 8 -9 l -6 18 L 8 25\" fill=\"none\" style=\"stroke:rgb(0.0, 138.56128015770724, 250.76166088685733);stroke-width:2\" />  </svg></g><g transform=\"translate(-8,0)\">  <svg x=\"84.39256695818537%\" y=\"40\" height=\"18\" overflow=\"visible\" width=\"30\">    <path d=\"M 8 -9 l -6 18 L 8 25\" fill=\"none\" style=\"stroke:rgb(0.0, 138.56128015770724, 250.76166088685733);stroke-width:2\" />  </svg></g><g transform=\"translate(-10,0)\">  <svg x=\"84.39256695818537%\" y=\"40\" height=\"18\" overflow=\"visible\" width=\"30\">    <path d=\"M 8 -9 l -6 18 L 8 25\" fill=\"none\" style=\"stroke:rgb(0.0, 138.56128015770724, 250.76166088685733);stroke-width:2\" />  </svg></g><g transform=\"translate(-12,0)\">  <svg x=\"84.39256695818537%\" y=\"40\" height=\"18\" overflow=\"visible\" width=\"30\">    <path d=\"M 8 -9 l -6 18 L 8 25\" fill=\"none\" style=\"stroke:rgb(0.0, 138.56128015770724, 250.76166088685733);stroke-width:2\" />  </svg></g><g transform=\"translate(-14,0)\">  <svg x=\"84.39256695818537%\" y=\"40\" height=\"18\" overflow=\"visible\" width=\"30\">    <path d=\"M 8 -9 l -6 18 L 8 25\" fill=\"none\" style=\"stroke:rgb(0.0, 138.56128015770724, 250.76166088685733);stroke-width:2\" />  </svg></g><g transform=\"translate(2,0)\">  <svg x=\"84.39256695818537%\" y=\"40\" height=\"18\" overflow=\"visible\" width=\"30\">    <path d=\"M 8 -9 l -6 18 L 8 25\" fill=\"none\" style=\"stroke:rgb(0.0, 138.56128015770724, 250.76166088685733);stroke-width:2\" />  </svg></g><g transform=\"translate(0,0)\">  <svg x=\"84.39256695818537%\" y=\"40\" height=\"18\" overflow=\"visible\" width=\"30\">    <path d=\"M 8 -9 l -6 18 L 8 25\" fill=\"none\" style=\"stroke:rgb(0.0, 138.56128015770724, 250.76166088685733);stroke-width:2\" />  </svg></g><g transform=\"translate(-2,0)\">  <svg x=\"84.39256695818537%\" y=\"40\" height=\"18\" overflow=\"visible\" width=\"30\">    <path d=\"M 8 -9 l -6 18 L 8 25\" fill=\"none\" style=\"stroke:rgb(0.0, 138.56128015770724, 250.76166088685733);stroke-width:2\" />  </svg></g><g transform=\"translate(-4,0)\">  <svg x=\"84.39256695818537%\" y=\"40\" height=\"18\" overflow=\"visible\" width=\"30\">    <path d=\"M 8 -9 l -6 18 L 8 25\" fill=\"none\" style=\"stroke:rgb(0.0, 138.56128015770724, 250.76166088685733);stroke-width:2\" />  </svg></g><g transform=\"translate(-8,0)\">  <svg x=\"85.46733279640621%\" y=\"40\" height=\"18\" overflow=\"visible\" width=\"30\">    <path d=\"M 8 -9 l -6 18 L 8 25\" fill=\"none\" style=\"stroke:rgb(0.0, 138.56128015770724, 250.76166088685733);stroke-width:2\" />  </svg></g><g transform=\"translate(-10,0)\">  <svg x=\"85.46733279640621%\" y=\"40\" height=\"18\" overflow=\"visible\" width=\"30\">    <path d=\"M 8 -9 l -6 18 L 8 25\" fill=\"none\" style=\"stroke:rgb(0.0, 138.56128015770724, 250.76166088685733);stroke-width:2\" />  </svg></g><g transform=\"translate(-12,0)\">  <svg x=\"85.46733279640621%\" y=\"40\" height=\"18\" overflow=\"visible\" width=\"30\">    <path d=\"M 8 -9 l -6 18 L 8 25\" fill=\"none\" style=\"stroke:rgb(0.0, 138.56128015770724, 250.76166088685733);stroke-width:2\" />  </svg></g><g transform=\"translate(-14,0)\">  <svg x=\"85.46733279640621%\" y=\"40\" height=\"18\" overflow=\"visible\" width=\"30\">    <path d=\"M 8 -9 l -6 18 L 8 25\" fill=\"none\" style=\"stroke:rgb(0.0, 138.56128015770724, 250.76166088685733);stroke-width:2\" />  </svg></g><g transform=\"translate(2,0)\">  <svg x=\"85.46733279640621%\" y=\"40\" height=\"18\" overflow=\"visible\" width=\"30\">    <path d=\"M 8 -9 l -6 18 L 8 25\" fill=\"none\" style=\"stroke:rgb(0.0, 138.56128015770724, 250.76166088685733);stroke-width:2\" />  </svg></g><g transform=\"translate(0,0)\">  <svg x=\"85.46733279640621%\" y=\"40\" height=\"18\" overflow=\"visible\" width=\"30\">    <path d=\"M 8 -9 l -6 18 L 8 25\" fill=\"none\" style=\"stroke:rgb(0.0, 138.56128015770724, 250.76166088685733);stroke-width:2\" />  </svg></g><g transform=\"translate(-2,0)\">  <svg x=\"85.46733279640621%\" y=\"40\" height=\"18\" overflow=\"visible\" width=\"30\">    <path d=\"M 8 -9 l -6 18 L 8 25\" fill=\"none\" style=\"stroke:rgb(0.0, 138.56128015770724, 250.76166088685733);stroke-width:2\" />  </svg></g><g transform=\"translate(-4,0)\">  <svg x=\"85.46733279640621%\" y=\"40\" height=\"18\" overflow=\"visible\" width=\"30\">    <path d=\"M 8 -9 l -6 18 L 8 25\" fill=\"none\" style=\"stroke:rgb(0.0, 138.56128015770724, 250.76166088685733);stroke-width:2\" />  </svg></g><g transform=\"translate(-8,0)\">  <svg x=\"86.49170076363056%\" y=\"40\" height=\"18\" overflow=\"visible\" width=\"30\">    <path d=\"M 8 -9 l -6 18 L 8 25\" fill=\"none\" style=\"stroke:rgb(0.0, 138.56128015770724, 250.76166088685733);stroke-width:2\" />  </svg></g><g transform=\"translate(-10,0)\">  <svg x=\"86.49170076363056%\" y=\"40\" height=\"18\" overflow=\"visible\" width=\"30\">    <path d=\"M 8 -9 l -6 18 L 8 25\" fill=\"none\" style=\"stroke:rgb(0.0, 138.56128015770724, 250.76166088685733);stroke-width:2\" />  </svg></g><g transform=\"translate(-12,0)\">  <svg x=\"86.49170076363056%\" y=\"40\" height=\"18\" overflow=\"visible\" width=\"30\">    <path d=\"M 8 -9 l -6 18 L 8 25\" fill=\"none\" style=\"stroke:rgb(0.0, 138.56128015770724, 250.76166088685733);stroke-width:2\" />  </svg></g><g transform=\"translate(-14,0)\">  <svg x=\"86.49170076363056%\" y=\"40\" height=\"18\" overflow=\"visible\" width=\"30\">    <path d=\"M 8 -9 l -6 18 L 8 25\" fill=\"none\" style=\"stroke:rgb(0.0, 138.56128015770724, 250.76166088685733);stroke-width:2\" />  </svg></g><g transform=\"translate(2,0)\">  <svg x=\"86.49170076363056%\" y=\"40\" height=\"18\" overflow=\"visible\" width=\"30\">    <path d=\"M 8 -9 l -6 18 L 8 25\" fill=\"none\" style=\"stroke:rgb(0.0, 138.56128015770724, 250.76166088685733);stroke-width:2\" />  </svg></g><g transform=\"translate(0,0)\">  <svg x=\"86.49170076363056%\" y=\"40\" height=\"18\" overflow=\"visible\" width=\"30\">    <path d=\"M 8 -9 l -6 18 L 8 25\" fill=\"none\" style=\"stroke:rgb(0.0, 138.56128015770724, 250.76166088685733);stroke-width:2\" />  </svg></g><g transform=\"translate(-2,0)\">  <svg x=\"86.49170076363056%\" y=\"40\" height=\"18\" overflow=\"visible\" width=\"30\">    <path d=\"M 8 -9 l -6 18 L 8 25\" fill=\"none\" style=\"stroke:rgb(0.0, 138.56128015770724, 250.76166088685733);stroke-width:2\" />  </svg></g><g transform=\"translate(-4,0)\">  <svg x=\"86.49170076363056%\" y=\"40\" height=\"18\" overflow=\"visible\" width=\"30\">    <path d=\"M 8 -9 l -6 18 L 8 25\" fill=\"none\" style=\"stroke:rgb(0.0, 138.56128015770724, 250.76166088685733);stroke-width:2\" />  </svg></g><g transform=\"translate(-8,0)\">  <svg x=\"87.35681420392687%\" y=\"40\" height=\"18\" overflow=\"visible\" width=\"30\">    <path d=\"M 8 -9 l -6 18 L 8 25\" fill=\"none\" style=\"stroke:rgb(0.0, 138.56128015770724, 250.76166088685733);stroke-width:2\" />  </svg></g><g transform=\"translate(-10,0)\">  <svg x=\"87.35681420392687%\" y=\"40\" height=\"18\" overflow=\"visible\" width=\"30\">    <path d=\"M 8 -9 l -6 18 L 8 25\" fill=\"none\" style=\"stroke:rgb(0.0, 138.56128015770724, 250.76166088685733);stroke-width:2\" />  </svg></g><g transform=\"translate(-12,0)\">  <svg x=\"87.35681420392687%\" y=\"40\" height=\"18\" overflow=\"visible\" width=\"30\">    <path d=\"M 8 -9 l -6 18 L 8 25\" fill=\"none\" style=\"stroke:rgb(0.0, 138.56128015770724, 250.76166088685733);stroke-width:2\" />  </svg></g><g transform=\"translate(-14,0)\">  <svg x=\"87.35681420392687%\" y=\"40\" height=\"18\" overflow=\"visible\" width=\"30\">    <path d=\"M 8 -9 l -6 18 L 8 25\" fill=\"none\" style=\"stroke:rgb(0.0, 138.56128015770724, 250.76166088685733);stroke-width:2\" />  </svg></g><g transform=\"translate(2,0)\">  <svg x=\"87.35681420392687%\" y=\"40\" height=\"18\" overflow=\"visible\" width=\"30\">    <path d=\"M 8 -9 l -6 18 L 8 25\" fill=\"none\" style=\"stroke:rgb(0.0, 138.56128015770724, 250.76166088685733);stroke-width:2\" />  </svg></g><g transform=\"translate(0,0)\">  <svg x=\"87.35681420392687%\" y=\"40\" height=\"18\" overflow=\"visible\" width=\"30\">    <path d=\"M 8 -9 l -6 18 L 8 25\" fill=\"none\" style=\"stroke:rgb(0.0, 138.56128015770724, 250.76166088685733);stroke-width:2\" />  </svg></g><g transform=\"translate(-2,0)\">  <svg x=\"87.35681420392687%\" y=\"40\" height=\"18\" overflow=\"visible\" width=\"30\">    <path d=\"M 8 -9 l -6 18 L 8 25\" fill=\"none\" style=\"stroke:rgb(0.0, 138.56128015770724, 250.76166088685733);stroke-width:2\" />  </svg></g><g transform=\"translate(-4,0)\">  <svg x=\"87.35681420392687%\" y=\"40\" height=\"18\" overflow=\"visible\" width=\"30\">    <path d=\"M 8 -9 l -6 18 L 8 25\" fill=\"none\" style=\"stroke:rgb(0.0, 138.56128015770724, 250.76166088685733);stroke-width:2\" />  </svg></g><g transform=\"translate(-8,0)\">  <svg x=\"88.17356580071713%\" y=\"40\" height=\"18\" overflow=\"visible\" width=\"30\">    <path d=\"M 8 -9 l -6 18 L 8 25\" fill=\"none\" style=\"stroke:rgb(0.0, 138.56128015770724, 250.76166088685733);stroke-width:2\" />  </svg></g><g transform=\"translate(-10,0)\">  <svg x=\"88.17356580071713%\" y=\"40\" height=\"18\" overflow=\"visible\" width=\"30\">    <path d=\"M 8 -9 l -6 18 L 8 25\" fill=\"none\" style=\"stroke:rgb(0.0, 138.56128015770724, 250.76166088685733);stroke-width:2\" />  </svg></g><g transform=\"translate(-12,0)\">  <svg x=\"88.17356580071713%\" y=\"40\" height=\"18\" overflow=\"visible\" width=\"30\">    <path d=\"M 8 -9 l -6 18 L 8 25\" fill=\"none\" style=\"stroke:rgb(0.0, 138.56128015770724, 250.76166088685733);stroke-width:2\" />  </svg></g><g transform=\"translate(-14,0)\">  <svg x=\"88.17356580071713%\" y=\"40\" height=\"18\" overflow=\"visible\" width=\"30\">    <path d=\"M 8 -9 l -6 18 L 8 25\" fill=\"none\" style=\"stroke:rgb(0.0, 138.56128015770724, 250.76166088685733);stroke-width:2\" />  </svg></g><g transform=\"translate(2,0)\">  <svg x=\"88.17356580071713%\" y=\"40\" height=\"18\" overflow=\"visible\" width=\"30\">    <path d=\"M 8 -9 l -6 18 L 8 25\" fill=\"none\" style=\"stroke:rgb(0.0, 138.56128015770724, 250.76166088685733);stroke-width:2\" />  </svg></g><g transform=\"translate(0,0)\">  <svg x=\"88.17356580071713%\" y=\"40\" height=\"18\" overflow=\"visible\" width=\"30\">    <path d=\"M 8 -9 l -6 18 L 8 25\" fill=\"none\" style=\"stroke:rgb(0.0, 138.56128015770724, 250.76166088685733);stroke-width:2\" />  </svg></g><g transform=\"translate(-2,0)\">  <svg x=\"88.17356580071713%\" y=\"40\" height=\"18\" overflow=\"visible\" width=\"30\">    <path d=\"M 8 -9 l -6 18 L 8 25\" fill=\"none\" style=\"stroke:rgb(0.0, 138.56128015770724, 250.76166088685733);stroke-width:2\" />  </svg></g><g transform=\"translate(-4,0)\">  <svg x=\"88.17356580071713%\" y=\"40\" height=\"18\" overflow=\"visible\" width=\"30\">    <path d=\"M 8 -9 l -6 18 L 8 25\" fill=\"none\" style=\"stroke:rgb(0.0, 138.56128015770724, 250.76166088685733);stroke-width:2\" />  </svg></g><g transform=\"translate(-8,0)\">  <svg x=\"88.9233085807356%\" y=\"40\" height=\"18\" overflow=\"visible\" width=\"30\">    <path d=\"M 8 -9 l -6 18 L 8 25\" fill=\"none\" style=\"stroke:rgb(0.0, 138.56128015770724, 250.76166088685733);stroke-width:2\" />  </svg></g><g transform=\"translate(-10,0)\">  <svg x=\"88.9233085807356%\" y=\"40\" height=\"18\" overflow=\"visible\" width=\"30\">    <path d=\"M 8 -9 l -6 18 L 8 25\" fill=\"none\" style=\"stroke:rgb(0.0, 138.56128015770724, 250.76166088685733);stroke-width:2\" />  </svg></g><g transform=\"translate(-12,0)\">  <svg x=\"88.9233085807356%\" y=\"40\" height=\"18\" overflow=\"visible\" width=\"30\">    <path d=\"M 8 -9 l -6 18 L 8 25\" fill=\"none\" style=\"stroke:rgb(0.0, 138.56128015770724, 250.76166088685733);stroke-width:2\" />  </svg></g><g transform=\"translate(-14,0)\">  <svg x=\"88.9233085807356%\" y=\"40\" height=\"18\" overflow=\"visible\" width=\"30\">    <path d=\"M 8 -9 l -6 18 L 8 25\" fill=\"none\" style=\"stroke:rgb(0.0, 138.56128015770724, 250.76166088685733);stroke-width:2\" />  </svg></g><g transform=\"translate(2,0)\">  <svg x=\"88.9233085807356%\" y=\"40\" height=\"18\" overflow=\"visible\" width=\"30\">    <path d=\"M 8 -9 l -6 18 L 8 25\" fill=\"none\" style=\"stroke:rgb(0.0, 138.56128015770724, 250.76166088685733);stroke-width:2\" />  </svg></g><g transform=\"translate(0,0)\">  <svg x=\"88.9233085807356%\" y=\"40\" height=\"18\" overflow=\"visible\" width=\"30\">    <path d=\"M 8 -9 l -6 18 L 8 25\" fill=\"none\" style=\"stroke:rgb(0.0, 138.56128015770724, 250.76166088685733);stroke-width:2\" />  </svg></g><g transform=\"translate(-2,0)\">  <svg x=\"88.9233085807356%\" y=\"40\" height=\"18\" overflow=\"visible\" width=\"30\">    <path d=\"M 8 -9 l -6 18 L 8 25\" fill=\"none\" style=\"stroke:rgb(0.0, 138.56128015770724, 250.76166088685733);stroke-width:2\" />  </svg></g><g transform=\"translate(-4,0)\">  <svg x=\"88.9233085807356%\" y=\"40\" height=\"18\" overflow=\"visible\" width=\"30\">    <path d=\"M 8 -9 l -6 18 L 8 25\" fill=\"none\" style=\"stroke:rgb(0.0, 138.56128015770724, 250.76166088685733);stroke-width:2\" />  </svg></g><g transform=\"translate(-8,0)\">  <svg x=\"89.59110682221853%\" y=\"40\" height=\"18\" overflow=\"visible\" width=\"30\">    <path d=\"M 8 -9 l -6 18 L 8 25\" fill=\"none\" style=\"stroke:rgb(0.0, 138.56128015770724, 250.76166088685733);stroke-width:2\" />  </svg></g><g transform=\"translate(-10,0)\">  <svg x=\"89.59110682221853%\" y=\"40\" height=\"18\" overflow=\"visible\" width=\"30\">    <path d=\"M 8 -9 l -6 18 L 8 25\" fill=\"none\" style=\"stroke:rgb(0.0, 138.56128015770724, 250.76166088685733);stroke-width:2\" />  </svg></g><g transform=\"translate(-12,0)\">  <svg x=\"89.59110682221853%\" y=\"40\" height=\"18\" overflow=\"visible\" width=\"30\">    <path d=\"M 8 -9 l -6 18 L 8 25\" fill=\"none\" style=\"stroke:rgb(0.0, 138.56128015770724, 250.76166088685733);stroke-width:2\" />  </svg></g><g transform=\"translate(-14,0)\">  <svg x=\"89.59110682221853%\" y=\"40\" height=\"18\" overflow=\"visible\" width=\"30\">    <path d=\"M 8 -9 l -6 18 L 8 25\" fill=\"none\" style=\"stroke:rgb(0.0, 138.56128015770724, 250.76166088685733);stroke-width:2\" />  </svg></g><g transform=\"translate(2,0)\">  <svg x=\"89.59110682221853%\" y=\"40\" height=\"18\" overflow=\"visible\" width=\"30\">    <path d=\"M 8 -9 l -6 18 L 8 25\" fill=\"none\" style=\"stroke:rgb(0.0, 138.56128015770724, 250.76166088685733);stroke-width:2\" />  </svg></g><g transform=\"translate(0,0)\">  <svg x=\"89.59110682221853%\" y=\"40\" height=\"18\" overflow=\"visible\" width=\"30\">    <path d=\"M 8 -9 l -6 18 L 8 25\" fill=\"none\" style=\"stroke:rgb(0.0, 138.56128015770724, 250.76166088685733);stroke-width:2\" />  </svg></g><g transform=\"translate(-2,0)\">  <svg x=\"89.59110682221853%\" y=\"40\" height=\"18\" overflow=\"visible\" width=\"30\">    <path d=\"M 8 -9 l -6 18 L 8 25\" fill=\"none\" style=\"stroke:rgb(0.0, 138.56128015770724, 250.76166088685733);stroke-width:2\" />  </svg></g><g transform=\"translate(-4,0)\">  <svg x=\"89.59110682221853%\" y=\"40\" height=\"18\" overflow=\"visible\" width=\"30\">    <path d=\"M 8 -9 l -6 18 L 8 25\" fill=\"none\" style=\"stroke:rgb(0.0, 138.56128015770724, 250.76166088685733);stroke-width:2\" />  </svg></g><g transform=\"translate(-8,0)\">  <svg x=\"90.13579621533678%\" y=\"40\" height=\"18\" overflow=\"visible\" width=\"30\">    <path d=\"M 8 -9 l -6 18 L 8 25\" fill=\"none\" style=\"stroke:rgb(0.0, 138.56128015770724, 250.76166088685733);stroke-width:2\" />  </svg></g><g transform=\"translate(-10,0)\">  <svg x=\"90.13579621533678%\" y=\"40\" height=\"18\" overflow=\"visible\" width=\"30\">    <path d=\"M 8 -9 l -6 18 L 8 25\" fill=\"none\" style=\"stroke:rgb(0.0, 138.56128015770724, 250.76166088685733);stroke-width:2\" />  </svg></g><g transform=\"translate(-12,0)\">  <svg x=\"90.13579621533678%\" y=\"40\" height=\"18\" overflow=\"visible\" width=\"30\">    <path d=\"M 8 -9 l -6 18 L 8 25\" fill=\"none\" style=\"stroke:rgb(0.0, 138.56128015770724, 250.76166088685733);stroke-width:2\" />  </svg></g><g transform=\"translate(-14,0)\">  <svg x=\"90.13579621533678%\" y=\"40\" height=\"18\" overflow=\"visible\" width=\"30\">    <path d=\"M 8 -9 l -6 18 L 8 25\" fill=\"none\" style=\"stroke:rgb(0.0, 138.56128015770724, 250.76166088685733);stroke-width:2\" />  </svg></g><g transform=\"translate(2,0)\">  <svg x=\"90.13579621533678%\" y=\"40\" height=\"18\" overflow=\"visible\" width=\"30\">    <path d=\"M 8 -9 l -6 18 L 8 25\" fill=\"none\" style=\"stroke:rgb(0.0, 138.56128015770724, 250.76166088685733);stroke-width:2\" />  </svg></g><g transform=\"translate(0,0)\">  <svg x=\"90.13579621533678%\" y=\"40\" height=\"18\" overflow=\"visible\" width=\"30\">    <path d=\"M 8 -9 l -6 18 L 8 25\" fill=\"none\" style=\"stroke:rgb(0.0, 138.56128015770724, 250.76166088685733);stroke-width:2\" />  </svg></g><g transform=\"translate(-2,0)\">  <svg x=\"90.13579621533678%\" y=\"40\" height=\"18\" overflow=\"visible\" width=\"30\">    <path d=\"M 8 -9 l -6 18 L 8 25\" fill=\"none\" style=\"stroke:rgb(0.0, 138.56128015770724, 250.76166088685733);stroke-width:2\" />  </svg></g><g transform=\"translate(-4,0)\">  <svg x=\"90.13579621533678%\" y=\"40\" height=\"18\" overflow=\"visible\" width=\"30\">    <path d=\"M 8 -9 l -6 18 L 8 25\" fill=\"none\" style=\"stroke:rgb(0.0, 138.56128015770724, 250.76166088685733);stroke-width:2\" />  </svg></g><g transform=\"translate(-8,0)\">  <svg x=\"90.6086651685996%\" y=\"40\" height=\"18\" overflow=\"visible\" width=\"30\">    <path d=\"M 8 -9 l -6 18 L 8 25\" fill=\"none\" style=\"stroke:rgb(0.0, 138.56128015770724, 250.76166088685733);stroke-width:2\" />  </svg></g><g transform=\"translate(-10,0)\">  <svg x=\"90.6086651685996%\" y=\"40\" height=\"18\" overflow=\"visible\" width=\"30\">    <path d=\"M 8 -9 l -6 18 L 8 25\" fill=\"none\" style=\"stroke:rgb(0.0, 138.56128015770724, 250.76166088685733);stroke-width:2\" />  </svg></g><g transform=\"translate(-12,0)\">  <svg x=\"90.6086651685996%\" y=\"40\" height=\"18\" overflow=\"visible\" width=\"30\">    <path d=\"M 8 -9 l -6 18 L 8 25\" fill=\"none\" style=\"stroke:rgb(0.0, 138.56128015770724, 250.76166088685733);stroke-width:2\" />  </svg></g><g transform=\"translate(-14,0)\">  <svg x=\"90.6086651685996%\" y=\"40\" height=\"18\" overflow=\"visible\" width=\"30\">    <path d=\"M 8 -9 l -6 18 L 8 25\" fill=\"none\" style=\"stroke:rgb(0.0, 138.56128015770724, 250.76166088685733);stroke-width:2\" />  </svg></g><g transform=\"translate(2,0)\">  <svg x=\"90.6086651685996%\" y=\"40\" height=\"18\" overflow=\"visible\" width=\"30\">    <path d=\"M 8 -9 l -6 18 L 8 25\" fill=\"none\" style=\"stroke:rgb(0.0, 138.56128015770724, 250.76166088685733);stroke-width:2\" />  </svg></g><g transform=\"translate(0,0)\">  <svg x=\"90.6086651685996%\" y=\"40\" height=\"18\" overflow=\"visible\" width=\"30\">    <path d=\"M 8 -9 l -6 18 L 8 25\" fill=\"none\" style=\"stroke:rgb(0.0, 138.56128015770724, 250.76166088685733);stroke-width:2\" />  </svg></g><g transform=\"translate(-2,0)\">  <svg x=\"90.6086651685996%\" y=\"40\" height=\"18\" overflow=\"visible\" width=\"30\">    <path d=\"M 8 -9 l -6 18 L 8 25\" fill=\"none\" style=\"stroke:rgb(0.0, 138.56128015770724, 250.76166088685733);stroke-width:2\" />  </svg></g><g transform=\"translate(-4,0)\">  <svg x=\"90.6086651685996%\" y=\"40\" height=\"18\" overflow=\"visible\" width=\"30\">    <path d=\"M 8 -9 l -6 18 L 8 25\" fill=\"none\" style=\"stroke:rgb(0.0, 138.56128015770724, 250.76166088685733);stroke-width:2\" />  </svg></g><g transform=\"translate(-8,0)\">  <svg x=\"91.01075494944783%\" y=\"40\" height=\"18\" overflow=\"visible\" width=\"30\">    <path d=\"M 8 -9 l -6 18 L 8 25\" fill=\"none\" style=\"stroke:rgb(0.0, 138.56128015770724, 250.76166088685733);stroke-width:2\" />  </svg></g><g transform=\"translate(-10,0)\">  <svg x=\"91.01075494944783%\" y=\"40\" height=\"18\" overflow=\"visible\" width=\"30\">    <path d=\"M 8 -9 l -6 18 L 8 25\" fill=\"none\" style=\"stroke:rgb(0.0, 138.56128015770724, 250.76166088685733);stroke-width:2\" />  </svg></g><g transform=\"translate(-12,0)\">  <svg x=\"91.01075494944783%\" y=\"40\" height=\"18\" overflow=\"visible\" width=\"30\">    <path d=\"M 8 -9 l -6 18 L 8 25\" fill=\"none\" style=\"stroke:rgb(0.0, 138.56128015770724, 250.76166088685733);stroke-width:2\" />  </svg></g><g transform=\"translate(-14,0)\">  <svg x=\"91.01075494944783%\" y=\"40\" height=\"18\" overflow=\"visible\" width=\"30\">    <path d=\"M 8 -9 l -6 18 L 8 25\" fill=\"none\" style=\"stroke:rgb(0.0, 138.56128015770724, 250.76166088685733);stroke-width:2\" />  </svg></g><g transform=\"translate(2,0)\">  <svg x=\"91.01075494944783%\" y=\"40\" height=\"18\" overflow=\"visible\" width=\"30\">    <path d=\"M 8 -9 l -6 18 L 8 25\" fill=\"none\" style=\"stroke:rgb(0.0, 138.56128015770724, 250.76166088685733);stroke-width:2\" />  </svg></g><g transform=\"translate(0,0)\">  <svg x=\"91.01075494944783%\" y=\"40\" height=\"18\" overflow=\"visible\" width=\"30\">    <path d=\"M 8 -9 l -6 18 L 8 25\" fill=\"none\" style=\"stroke:rgb(0.0, 138.56128015770724, 250.76166088685733);stroke-width:2\" />  </svg></g><g transform=\"translate(-2,0)\">  <svg x=\"91.01075494944783%\" y=\"40\" height=\"18\" overflow=\"visible\" width=\"30\">    <path d=\"M 8 -9 l -6 18 L 8 25\" fill=\"none\" style=\"stroke:rgb(0.0, 138.56128015770724, 250.76166088685733);stroke-width:2\" />  </svg></g><g transform=\"translate(-4,0)\">  <svg x=\"91.01075494944783%\" y=\"40\" height=\"18\" overflow=\"visible\" width=\"30\">    <path d=\"M 8 -9 l -6 18 L 8 25\" fill=\"none\" style=\"stroke:rgb(0.0, 138.56128015770724, 250.76166088685733);stroke-width:2\" />  </svg></g><g transform=\"translate(-8,0)\">  <svg x=\"91.31193667127691%\" y=\"40\" height=\"18\" overflow=\"visible\" width=\"30\">    <path d=\"M 8 -9 l -6 18 L 8 25\" fill=\"none\" style=\"stroke:rgb(0.0, 138.56128015770724, 250.76166088685733);stroke-width:2\" />  </svg></g><g transform=\"translate(-10,0)\">  <svg x=\"91.31193667127691%\" y=\"40\" height=\"18\" overflow=\"visible\" width=\"30\">    <path d=\"M 8 -9 l -6 18 L 8 25\" fill=\"none\" style=\"stroke:rgb(0.0, 138.56128015770724, 250.76166088685733);stroke-width:2\" />  </svg></g><g transform=\"translate(-12,0)\">  <svg x=\"91.31193667127691%\" y=\"40\" height=\"18\" overflow=\"visible\" width=\"30\">    <path d=\"M 8 -9 l -6 18 L 8 25\" fill=\"none\" style=\"stroke:rgb(0.0, 138.56128015770724, 250.76166088685733);stroke-width:2\" />  </svg></g><g transform=\"translate(-14,0)\">  <svg x=\"91.31193667127691%\" y=\"40\" height=\"18\" overflow=\"visible\" width=\"30\">    <path d=\"M 8 -9 l -6 18 L 8 25\" fill=\"none\" style=\"stroke:rgb(0.0, 138.56128015770724, 250.76166088685733);stroke-width:2\" />  </svg></g><g transform=\"translate(2,0)\">  <svg x=\"91.31193667127691%\" y=\"40\" height=\"18\" overflow=\"visible\" width=\"30\">    <path d=\"M 8 -9 l -6 18 L 8 25\" fill=\"none\" style=\"stroke:rgb(0.0, 138.56128015770724, 250.76166088685733);stroke-width:2\" />  </svg></g><g transform=\"translate(0,0)\">  <svg x=\"91.31193667127691%\" y=\"40\" height=\"18\" overflow=\"visible\" width=\"30\">    <path d=\"M 8 -9 l -6 18 L 8 25\" fill=\"none\" style=\"stroke:rgb(0.0, 138.56128015770724, 250.76166088685733);stroke-width:2\" />  </svg></g><g transform=\"translate(-2,0)\">  <svg x=\"91.31193667127691%\" y=\"40\" height=\"18\" overflow=\"visible\" width=\"30\">    <path d=\"M 8 -9 l -6 18 L 8 25\" fill=\"none\" style=\"stroke:rgb(0.0, 138.56128015770724, 250.76166088685733);stroke-width:2\" />  </svg></g><g transform=\"translate(-4,0)\">  <svg x=\"91.31193667127691%\" y=\"40\" height=\"18\" overflow=\"visible\" width=\"30\">    <path d=\"M 8 -9 l -6 18 L 8 25\" fill=\"none\" style=\"stroke:rgb(0.0, 138.56128015770724, 250.76166088685733);stroke-width:2\" />  </svg></g><g transform=\"translate(-8,0)\">  <svg x=\"91.60553404821233%\" y=\"40\" height=\"18\" overflow=\"visible\" width=\"30\">    <path d=\"M 8 -9 l -6 18 L 8 25\" fill=\"none\" style=\"stroke:rgb(0.0, 138.56128015770724, 250.76166088685733);stroke-width:2\" />  </svg></g><g transform=\"translate(-10,0)\">  <svg x=\"91.60553404821233%\" y=\"40\" height=\"18\" overflow=\"visible\" width=\"30\">    <path d=\"M 8 -9 l -6 18 L 8 25\" fill=\"none\" style=\"stroke:rgb(0.0, 138.56128015770724, 250.76166088685733);stroke-width:2\" />  </svg></g><g transform=\"translate(-12,0)\">  <svg x=\"91.60553404821233%\" y=\"40\" height=\"18\" overflow=\"visible\" width=\"30\">    <path d=\"M 8 -9 l -6 18 L 8 25\" fill=\"none\" style=\"stroke:rgb(0.0, 138.56128015770724, 250.76166088685733);stroke-width:2\" />  </svg></g><g transform=\"translate(-14,0)\">  <svg x=\"91.60553404821233%\" y=\"40\" height=\"18\" overflow=\"visible\" width=\"30\">    <path d=\"M 8 -9 l -6 18 L 8 25\" fill=\"none\" style=\"stroke:rgb(0.0, 138.56128015770724, 250.76166088685733);stroke-width:2\" />  </svg></g><g transform=\"translate(2,0)\">  <svg x=\"91.60553404821233%\" y=\"40\" height=\"18\" overflow=\"visible\" width=\"30\">    <path d=\"M 8 -9 l -6 18 L 8 25\" fill=\"none\" style=\"stroke:rgb(0.0, 138.56128015770724, 250.76166088685733);stroke-width:2\" />  </svg></g><g transform=\"translate(0,0)\">  <svg x=\"91.60553404821233%\" y=\"40\" height=\"18\" overflow=\"visible\" width=\"30\">    <path d=\"M 8 -9 l -6 18 L 8 25\" fill=\"none\" style=\"stroke:rgb(0.0, 138.56128015770724, 250.76166088685733);stroke-width:2\" />  </svg></g><g transform=\"translate(-2,0)\">  <svg x=\"91.60553404821233%\" y=\"40\" height=\"18\" overflow=\"visible\" width=\"30\">    <path d=\"M 8 -9 l -6 18 L 8 25\" fill=\"none\" style=\"stroke:rgb(0.0, 138.56128015770724, 250.76166088685733);stroke-width:2\" />  </svg></g><g transform=\"translate(-4,0)\">  <svg x=\"91.60553404821233%\" y=\"40\" height=\"18\" overflow=\"visible\" width=\"30\">    <path d=\"M 8 -9 l -6 18 L 8 25\" fill=\"none\" style=\"stroke:rgb(0.0, 138.56128015770724, 250.76166088685733);stroke-width:2\" />  </svg></g><rect transform=\"translate(0,0)\" x=\"81.37307851095592%\" y=\"40\" width=\"8\" height=\"18\" style=\"fill:rgb(0.0, 138.56128015770724, 250.76166088685733)\"/><g transform=\"translate(-6.0,0)\">  <svg x=\"91.66666478096037%\" y=\"40\" height=\"18\" overflow=\"visible\" width=\"30\">    <path d=\"M 8 -9 l -6 18 L 8 25 L 20 25 L 20 -9\" fill=\"#ffffff\" style=\"stroke:rgb(255,255,255);stroke-width:2\" />  </svg></g><g transform=\"translate(-6.0,0)\">  <svg x=\"82.93065350294404%\" y=\"40\" height=\"18\" overflow=\"visible\" width=\"30\">    <path d=\"M 8 -9 l -6 18 L 8 25\" fill=\"none\" style=\"stroke:rgb(208, 230, 250);stroke-width:2\" />  </svg></g><rect x=\"81.37307851095592%\" y=\"40\" height=\"20\" width=\"1.557574991988119%\"      onmouseover=\"document.getElementById('_tp_ccpjkqoylkwwmxncndba_ind_7').style.textDecoration = 'underline';document.getElementById('_fs_ccpjkqoylkwwmxncndba_ind_7').style.opacity = 1;document.getElementById('_fb_ccpjkqoylkwwmxncndba_ind_7').style.opacity = 1;\"      onmouseout=\"document.getElementById('_tp_ccpjkqoylkwwmxncndba_ind_7').style.textDecoration = 'none';document.getElementById('_fs_ccpjkqoylkwwmxncndba_ind_7').style.opacity = 0;document.getElementById('_fb_ccpjkqoylkwwmxncndba_ind_7').style.opacity = 0;\" style=\"fill:rgb(0,0,0,0)\" /><g transform=\"translate(-6.0,0)\">  <svg x=\"84.39256695818537%\" y=\"40\" height=\"18\" overflow=\"visible\" width=\"30\">    <path d=\"M 8 -9 l -6 18 L 8 25\" fill=\"none\" style=\"stroke:rgb(208, 230, 250);stroke-width:2\" />  </svg></g><rect x=\"82.93065350294404%\" y=\"40\" height=\"20\" width=\"1.46191345524133%\"      onmouseover=\"document.getElementById('_tp_ccpjkqoylkwwmxncndba_ind_6').style.textDecoration = 'underline';document.getElementById('_fs_ccpjkqoylkwwmxncndba_ind_6').style.opacity = 1;document.getElementById('_fb_ccpjkqoylkwwmxncndba_ind_6').style.opacity = 1;\"      onmouseout=\"document.getElementById('_tp_ccpjkqoylkwwmxncndba_ind_6').style.textDecoration = 'none';document.getElementById('_fs_ccpjkqoylkwwmxncndba_ind_6').style.opacity = 0;document.getElementById('_fb_ccpjkqoylkwwmxncndba_ind_6').style.opacity = 0;\" style=\"fill:rgb(0,0,0,0)\" /><g transform=\"translate(-6.0,0)\">  <svg x=\"85.46733279640621%\" y=\"40\" height=\"18\" overflow=\"visible\" width=\"30\">    <path d=\"M 8 -9 l -6 18 L 8 25\" fill=\"none\" style=\"stroke:rgb(208, 230, 250);stroke-width:2\" />  </svg></g><rect x=\"84.39256695818537%\" y=\"40\" height=\"20\" width=\"1.0747658382208414%\"      onmouseover=\"document.getElementById('_tp_ccpjkqoylkwwmxncndba_ind_11').style.textDecoration = 'underline';document.getElementById('_fs_ccpjkqoylkwwmxncndba_ind_11').style.opacity = 1;document.getElementById('_fb_ccpjkqoylkwwmxncndba_ind_11').style.opacity = 1;\"      onmouseout=\"document.getElementById('_tp_ccpjkqoylkwwmxncndba_ind_11').style.textDecoration = 'none';document.getElementById('_fs_ccpjkqoylkwwmxncndba_ind_11').style.opacity = 0;document.getElementById('_fb_ccpjkqoylkwwmxncndba_ind_11').style.opacity = 0;\" style=\"fill:rgb(0,0,0,0)\" /><g transform=\"translate(-6.0,0)\">  <svg x=\"86.49170076363056%\" y=\"40\" height=\"18\" overflow=\"visible\" width=\"30\">    <path d=\"M 8 -9 l -6 18 L 8 25\" fill=\"none\" style=\"stroke:rgb(208, 230, 250);stroke-width:2\" />  </svg></g><rect x=\"85.46733279640621%\" y=\"40\" height=\"20\" width=\"1.0243679672243502%\"      onmouseover=\"document.getElementById('_tp_ccpjkqoylkwwmxncndba_ind_22').style.textDecoration = 'underline';document.getElementById('_fs_ccpjkqoylkwwmxncndba_ind_22').style.opacity = 1;document.getElementById('_fb_ccpjkqoylkwwmxncndba_ind_22').style.opacity = 1;\"      onmouseout=\"document.getElementById('_tp_ccpjkqoylkwwmxncndba_ind_22').style.textDecoration = 'none';document.getElementById('_fs_ccpjkqoylkwwmxncndba_ind_22').style.opacity = 0;document.getElementById('_fb_ccpjkqoylkwwmxncndba_ind_22').style.opacity = 0;\" style=\"fill:rgb(0,0,0,0)\" /><g transform=\"translate(-6.0,0)\">  <svg x=\"87.35681420392687%\" y=\"40\" height=\"18\" overflow=\"visible\" width=\"30\">    <path d=\"M 8 -9 l -6 18 L 8 25\" fill=\"none\" style=\"stroke:rgb(208, 230, 250);stroke-width:2\" />  </svg></g><rect x=\"86.49170076363056%\" y=\"40\" height=\"20\" width=\"0.8651134402963123%\"      onmouseover=\"document.getElementById('_tp_ccpjkqoylkwwmxncndba_ind_20').style.textDecoration = 'underline';document.getElementById('_fs_ccpjkqoylkwwmxncndba_ind_20').style.opacity = 1;document.getElementById('_fb_ccpjkqoylkwwmxncndba_ind_20').style.opacity = 1;\"      onmouseout=\"document.getElementById('_tp_ccpjkqoylkwwmxncndba_ind_20').style.textDecoration = 'none';document.getElementById('_fs_ccpjkqoylkwwmxncndba_ind_20').style.opacity = 0;document.getElementById('_fb_ccpjkqoylkwwmxncndba_ind_20').style.opacity = 0;\" style=\"fill:rgb(0,0,0,0)\" /><g transform=\"translate(-6.0,0)\">  <svg x=\"88.17356580071713%\" y=\"40\" height=\"18\" overflow=\"visible\" width=\"30\">    <path d=\"M 8 -9 l -6 18 L 8 25\" fill=\"none\" style=\"stroke:rgb(208, 230, 250);stroke-width:2\" />  </svg></g><rect x=\"87.35681420392687%\" y=\"40\" height=\"20\" width=\"0.8167515967902546%\"      onmouseover=\"document.getElementById('_tp_ccpjkqoylkwwmxncndba_ind_24').style.textDecoration = 'underline';document.getElementById('_fs_ccpjkqoylkwwmxncndba_ind_24').style.opacity = 1;document.getElementById('_fb_ccpjkqoylkwwmxncndba_ind_24').style.opacity = 1;\"      onmouseout=\"document.getElementById('_tp_ccpjkqoylkwwmxncndba_ind_24').style.textDecoration = 'none';document.getElementById('_fs_ccpjkqoylkwwmxncndba_ind_24').style.opacity = 0;document.getElementById('_fb_ccpjkqoylkwwmxncndba_ind_24').style.opacity = 0;\" style=\"fill:rgb(0,0,0,0)\" /><g transform=\"translate(-6.0,0)\">  <svg x=\"88.9233085807356%\" y=\"40\" height=\"18\" overflow=\"visible\" width=\"30\">    <path d=\"M 8 -9 l -6 18 L 8 25\" fill=\"none\" style=\"stroke:rgb(208, 230, 250);stroke-width:2\" />  </svg></g><rect x=\"88.17356580071713%\" y=\"40\" height=\"20\" width=\"0.7497427800184653%\"      onmouseover=\"document.getElementById('_tp_ccpjkqoylkwwmxncndba_ind_12').style.textDecoration = 'underline';document.getElementById('_fs_ccpjkqoylkwwmxncndba_ind_12').style.opacity = 1;document.getElementById('_fb_ccpjkqoylkwwmxncndba_ind_12').style.opacity = 1;\"      onmouseout=\"document.getElementById('_tp_ccpjkqoylkwwmxncndba_ind_12').style.textDecoration = 'none';document.getElementById('_fs_ccpjkqoylkwwmxncndba_ind_12').style.opacity = 0;document.getElementById('_fb_ccpjkqoylkwwmxncndba_ind_12').style.opacity = 0;\" style=\"fill:rgb(0,0,0,0)\" /><g transform=\"translate(-6.0,0)\">  <svg x=\"89.59110682221853%\" y=\"40\" height=\"18\" overflow=\"visible\" width=\"30\">    <path d=\"M 8 -9 l -6 18 L 8 25\" fill=\"none\" style=\"stroke:rgb(208, 230, 250);stroke-width:2\" />  </svg></g><rect x=\"88.9233085807356%\" y=\"40\" height=\"20\" width=\"0.6677982414829415%\"      onmouseover=\"document.getElementById('_tp_ccpjkqoylkwwmxncndba_ind_17').style.textDecoration = 'underline';document.getElementById('_fs_ccpjkqoylkwwmxncndba_ind_17').style.opacity = 1;document.getElementById('_fb_ccpjkqoylkwwmxncndba_ind_17').style.opacity = 1;\"      onmouseout=\"document.getElementById('_tp_ccpjkqoylkwwmxncndba_ind_17').style.textDecoration = 'none';document.getElementById('_fs_ccpjkqoylkwwmxncndba_ind_17').style.opacity = 0;document.getElementById('_fb_ccpjkqoylkwwmxncndba_ind_17').style.opacity = 0;\" style=\"fill:rgb(0,0,0,0)\" /><g transform=\"translate(-6.0,0)\">  <svg x=\"90.13579621533678%\" y=\"40\" height=\"18\" overflow=\"visible\" width=\"30\">    <path d=\"M 8 -9 l -6 18 L 8 25\" fill=\"none\" style=\"stroke:rgb(208, 230, 250);stroke-width:2\" />  </svg></g><rect x=\"89.59110682221853%\" y=\"40\" height=\"20\" width=\"0.5446893931182473%\"      onmouseover=\"document.getElementById('_tp_ccpjkqoylkwwmxncndba_ind_23').style.textDecoration = 'underline';document.getElementById('_fs_ccpjkqoylkwwmxncndba_ind_23').style.opacity = 1;document.getElementById('_fb_ccpjkqoylkwwmxncndba_ind_23').style.opacity = 1;\"      onmouseout=\"document.getElementById('_tp_ccpjkqoylkwwmxncndba_ind_23').style.textDecoration = 'none';document.getElementById('_fs_ccpjkqoylkwwmxncndba_ind_23').style.opacity = 0;document.getElementById('_fb_ccpjkqoylkwwmxncndba_ind_23').style.opacity = 0;\" style=\"fill:rgb(0,0,0,0)\" /><g transform=\"translate(-6.0,0)\">  <svg x=\"90.6086651685996%\" y=\"40\" height=\"18\" overflow=\"visible\" width=\"30\">    <path d=\"M 8 -9 l -6 18 L 8 25\" fill=\"none\" style=\"stroke:rgb(208, 230, 250);stroke-width:2\" />  </svg></g><rect x=\"90.13579621533678%\" y=\"40\" height=\"20\" width=\"0.4728689532628181%\"      onmouseover=\"document.getElementById('_tp_ccpjkqoylkwwmxncndba_ind_21').style.textDecoration = 'underline';document.getElementById('_fs_ccpjkqoylkwwmxncndba_ind_21').style.opacity = 1;document.getElementById('_fb_ccpjkqoylkwwmxncndba_ind_21').style.opacity = 1;\"      onmouseout=\"document.getElementById('_tp_ccpjkqoylkwwmxncndba_ind_21').style.textDecoration = 'none';document.getElementById('_fs_ccpjkqoylkwwmxncndba_ind_21').style.opacity = 0;document.getElementById('_fb_ccpjkqoylkwwmxncndba_ind_21').style.opacity = 0;\" style=\"fill:rgb(0,0,0,0)\" /><g transform=\"translate(-6.0,0)\">  <svg x=\"91.01075494944783%\" y=\"40\" height=\"18\" overflow=\"visible\" width=\"30\">    <path d=\"M 8 -9 l -6 18 L 8 25\" fill=\"none\" style=\"stroke:rgb(208, 230, 250);stroke-width:2\" />  </svg></g><rect x=\"90.6086651685996%\" y=\"40\" height=\"20\" width=\"0.4020897808482289%\"      onmouseover=\"document.getElementById('_tp_ccpjkqoylkwwmxncndba_ind_14').style.textDecoration = 'underline';document.getElementById('_fs_ccpjkqoylkwwmxncndba_ind_14').style.opacity = 1;document.getElementById('_fb_ccpjkqoylkwwmxncndba_ind_14').style.opacity = 1;\"      onmouseout=\"document.getElementById('_tp_ccpjkqoylkwwmxncndba_ind_14').style.textDecoration = 'none';document.getElementById('_fs_ccpjkqoylkwwmxncndba_ind_14').style.opacity = 0;document.getElementById('_fb_ccpjkqoylkwwmxncndba_ind_14').style.opacity = 0;\" style=\"fill:rgb(0,0,0,0)\" /><g transform=\"translate(-6.0,0)\">  <svg x=\"91.31193667127691%\" y=\"40\" height=\"18\" overflow=\"visible\" width=\"30\">    <path d=\"M 8 -9 l -6 18 L 8 25\" fill=\"none\" style=\"stroke:rgb(208, 230, 250);stroke-width:2\" />  </svg></g><rect x=\"91.01075494944783%\" y=\"40\" height=\"20\" width=\"0.30118172182908154%\"      onmouseover=\"document.getElementById('_tp_ccpjkqoylkwwmxncndba_ind_13').style.textDecoration = 'underline';document.getElementById('_fs_ccpjkqoylkwwmxncndba_ind_13').style.opacity = 1;document.getElementById('_fb_ccpjkqoylkwwmxncndba_ind_13').style.opacity = 1;\"      onmouseout=\"document.getElementById('_tp_ccpjkqoylkwwmxncndba_ind_13').style.textDecoration = 'none';document.getElementById('_fs_ccpjkqoylkwwmxncndba_ind_13').style.opacity = 0;document.getElementById('_fb_ccpjkqoylkwwmxncndba_ind_13').style.opacity = 0;\" style=\"fill:rgb(0,0,0,0)\" /><g transform=\"translate(-6.0,0)\">  <svg x=\"91.60553404821233%\" y=\"40\" height=\"18\" overflow=\"visible\" width=\"30\">    <path d=\"M 8 -9 l -6 18 L 8 25\" fill=\"none\" style=\"stroke:rgb(208, 230, 250);stroke-width:2\" />  </svg></g><rect x=\"91.31193667127691%\" y=\"40\" height=\"20\" width=\"0.2935973769354234%\"      onmouseover=\"document.getElementById('_tp_ccpjkqoylkwwmxncndba_ind_25').style.textDecoration = 'underline';document.getElementById('_fs_ccpjkqoylkwwmxncndba_ind_25').style.opacity = 1;document.getElementById('_fb_ccpjkqoylkwwmxncndba_ind_25').style.opacity = 1;\"      onmouseout=\"document.getElementById('_tp_ccpjkqoylkwwmxncndba_ind_25').style.textDecoration = 'none';document.getElementById('_fs_ccpjkqoylkwwmxncndba_ind_25').style.opacity = 0;document.getElementById('_fb_ccpjkqoylkwwmxncndba_ind_25').style.opacity = 0;\" style=\"fill:rgb(0,0,0,0)\" /><rect x=\"91.60553404821233%\" y=\"40\" height=\"20\" width=\"0.06113073274804037%\"      onmouseover=\"document.getElementById('_tp_ccpjkqoylkwwmxncndba_ind_18').style.textDecoration = 'underline';document.getElementById('_fs_ccpjkqoylkwwmxncndba_ind_18').style.opacity = 1;document.getElementById('_fb_ccpjkqoylkwwmxncndba_ind_18').style.opacity = 1;\"      onmouseout=\"document.getElementById('_tp_ccpjkqoylkwwmxncndba_ind_18').style.textDecoration = 'none';document.getElementById('_fs_ccpjkqoylkwwmxncndba_ind_18').style.opacity = 0;document.getElementById('_fb_ccpjkqoylkwwmxncndba_ind_18').style.opacity = 0;\" style=\"fill:rgb(0,0,0,0)\" /></svg><div align='center'><div style=\"color: rgb(120,120,120); font-size: 12px; margin-top: -15px;\">inputs</div><div style='display: inline; text-align: center;'\n",
              "    ><div style='display: none; color: #999; padding-top: 0px; font-size: 12px;'>0.0</div\n",
              "        ><div id='_tp_ccpjkqoylkwwmxncndba_ind_0'\n",
              "            style='display: inline; background: rgba(230.2941176470614, 26.505882352939775, 102.59215686274348, 0.0); border-radius: 3px; padding: 0px'\n",
              "            onclick=\"\n",
              "            if (this.previousSibling.style.display == 'none') {\n",
              "                this.previousSibling.style.display = 'block';\n",
              "                this.parentNode.style.display = 'inline-block';\n",
              "            } else {\n",
              "                this.previousSibling.style.display = 'none';\n",
              "                this.parentNode.style.display = 'inline';\n",
              "            }\"\n",
              "            onmouseover=\"document.getElementById('_fb_ccpjkqoylkwwmxncndba_ind_0').style.opacity = 1; document.getElementById('_fs_ccpjkqoylkwwmxncndba_ind_0').style.opacity = 1;\"\n",
              "            onmouseout=\"document.getElementById('_fb_ccpjkqoylkwwmxncndba_ind_0').style.opacity = 0; document.getElementById('_fs_ccpjkqoylkwwmxncndba_ind_0').style.opacity = 0;\"\n",
              "        ></div></div><div style='display: inline; text-align: center;'\n",
              "    ><div style='display: none; color: #999; padding-top: 0px; font-size: 12px;'>0.185</div\n",
              "        ><div id='_tp_ccpjkqoylkwwmxncndba_ind_1'\n",
              "            style='display: inline; background: rgba(255.0, 13.0, 87.0, 1.0); border-radius: 3px; padding: 0px'\n",
              "            onclick=\"\n",
              "            if (this.previousSibling.style.display == 'none') {\n",
              "                this.previousSibling.style.display = 'block';\n",
              "                this.parentNode.style.display = 'inline-block';\n",
              "            } else {\n",
              "                this.previousSibling.style.display = 'none';\n",
              "                this.parentNode.style.display = 'inline';\n",
              "            }\"\n",
              "            onmouseover=\"document.getElementById('_fb_ccpjkqoylkwwmxncndba_ind_1').style.opacity = 1; document.getElementById('_fs_ccpjkqoylkwwmxncndba_ind_1').style.opacity = 1;\"\n",
              "            onmouseout=\"document.getElementById('_fb_ccpjkqoylkwwmxncndba_ind_1').style.opacity = 0; document.getElementById('_fs_ccpjkqoylkwwmxncndba_ind_1').style.opacity = 0;\"\n",
              "        > ▁Love</div></div><div style='display: inline; text-align: center;'\n",
              "    ><div style='display: none; color: #999; padding-top: 0px; font-size: 12px;'>0.052</div\n",
              "        ><div id='_tp_ccpjkqoylkwwmxncndba_ind_2'\n",
              "            style='display: inline; background: rgba(255.0, 13.0, 87.0, 0.2747870865517925); border-radius: 3px; padding: 0px'\n",
              "            onclick=\"\n",
              "            if (this.previousSibling.style.display == 'none') {\n",
              "                this.previousSibling.style.display = 'block';\n",
              "                this.parentNode.style.display = 'inline-block';\n",
              "            } else {\n",
              "                this.previousSibling.style.display = 'none';\n",
              "                this.parentNode.style.display = 'inline';\n",
              "            }\"\n",
              "            onmouseover=\"document.getElementById('_fb_ccpjkqoylkwwmxncndba_ind_2').style.opacity = 1; document.getElementById('_fs_ccpjkqoylkwwmxncndba_ind_2').style.opacity = 1;\"\n",
              "            onmouseout=\"document.getElementById('_fb_ccpjkqoylkwwmxncndba_ind_2').style.opacity = 0; document.getElementById('_fs_ccpjkqoylkwwmxncndba_ind_2').style.opacity = 0;\"\n",
              "        > ▁it</div></div><div style='display: inline; text-align: center;'\n",
              "    ><div style='display: none; color: #999; padding-top: 0px; font-size: 12px;'>0.051</div\n",
              "        ><div id='_tp_ccpjkqoylkwwmxncndba_ind_3'\n",
              "            style='display: inline; background: rgba(255.0, 13.0, 87.0, 0.2747870865517925); border-radius: 3px; padding: 0px'\n",
              "            onclick=\"\n",
              "            if (this.previousSibling.style.display == 'none') {\n",
              "                this.previousSibling.style.display = 'block';\n",
              "                this.parentNode.style.display = 'inline-block';\n",
              "            } else {\n",
              "                this.previousSibling.style.display = 'none';\n",
              "                this.parentNode.style.display = 'inline';\n",
              "            }\"\n",
              "            onmouseover=\"document.getElementById('_fb_ccpjkqoylkwwmxncndba_ind_3').style.opacity = 1; document.getElementById('_fs_ccpjkqoylkwwmxncndba_ind_3').style.opacity = 1;\"\n",
              "            onmouseout=\"document.getElementById('_fb_ccpjkqoylkwwmxncndba_ind_3').style.opacity = 0; document.getElementById('_fs_ccpjkqoylkwwmxncndba_ind_3').style.opacity = 0;\"\n",
              "        > ▁when</div></div><div style='display: inline; text-align: center;'\n",
              "    ><div style='display: none; color: #999; padding-top: 0px; font-size: 12px;'>0.028</div\n",
              "        ><div id='_tp_ccpjkqoylkwwmxncndba_ind_4'\n",
              "            style='display: inline; background: rgba(255.0, 13.0, 87.0, 0.14866310160427795); border-radius: 3px; padding: 0px'\n",
              "            onclick=\"\n",
              "            if (this.previousSibling.style.display == 'none') {\n",
              "                this.previousSibling.style.display = 'block';\n",
              "                this.parentNode.style.display = 'inline-block';\n",
              "            } else {\n",
              "                this.previousSibling.style.display = 'none';\n",
              "                this.parentNode.style.display = 'inline';\n",
              "            }\"\n",
              "            onmouseover=\"document.getElementById('_fb_ccpjkqoylkwwmxncndba_ind_4').style.opacity = 1; document.getElementById('_fs_ccpjkqoylkwwmxncndba_ind_4').style.opacity = 1;\"\n",
              "            onmouseout=\"document.getElementById('_fb_ccpjkqoylkwwmxncndba_ind_4').style.opacity = 0; document.getElementById('_fs_ccpjkqoylkwwmxncndba_ind_4').style.opacity = 0;\"\n",
              "        > ▁you</div></div><div style='display: inline; text-align: center;'\n",
              "    ><div style='display: none; color: #999; padding-top: 0px; font-size: 12px;'>0.022</div\n",
              "        ><div id='_tp_ccpjkqoylkwwmxncndba_ind_5'\n",
              "            style='display: inline; background: rgba(255.0, 13.0, 87.0, 0.1171321053673995); border-radius: 3px; padding: 0px'\n",
              "            onclick=\"\n",
              "            if (this.previousSibling.style.display == 'none') {\n",
              "                this.previousSibling.style.display = 'block';\n",
              "                this.parentNode.style.display = 'inline-block';\n",
              "            } else {\n",
              "                this.previousSibling.style.display = 'none';\n",
              "                this.parentNode.style.display = 'inline';\n",
              "            }\"\n",
              "            onmouseover=\"document.getElementById('_fb_ccpjkqoylkwwmxncndba_ind_5').style.opacity = 1; document.getElementById('_fs_ccpjkqoylkwwmxncndba_ind_5').style.opacity = 1;\"\n",
              "            onmouseout=\"document.getElementById('_fb_ccpjkqoylkwwmxncndba_ind_5').style.opacity = 0; document.getElementById('_fs_ccpjkqoylkwwmxncndba_ind_5').style.opacity = 0;\"\n",
              "        > ▁clearly</div></div><div style='display: inline; text-align: center;'\n",
              "    ><div style='display: none; color: #999; padding-top: 0px; font-size: 12px;'>-0.007</div\n",
              "        ><div id='_tp_ccpjkqoylkwwmxncndba_ind_6'\n",
              "            style='display: inline; background: rgba(30.0, 136.0, 229.0, 0.03042186571598325); border-radius: 3px; padding: 0px'\n",
              "            onclick=\"\n",
              "            if (this.previousSibling.style.display == 'none') {\n",
              "                this.previousSibling.style.display = 'block';\n",
              "                this.parentNode.style.display = 'inline-block';\n",
              "            } else {\n",
              "                this.previousSibling.style.display = 'none';\n",
              "                this.parentNode.style.display = 'inline';\n",
              "            }\"\n",
              "            onmouseover=\"document.getElementById('_fb_ccpjkqoylkwwmxncndba_ind_6').style.opacity = 1; document.getElementById('_fs_ccpjkqoylkwwmxncndba_ind_6').style.opacity = 1;\"\n",
              "            onmouseout=\"document.getElementById('_fb_ccpjkqoylkwwmxncndba_ind_6').style.opacity = 0; document.getElementById('_fs_ccpjkqoylkwwmxncndba_ind_6').style.opacity = 0;\"\n",
              "        > ▁make</div></div><div style='display: inline; text-align: center;'\n",
              "    ><div style='display: none; color: #999; padding-top: 0px; font-size: 12px;'>-0.008</div\n",
              "        ><div id='_tp_ccpjkqoylkwwmxncndba_ind_7'\n",
              "            style='display: inline; background: rgba(30.0, 136.0, 229.0, 0.03830461477520309); border-radius: 3px; padding: 0px'\n",
              "            onclick=\"\n",
              "            if (this.previousSibling.style.display == 'none') {\n",
              "                this.previousSibling.style.display = 'block';\n",
              "                this.parentNode.style.display = 'inline-block';\n",
              "            } else {\n",
              "                this.previousSibling.style.display = 'none';\n",
              "                this.parentNode.style.display = 'inline';\n",
              "            }\"\n",
              "            onmouseover=\"document.getElementById('_fb_ccpjkqoylkwwmxncndba_ind_7').style.opacity = 1; document.getElementById('_fs_ccpjkqoylkwwmxncndba_ind_7').style.opacity = 1;\"\n",
              "            onmouseout=\"document.getElementById('_fb_ccpjkqoylkwwmxncndba_ind_7').style.opacity = 0; document.getElementById('_fs_ccpjkqoylkwwmxncndba_ind_7').style.opacity = 0;\"\n",
              "        > ▁a</div></div><div style='display: inline; text-align: center;'\n",
              "    ><div style='display: none; color: #999; padding-top: 0px; font-size: 12px;'>0.001</div\n",
              "        ><div id='_tp_ccpjkqoylkwwmxncndba_ind_8'\n",
              "            style='display: inline; background: rgba(230.2941176470614, 26.505882352939775, 102.59215686274348, 0.0); border-radius: 3px; padding: 0px'\n",
              "            onclick=\"\n",
              "            if (this.previousSibling.style.display == 'none') {\n",
              "                this.previousSibling.style.display = 'block';\n",
              "                this.parentNode.style.display = 'inline-block';\n",
              "            } else {\n",
              "                this.previousSibling.style.display = 'none';\n",
              "                this.parentNode.style.display = 'inline';\n",
              "            }\"\n",
              "            onmouseover=\"document.getElementById('_fb_ccpjkqoylkwwmxncndba_ind_8').style.opacity = 1; document.getElementById('_fs_ccpjkqoylkwwmxncndba_ind_8').style.opacity = 1;\"\n",
              "            onmouseout=\"document.getElementById('_fb_ccpjkqoylkwwmxncndba_ind_8').style.opacity = 0; document.getElementById('_fs_ccpjkqoylkwwmxncndba_ind_8').style.opacity = 0;\"\n",
              "        > ▁restaurant</div></div><div style='display: inline; text-align: center;'\n",
              "    ><div style='display: none; color: #999; padding-top: 0px; font-size: 12px;'>0.002</div\n",
              "        ><div id='_tp_ccpjkqoylkwwmxncndba_ind_9'\n",
              "            style='display: inline; background: rgba(255.0, 13.0, 87.0, 0.00677361853832443); border-radius: 3px; padding: 0px'\n",
              "            onclick=\"\n",
              "            if (this.previousSibling.style.display == 'none') {\n",
              "                this.previousSibling.style.display = 'block';\n",
              "                this.parentNode.style.display = 'inline-block';\n",
              "            } else {\n",
              "                this.previousSibling.style.display = 'none';\n",
              "                this.parentNode.style.display = 'inline';\n",
              "            }\"\n",
              "            onmouseover=\"document.getElementById('_fb_ccpjkqoylkwwmxncndba_ind_9').style.opacity = 1; document.getElementById('_fs_ccpjkqoylkwwmxncndba_ind_9').style.opacity = 1;\"\n",
              "            onmouseout=\"document.getElementById('_fb_ccpjkqoylkwwmxncndba_ind_9').style.opacity = 0; document.getElementById('_fs_ccpjkqoylkwwmxncndba_ind_9').style.opacity = 0;\"\n",
              "        > ▁aware</div></div><div style='display: inline; text-align: center;'\n",
              "    ><div style='display: none; color: #999; padding-top: 0px; font-size: 12px;'>0.0</div\n",
              "        ><div id='_tp_ccpjkqoylkwwmxncndba_ind_10'\n",
              "            style='display: inline; background: rgba(230.2941176470614, 26.505882352939775, 102.59215686274348, 0.0); border-radius: 3px; padding: 0px'\n",
              "            onclick=\"\n",
              "            if (this.previousSibling.style.display == 'none') {\n",
              "                this.previousSibling.style.display = 'block';\n",
              "                this.parentNode.style.display = 'inline-block';\n",
              "            } else {\n",
              "                this.previousSibling.style.display = 'none';\n",
              "                this.parentNode.style.display = 'inline';\n",
              "            }\"\n",
              "            onmouseover=\"document.getElementById('_fb_ccpjkqoylkwwmxncndba_ind_10').style.opacity = 1; document.getElementById('_fs_ccpjkqoylkwwmxncndba_ind_10').style.opacity = 1;\"\n",
              "            onmouseout=\"document.getElementById('_fb_ccpjkqoylkwwmxncndba_ind_10').style.opacity = 0; document.getElementById('_fs_ccpjkqoylkwwmxncndba_ind_10').style.opacity = 0;\"\n",
              "        > ▁of</div></div><div style='display: inline; text-align: center;'\n",
              "    ><div style='display: none; color: #999; padding-top: 0px; font-size: 12px;'>-0.005</div\n",
              "        ><div id='_tp_ccpjkqoylkwwmxncndba_ind_11'\n",
              "            style='display: inline; background: rgba(30.0, 136.0, 229.0, 0.022539116656763607); border-radius: 3px; padding: 0px'\n",
              "            onclick=\"\n",
              "            if (this.previousSibling.style.display == 'none') {\n",
              "                this.previousSibling.style.display = 'block';\n",
              "                this.parentNode.style.display = 'inline-block';\n",
              "            } else {\n",
              "                this.previousSibling.style.display = 'none';\n",
              "                this.parentNode.style.display = 'inline';\n",
              "            }\"\n",
              "            onmouseover=\"document.getElementById('_fb_ccpjkqoylkwwmxncndba_ind_11').style.opacity = 1; document.getElementById('_fs_ccpjkqoylkwwmxncndba_ind_11').style.opacity = 1;\"\n",
              "            onmouseout=\"document.getElementById('_fb_ccpjkqoylkwwmxncndba_ind_11').style.opacity = 0; document.getElementById('_fs_ccpjkqoylkwwmxncndba_ind_11').style.opacity = 0;\"\n",
              "        > ▁dietary</div></div><div style='display: inline; text-align: center;'\n",
              "    ><div style='display: none; color: #999; padding-top: 0px; font-size: 12px;'>-0.004</div\n",
              "        ><div id='_tp_ccpjkqoylkwwmxncndba_ind_12'\n",
              "            style='display: inline; background: rgba(30.0, 136.0, 229.0, 0.014656367597544028); border-radius: 3px; padding: 0px'\n",
              "            onclick=\"\n",
              "            if (this.previousSibling.style.display == 'none') {\n",
              "                this.previousSibling.style.display = 'block';\n",
              "                this.parentNode.style.display = 'inline-block';\n",
              "            } else {\n",
              "                this.previousSibling.style.display = 'none';\n",
              "                this.parentNode.style.display = 'inline';\n",
              "            }\"\n",
              "            onmouseover=\"document.getElementById('_fb_ccpjkqoylkwwmxncndba_ind_12').style.opacity = 1; document.getElementById('_fs_ccpjkqoylkwwmxncndba_ind_12').style.opacity = 1;\"\n",
              "            onmouseout=\"document.getElementById('_fb_ccpjkqoylkwwmxncndba_ind_12').style.opacity = 0; document.getElementById('_fs_ccpjkqoylkwwmxncndba_ind_12').style.opacity = 0;\"\n",
              "        > ▁conditions</div></div><div style='display: inline; text-align: center;'\n",
              "    ><div style='display: none; color: #999; padding-top: 0px; font-size: 12px;'>-0.001</div\n",
              "        ><div id='_tp_ccpjkqoylkwwmxncndba_ind_13'\n",
              "            style='display: inline; background: rgba(30.0, 136.0, 229.0, 0.006773618538324436); border-radius: 3px; padding: 0px'\n",
              "            onclick=\"\n",
              "            if (this.previousSibling.style.display == 'none') {\n",
              "                this.previousSibling.style.display = 'block';\n",
              "                this.parentNode.style.display = 'inline-block';\n",
              "            } else {\n",
              "                this.previousSibling.style.display = 'none';\n",
              "                this.parentNode.style.display = 'inline';\n",
              "            }\"\n",
              "            onmouseover=\"document.getElementById('_fb_ccpjkqoylkwwmxncndba_ind_13').style.opacity = 1; document.getElementById('_fs_ccpjkqoylkwwmxncndba_ind_13').style.opacity = 1;\"\n",
              "            onmouseout=\"document.getElementById('_fb_ccpjkqoylkwwmxncndba_ind_13').style.opacity = 0; document.getElementById('_fs_ccpjkqoylkwwmxncndba_ind_13').style.opacity = 0;\"\n",
              "        > ▁and</div></div><div style='display: inline; text-align: center;'\n",
              "    ><div style='display: none; color: #999; padding-top: 0px; font-size: 12px;'>-0.002</div\n",
              "        ><div id='_tp_ccpjkqoylkwwmxncndba_ind_14'\n",
              "            style='display: inline; background: rgba(30.0, 136.0, 229.0, 0.006773618538324436); border-radius: 3px; padding: 0px'\n",
              "            onclick=\"\n",
              "            if (this.previousSibling.style.display == 'none') {\n",
              "                this.previousSibling.style.display = 'block';\n",
              "                this.parentNode.style.display = 'inline-block';\n",
              "            } else {\n",
              "                this.previousSibling.style.display = 'none';\n",
              "                this.parentNode.style.display = 'inline';\n",
              "            }\"\n",
              "            onmouseover=\"document.getElementById('_fb_ccpjkqoylkwwmxncndba_ind_14').style.opacity = 1; document.getElementById('_fs_ccpjkqoylkwwmxncndba_ind_14').style.opacity = 1;\"\n",
              "            onmouseout=\"document.getElementById('_fb_ccpjkqoylkwwmxncndba_ind_14').style.opacity = 0; document.getElementById('_fs_ccpjkqoylkwwmxncndba_ind_14').style.opacity = 0;\"\n",
              "        > ▁they</div></div><div style='display: inline; text-align: center;'\n",
              "    ><div style='display: none; color: #999; padding-top: 0px; font-size: 12px;'>0.014</div\n",
              "        ><div id='_tp_ccpjkqoylkwwmxncndba_ind_15'\n",
              "            style='display: inline; background: rgba(255.0, 13.0, 87.0, 0.06983561101208159); border-radius: 3px; padding: 0px'\n",
              "            onclick=\"\n",
              "            if (this.previousSibling.style.display == 'none') {\n",
              "                this.previousSibling.style.display = 'block';\n",
              "                this.parentNode.style.display = 'inline-block';\n",
              "            } else {\n",
              "                this.previousSibling.style.display = 'none';\n",
              "                this.parentNode.style.display = 'inline';\n",
              "            }\"\n",
              "            onmouseover=\"document.getElementById('_fb_ccpjkqoylkwwmxncndba_ind_15').style.opacity = 1; document.getElementById('_fs_ccpjkqoylkwwmxncndba_ind_15').style.opacity = 1;\"\n",
              "            onmouseout=\"document.getElementById('_fb_ccpjkqoylkwwmxncndba_ind_15').style.opacity = 0; document.getElementById('_fs_ccpjkqoylkwwmxncndba_ind_15').style.opacity = 0;\"\n",
              "        > ▁ignore</div></div><div style='display: inline; text-align: center;'\n",
              "    ><div style='display: none; color: #999; padding-top: 0px; font-size: 12px;'>0.0</div\n",
              "        ><div id='_tp_ccpjkqoylkwwmxncndba_ind_16'\n",
              "            style='display: inline; background: rgba(230.2941176470614, 26.505882352939775, 102.59215686274348, 0.0); border-radius: 3px; padding: 0px'\n",
              "            onclick=\"\n",
              "            if (this.previousSibling.style.display == 'none') {\n",
              "                this.previousSibling.style.display = 'block';\n",
              "                this.parentNode.style.display = 'inline-block';\n",
              "            } else {\n",
              "                this.previousSibling.style.display = 'none';\n",
              "                this.parentNode.style.display = 'inline';\n",
              "            }\"\n",
              "            onmouseover=\"document.getElementById('_fb_ccpjkqoylkwwmxncndba_ind_16').style.opacity = 1; document.getElementById('_fs_ccpjkqoylkwwmxncndba_ind_16').style.opacity = 1;\"\n",
              "            onmouseout=\"document.getElementById('_fb_ccpjkqoylkwwmxncndba_ind_16').style.opacity = 0; document.getElementById('_fs_ccpjkqoylkwwmxncndba_ind_16').style.opacity = 0;\"\n",
              "        > ▁it</div></div><div style='display: inline; text-align: center;'\n",
              "    ><div style='display: none; color: #999; padding-top: 0px; font-size: 12px;'>-0.003</div\n",
              "        ><div id='_tp_ccpjkqoylkwwmxncndba_ind_17'\n",
              "            style='display: inline; background: rgba(30.0, 136.0, 229.0, 0.014656367597544028); border-radius: 3px; padding: 0px'\n",
              "            onclick=\"\n",
              "            if (this.previousSibling.style.display == 'none') {\n",
              "                this.previousSibling.style.display = 'block';\n",
              "                this.parentNode.style.display = 'inline-block';\n",
              "            } else {\n",
              "                this.previousSibling.style.display = 'none';\n",
              "                this.parentNode.style.display = 'inline';\n",
              "            }\"\n",
              "            onmouseover=\"document.getElementById('_fb_ccpjkqoylkwwmxncndba_ind_17').style.opacity = 1; document.getElementById('_fs_ccpjkqoylkwwmxncndba_ind_17').style.opacity = 1;\"\n",
              "            onmouseout=\"document.getElementById('_fb_ccpjkqoylkwwmxncndba_ind_17').style.opacity = 0; document.getElementById('_fs_ccpjkqoylkwwmxncndba_ind_17').style.opacity = 0;\"\n",
              "        > ▁:</div></div><div style='display: inline; text-align: center;'\n",
              "    ><div style='display: none; color: #999; padding-top: 0px; font-size: 12px;'>-0.0</div\n",
              "        ><div id='_tp_ccpjkqoylkwwmxncndba_ind_18'\n",
              "            style='display: inline; background: rgba(54.70588235294111, 122.49411764705886, 213.40784313725496, 0.0); border-radius: 3px; padding: 0px'\n",
              "            onclick=\"\n",
              "            if (this.previousSibling.style.display == 'none') {\n",
              "                this.previousSibling.style.display = 'block';\n",
              "                this.parentNode.style.display = 'inline-block';\n",
              "            } else {\n",
              "                this.previousSibling.style.display = 'none';\n",
              "                this.parentNode.style.display = 'inline';\n",
              "            }\"\n",
              "            onmouseover=\"document.getElementById('_fb_ccpjkqoylkwwmxncndba_ind_18').style.opacity = 1; document.getElementById('_fs_ccpjkqoylkwwmxncndba_ind_18').style.opacity = 1;\"\n",
              "            onmouseout=\"document.getElementById('_fb_ccpjkqoylkwwmxncndba_ind_18').style.opacity = 0; document.getElementById('_fs_ccpjkqoylkwwmxncndba_ind_18').style.opacity = 0;\"\n",
              "        > smiling</div></div><div style='display: inline; text-align: center;'\n",
              "    ><div style='display: none; color: #999; padding-top: 0px; font-size: 12px;'>0.0</div\n",
              "        ><div id='_tp_ccpjkqoylkwwmxncndba_ind_19'\n",
              "            style='display: inline; background: rgba(230.2941176470614, 26.505882352939775, 102.59215686274348, 0.0); border-radius: 3px; padding: 0px'\n",
              "            onclick=\"\n",
              "            if (this.previousSibling.style.display == 'none') {\n",
              "                this.previousSibling.style.display = 'block';\n",
              "                this.parentNode.style.display = 'inline-block';\n",
              "            } else {\n",
              "                this.previousSibling.style.display = 'none';\n",
              "                this.parentNode.style.display = 'inline';\n",
              "            }\"\n",
              "            onmouseover=\"document.getElementById('_fb_ccpjkqoylkwwmxncndba_ind_19').style.opacity = 1; document.getElementById('_fs_ccpjkqoylkwwmxncndba_ind_19').style.opacity = 1;\"\n",
              "            onmouseout=\"document.getElementById('_fb_ccpjkqoylkwwmxncndba_ind_19').style.opacity = 0; document.getElementById('_fs_ccpjkqoylkwwmxncndba_ind_19').style.opacity = 0;\"\n",
              "        > _</div></div><div style='display: inline; text-align: center;'\n",
              "    ><div style='display: none; color: #999; padding-top: 0px; font-size: 12px;'>-0.004</div\n",
              "        ><div id='_tp_ccpjkqoylkwwmxncndba_ind_20'\n",
              "            style='display: inline; background: rgba(30.0, 136.0, 229.0, 0.014656367597544028); border-radius: 3px; padding: 0px'\n",
              "            onclick=\"\n",
              "            if (this.previousSibling.style.display == 'none') {\n",
              "                this.previousSibling.style.display = 'block';\n",
              "                this.parentNode.style.display = 'inline-block';\n",
              "            } else {\n",
              "                this.previousSibling.style.display = 'none';\n",
              "                this.parentNode.style.display = 'inline';\n",
              "            }\"\n",
              "            onmouseover=\"document.getElementById('_fb_ccpjkqoylkwwmxncndba_ind_20').style.opacity = 1; document.getElementById('_fs_ccpjkqoylkwwmxncndba_ind_20').style.opacity = 1;\"\n",
              "            onmouseout=\"document.getElementById('_fb_ccpjkqoylkwwmxncndba_ind_20').style.opacity = 0; document.getElementById('_fs_ccpjkqoylkwwmxncndba_ind_20').style.opacity = 0;\"\n",
              "        > face</div></div><div style='display: inline; text-align: center;'\n",
              "    ><div style='display: none; color: #999; padding-top: 0px; font-size: 12px;'>-0.002</div\n",
              "        ><div id='_tp_ccpjkqoylkwwmxncndba_ind_21'\n",
              "            style='display: inline; background: rgba(30.0, 136.0, 229.0, 0.006773618538324436); border-radius: 3px; padding: 0px'\n",
              "            onclick=\"\n",
              "            if (this.previousSibling.style.display == 'none') {\n",
              "                this.previousSibling.style.display = 'block';\n",
              "                this.parentNode.style.display = 'inline-block';\n",
              "            } else {\n",
              "                this.previousSibling.style.display = 'none';\n",
              "                this.parentNode.style.display = 'inline';\n",
              "            }\"\n",
              "            onmouseover=\"document.getElementById('_fb_ccpjkqoylkwwmxncndba_ind_21').style.opacity = 1; document.getElementById('_fs_ccpjkqoylkwwmxncndba_ind_21').style.opacity = 1;\"\n",
              "            onmouseout=\"document.getElementById('_fb_ccpjkqoylkwwmxncndba_ind_21').style.opacity = 0; document.getElementById('_fs_ccpjkqoylkwwmxncndba_ind_21').style.opacity = 0;\"\n",
              "        > _</div></div><div style='display: inline; text-align: center;'\n",
              "    ><div style='display: none; color: #999; padding-top: 0px; font-size: 12px;'>-0.005</div\n",
              "        ><div id='_tp_ccpjkqoylkwwmxncndba_ind_22'\n",
              "            style='display: inline; background: rgba(30.0, 136.0, 229.0, 0.022539116656763607); border-radius: 3px; padding: 0px'\n",
              "            onclick=\"\n",
              "            if (this.previousSibling.style.display == 'none') {\n",
              "                this.previousSibling.style.display = 'block';\n",
              "                this.parentNode.style.display = 'inline-block';\n",
              "            } else {\n",
              "                this.previousSibling.style.display = 'none';\n",
              "                this.parentNode.style.display = 'inline';\n",
              "            }\"\n",
              "            onmouseover=\"document.getElementById('_fb_ccpjkqoylkwwmxncndba_ind_22').style.opacity = 1; document.getElementById('_fs_ccpjkqoylkwwmxncndba_ind_22').style.opacity = 1;\"\n",
              "            onmouseout=\"document.getElementById('_fb_ccpjkqoylkwwmxncndba_ind_22').style.opacity = 0; document.getElementById('_fs_ccpjkqoylkwwmxncndba_ind_22').style.opacity = 0;\"\n",
              "        > with</div></div><div style='display: inline; text-align: center;'\n",
              "    ><div style='display: none; color: #999; padding-top: 0px; font-size: 12px;'>-0.003</div\n",
              "        ><div id='_tp_ccpjkqoylkwwmxncndba_ind_23'\n",
              "            style='display: inline; background: rgba(30.0, 136.0, 229.0, 0.006773618538324436); border-radius: 3px; padding: 0px'\n",
              "            onclick=\"\n",
              "            if (this.previousSibling.style.display == 'none') {\n",
              "                this.previousSibling.style.display = 'block';\n",
              "                this.parentNode.style.display = 'inline-block';\n",
              "            } else {\n",
              "                this.previousSibling.style.display = 'none';\n",
              "                this.parentNode.style.display = 'inline';\n",
              "            }\"\n",
              "            onmouseover=\"document.getElementById('_fb_ccpjkqoylkwwmxncndba_ind_23').style.opacity = 1; document.getElementById('_fs_ccpjkqoylkwwmxncndba_ind_23').style.opacity = 1;\"\n",
              "            onmouseout=\"document.getElementById('_fb_ccpjkqoylkwwmxncndba_ind_23').style.opacity = 0; document.getElementById('_fs_ccpjkqoylkwwmxncndba_ind_23').style.opacity = 0;\"\n",
              "        > _</div></div><div style='display: inline; text-align: center;'\n",
              "    ><div style='display: none; color: #999; padding-top: 0px; font-size: 12px;'>-0.004</div\n",
              "        ><div id='_tp_ccpjkqoylkwwmxncndba_ind_24'\n",
              "            style='display: inline; background: rgba(30.0, 136.0, 229.0, 0.014656367597544028); border-radius: 3px; padding: 0px'\n",
              "            onclick=\"\n",
              "            if (this.previousSibling.style.display == 'none') {\n",
              "                this.previousSibling.style.display = 'block';\n",
              "                this.parentNode.style.display = 'inline-block';\n",
              "            } else {\n",
              "                this.previousSibling.style.display = 'none';\n",
              "                this.parentNode.style.display = 'inline';\n",
              "            }\"\n",
              "            onmouseover=\"document.getElementById('_fb_ccpjkqoylkwwmxncndba_ind_24').style.opacity = 1; document.getElementById('_fs_ccpjkqoylkwwmxncndba_ind_24').style.opacity = 1;\"\n",
              "            onmouseout=\"document.getElementById('_fb_ccpjkqoylkwwmxncndba_ind_24').style.opacity = 0; document.getElementById('_fs_ccpjkqoylkwwmxncndba_ind_24').style.opacity = 0;\"\n",
              "        > tear</div></div><div style='display: inline; text-align: center;'\n",
              "    ><div style='display: none; color: #999; padding-top: 0px; font-size: 12px;'>-0.001</div\n",
              "        ><div id='_tp_ccpjkqoylkwwmxncndba_ind_25'\n",
              "            style='display: inline; background: rgba(54.70588235294111, 122.49411764705886, 213.40784313725496, 0.0); border-radius: 3px; padding: 0px'\n",
              "            onclick=\"\n",
              "            if (this.previousSibling.style.display == 'none') {\n",
              "                this.previousSibling.style.display = 'block';\n",
              "                this.parentNode.style.display = 'inline-block';\n",
              "            } else {\n",
              "                this.previousSibling.style.display = 'none';\n",
              "                this.parentNode.style.display = 'inline';\n",
              "            }\"\n",
              "            onmouseover=\"document.getElementById('_fb_ccpjkqoylkwwmxncndba_ind_25').style.opacity = 1; document.getElementById('_fs_ccpjkqoylkwwmxncndba_ind_25').style.opacity = 1;\"\n",
              "            onmouseout=\"document.getElementById('_fb_ccpjkqoylkwwmxncndba_ind_25').style.opacity = 0; document.getElementById('_fs_ccpjkqoylkwwmxncndba_ind_25').style.opacity = 0;\"\n",
              "        > :</div></div><div style='display: inline; text-align: center;'\n",
              "    ><div style='display: none; color: #999; padding-top: 0px; font-size: 12px;'>0.0</div\n",
              "        ><div id='_tp_ccpjkqoylkwwmxncndba_ind_26'\n",
              "            style='display: inline; background: rgba(230.2941176470614, 26.505882352939775, 102.59215686274348, 0.0); border-radius: 3px; padding: 0px'\n",
              "            onclick=\"\n",
              "            if (this.previousSibling.style.display == 'none') {\n",
              "                this.previousSibling.style.display = 'block';\n",
              "                this.parentNode.style.display = 'inline-block';\n",
              "            } else {\n",
              "                this.previousSibling.style.display = 'none';\n",
              "                this.parentNode.style.display = 'inline';\n",
              "            }\"\n",
              "            onmouseover=\"document.getElementById('_fb_ccpjkqoylkwwmxncndba_ind_26').style.opacity = 1; document.getElementById('_fs_ccpjkqoylkwwmxncndba_ind_26').style.opacity = 1;\"\n",
              "            onmouseout=\"document.getElementById('_fb_ccpjkqoylkwwmxncndba_ind_26').style.opacity = 0; document.getElementById('_fs_ccpjkqoylkwwmxncndba_ind_26').style.opacity = 0;\"\n",
              "        ></div></div></div>"
            ]
          },
          "metadata": {}
        }
      ]
    },
    {
      "cell_type": "code",
      "source": [
        "shap.plots.bar(shap_values[0, :, \"Sarcastic\"])\n"
      ],
      "metadata": {
        "colab": {
          "base_uri": "https://localhost:8080/",
          "height": 570
        },
        "id": "Dyvqzu6E5UUR",
        "outputId": "1d14d2da-7d90-453c-b077-45a18d139772"
      },
      "execution_count": 66,
      "outputs": [
        {
          "output_type": "display_data",
          "data": {
            "text/plain": [
              "<Figure size 800x650 with 1 Axes>"
            ],
            "image/png": "[encoded data removed]"
          },
          "metadata": {}
        }
      ]
    }
  ],
  "metadata": {
    "accelerator": "GPU",
    "colab": {
      "gpuType": "V100",
      "provenance": []
    },
    "kernelspec": {
      "display_name": "Python 3",
      "name": "python3"
    },
    "language_info": {
      "name": "python"
    },
    "widgets": {
      "application/vnd.jupyter.widget-state+json": {
        "88f431ef855b4bb5b66531288077219b": {
          "model_module": "@jupyter-widgets/controls",
          "model_name": "HBoxModel",
          "model_module_version": "1.5.0",
          "state": {
            "_dom_classes": [],
            "_model_module": "@jupyter-widgets/controls",
            "_model_module_version": "1.5.0",
            "_model_name": "HBoxModel",
            "_view_count": null,
            "_view_module": "@jupyter-widgets/controls",
            "_view_module_version": "1.5.0",
            "_view_name": "HBoxView",
            "box_style": "",
            "children": [
              "IPY_MODEL_ed0a44626ba240ef940a8eeeca50206d",
              "IPY_MODEL_ced116406f7b4a3e80dad4f1b9623a42",
              "IPY_MODEL_969308e134bb4047b5b58c33059e99ed"
            ],
            "layout": "IPY_MODEL_d2df0542a77e4b218db6805c6970dd55"
          }
        },
        "ed0a44626ba240ef940a8eeeca50206d": {
          "model_module": "@jupyter-widgets/controls",
          "model_name": "HTMLModel",
          "model_module_version": "1.5.0",
          "state": {
            "_dom_classes": [],
            "_model_module": "@jupyter-widgets/controls",
            "_model_module_version": "1.5.0",
            "_model_name": "HTMLModel",
            "_view_count": null,
            "_view_module": "@jupyter-widgets/controls",
            "_view_module_version": "1.5.0",
            "_view_name": "HTMLView",
            "description": "",
            "description_tooltip": null,
            "layout": "IPY_MODEL_7c8b95c6a7124664b9302f26d63b7bcc",
            "placeholder": "​",
            "style": "IPY_MODEL_276654828934442986050644b9f32162",
            "value": ""
          }
        },
        "ced116406f7b4a3e80dad4f1b9623a42": {
          "model_module": "@jupyter-widgets/controls",
          "model_name": "FloatProgressModel",
          "model_module_version": "1.5.0",
          "state": {
            "_dom_classes": [],
            "_model_module": "@jupyter-widgets/controls",
            "_model_module_version": "1.5.0",
            "_model_name": "FloatProgressModel",
            "_view_count": null,
            "_view_module": "@jupyter-widgets/controls",
            "_view_module_version": "1.5.0",
            "_view_name": "ProgressView",
            "bar_style": "",
            "description": "",
            "description_tooltip": null,
            "layout": "IPY_MODEL_a24bbdc76fa141ad87d41df2e8b9a52d",
            "max": 498,
            "min": 0,
            "orientation": "horizontal",
            "style": "IPY_MODEL_6a99462ae36e45ba84894c24a47408b1",
            "value": 498
          }
        },
        "969308e134bb4047b5b58c33059e99ed": {
          "model_module": "@jupyter-widgets/controls",
          "model_name": "HTMLModel",
          "model_module_version": "1.5.0",
          "state": {
            "_dom_classes": [],
            "_model_module": "@jupyter-widgets/controls",
            "_model_module_version": "1.5.0",
            "_model_name": "HTMLModel",
            "_view_count": null,
            "_view_module": "@jupyter-widgets/controls",
            "_view_module_version": "1.5.0",
            "_view_name": "HTMLView",
            "description": "",
            "description_tooltip": null,
            "layout": "IPY_MODEL_877a5078f59940ceaffc42d7af2b6b50",
            "placeholder": "​",
            "style": "IPY_MODEL_d2fed67f9edb4ed5bd0285172884d718",
            "value": " 504/? [00:06&lt;00:00, 49.43it/s]"
          }
        },
        "d2df0542a77e4b218db6805c6970dd55": {
          "model_module": "@jupyter-widgets/base",
          "model_name": "LayoutModel",
          "model_module_version": "1.2.0",
          "state": {
            "_model_module": "@jupyter-widgets/base",
            "_model_module_version": "1.2.0",
            "_model_name": "LayoutModel",
            "_view_count": null,
            "_view_module": "@jupyter-widgets/base",
            "_view_module_version": "1.2.0",
            "_view_name": "LayoutView",
            "align_content": null,
            "align_items": null,
            "align_self": null,
            "border": null,
            "bottom": null,
            "display": null,
            "flex": null,
            "flex_flow": null,
            "grid_area": null,
            "grid_auto_columns": null,
            "grid_auto_flow": null,
            "grid_auto_rows": null,
            "grid_column": null,
            "grid_gap": null,
            "grid_row": null,
            "grid_template_areas": null,
            "grid_template_columns": null,
            "grid_template_rows": null,
            "height": null,
            "justify_content": null,
            "justify_items": null,
            "left": null,
            "margin": null,
            "max_height": null,
            "max_width": null,
            "min_height": null,
            "min_width": null,
            "object_fit": null,
            "object_position": null,
            "order": null,
            "overflow": null,
            "overflow_x": null,
            "overflow_y": null,
            "padding": null,
            "right": null,
            "top": null,
            "visibility": "hidden",
            "width": null
          }
        },
        "7c8b95c6a7124664b9302f26d63b7bcc": {
          "model_module": "@jupyter-widgets/base",
          "model_name": "LayoutModel",
          "model_module_version": "1.2.0",
          "state": {
            "_model_module": "@jupyter-widgets/base",
            "_model_module_version": "1.2.0",
            "_model_name": "LayoutModel",
            "_view_count": null,
            "_view_module": "@jupyter-widgets/base",
            "_view_module_version": "1.2.0",
            "_view_name": "LayoutView",
            "align_content": null,
            "align_items": null,
            "align_self": null,
            "border": null,
            "bottom": null,
            "display": null,
            "flex": null,
            "flex_flow": null,
            "grid_area": null,
            "grid_auto_columns": null,
            "grid_auto_flow": null,
            "grid_auto_rows": null,
            "grid_column": null,
            "grid_gap": null,
            "grid_row": null,
            "grid_template_areas": null,
            "grid_template_columns": null,
            "grid_template_rows": null,
            "height": null,
            "justify_content": null,
            "justify_items": null,
            "left": null,
            "margin": null,
            "max_height": null,
            "max_width": null,
            "min_height": null,
            "min_width": null,
            "object_fit": null,
            "object_position": null,
            "order": null,
            "overflow": null,
            "overflow_x": null,
            "overflow_y": null,
            "padding": null,
            "right": null,
            "top": null,
            "visibility": null,
            "width": null
          }
        },
        "276654828934442986050644b9f32162": {
          "model_module": "@jupyter-widgets/controls",
          "model_name": "DescriptionStyleModel",
          "model_module_version": "1.5.0",
          "state": {
            "_model_module": "@jupyter-widgets/controls",
            "_model_module_version": "1.5.0",
            "_model_name": "DescriptionStyleModel",
            "_view_count": null,
            "_view_module": "@jupyter-widgets/base",
            "_view_module_version": "1.2.0",
            "_view_name": "StyleView",
            "description_width": ""
          }
        },
        "a24bbdc76fa141ad87d41df2e8b9a52d": {
          "model_module": "@jupyter-widgets/base",
          "model_name": "LayoutModel",
          "model_module_version": "1.2.0",
          "state": {
            "_model_module": "@jupyter-widgets/base",
            "_model_module_version": "1.2.0",
            "_model_name": "LayoutModel",
            "_view_count": null,
            "_view_module": "@jupyter-widgets/base",
            "_view_module_version": "1.2.0",
            "_view_name": "LayoutView",
            "align_content": null,
            "align_items": null,
            "align_self": null,
            "border": null,
            "bottom": null,
            "display": null,
            "flex": null,
            "flex_flow": null,
            "grid_area": null,
            "grid_auto_columns": null,
            "grid_auto_flow": null,
            "grid_auto_rows": null,
            "grid_column": null,
            "grid_gap": null,
            "grid_row": null,
            "grid_template_areas": null,
            "grid_template_columns": null,
            "grid_template_rows": null,
            "height": null,
            "justify_content": null,
            "justify_items": null,
            "left": null,
            "margin": null,
            "max_height": null,
            "max_width": null,
            "min_height": null,
            "min_width": null,
            "object_fit": null,
            "object_position": null,
            "order": null,
            "overflow": null,
            "overflow_x": null,
            "overflow_y": null,
            "padding": null,
            "right": null,
            "top": null,
            "visibility": null,
            "width": null
          }
        },
        "6a99462ae36e45ba84894c24a47408b1": {
          "model_module": "@jupyter-widgets/controls",
          "model_name": "ProgressStyleModel",
          "model_module_version": "1.5.0",
          "state": {
            "_model_module": "@jupyter-widgets/controls",
            "_model_module_version": "1.5.0",
            "_model_name": "ProgressStyleModel",
            "_view_count": null,
            "_view_module": "@jupyter-widgets/base",
            "_view_module_version": "1.2.0",
            "_view_name": "StyleView",
            "bar_color": null,
            "description_width": ""
          }
        },
        "877a5078f59940ceaffc42d7af2b6b50": {
          "model_module": "@jupyter-widgets/base",
          "model_name": "LayoutModel",
          "model_module_version": "1.2.0",
          "state": {
            "_model_module": "@jupyter-widgets/base",
            "_model_module_version": "1.2.0",
            "_model_name": "LayoutModel",
            "_view_count": null,
            "_view_module": "@jupyter-widgets/base",
            "_view_module_version": "1.2.0",
            "_view_name": "LayoutView",
            "align_content": null,
            "align_items": null,
            "align_self": null,
            "border": null,
            "bottom": null,
            "display": null,
            "flex": null,
            "flex_flow": null,
            "grid_area": null,
            "grid_auto_columns": null,
            "grid_auto_flow": null,
            "grid_auto_rows": null,
            "grid_column": null,
            "grid_gap": null,
            "grid_row": null,
            "grid_template_areas": null,
            "grid_template_columns": null,
            "grid_template_rows": null,
            "height": null,
            "justify_content": null,
            "justify_items": null,
            "left": null,
            "margin": null,
            "max_height": null,
            "max_width": null,
            "min_height": null,
            "min_width": null,
            "object_fit": null,
            "object_position": null,
            "order": null,
            "overflow": null,
            "overflow_x": null,
            "overflow_y": null,
            "padding": null,
            "right": null,
            "top": null,
            "visibility": null,
            "width": null
          }
        },
        "d2fed67f9edb4ed5bd0285172884d718": {
          "model_module": "@jupyter-widgets/controls",
          "model_name": "DescriptionStyleModel",
          "model_module_version": "1.5.0",
          "state": {
            "_model_module": "@jupyter-widgets/controls",
            "_model_module_version": "1.5.0",
            "_model_name": "DescriptionStyleModel",
            "_view_count": null,
            "_view_module": "@jupyter-widgets/base",
            "_view_module_version": "1.2.0",
            "_view_name": "StyleView",
            "description_width": ""
          }
        }
      }
    }
  },
  "nbformat": 4,
  "nbformat_minor": 0
}